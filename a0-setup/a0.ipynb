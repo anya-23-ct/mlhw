{
  "cells": [
    {
      "cell_type": "markdown",
      "metadata": {
        "id": "view-in-github",
        "colab_type": "text"
      },
      "source": [
        "<a href=\"https://colab.research.google.com/github/ML-HW-SYS/a0-anya-23-ct/blob/main/a0.ipynb\" target=\"_parent\"><img src=\"https://colab.research.google.com/assets/colab-badge.svg\" alt=\"Open In Colab\"/></a>"
      ]
    },
    {
      "cell_type": "markdown",
      "metadata": {
        "id": "7irm-4sk8Ffa"
      },
      "source": [
        "##Git and Drive Integration"
      ]
    },
    {
      "cell_type": "code",
      "execution_count": 1,
      "metadata": {
        "id": "FJny0Nxk8IuJ"
      },
      "outputs": [],
      "source": [
        "from __future__ import print_function\n",
        "import argparse\n",
        "import torch\n",
        "import torch.nn as nn\n",
        "import torch.nn.functional as F\n",
        "import torch.optim as optim\n",
        "from torchvision import datasets, transforms\n",
        "from torch.optim.lr_scheduler import StepLR\n",
        "import time"
      ]
    },
    {
      "cell_type": "code",
      "source": [
        "import matplotlib.pyplot as plt\n",
        "import numpy as np"
      ],
      "metadata": {
        "id": "r2-zmXPlaE7U"
      },
      "execution_count": 2,
      "outputs": []
    },
    {
      "cell_type": "markdown",
      "metadata": {
        "id": "WERRgUiQLkgH"
      },
      "source": [
        "### Mount google drive"
      ]
    },
    {
      "cell_type": "code",
      "execution_count": 3,
      "metadata": {
        "id": "1ReJf67OJUzd",
        "colab": {
          "base_uri": "https://localhost:8080/"
        },
        "outputId": "bd29ec48-acdb-4822-8a22-4fc9aeac2cc0"
      },
      "outputs": [
        {
          "output_type": "stream",
          "name": "stdout",
          "text": [
            "Drive already mounted at /content/gdrive; to attempt to forcibly remount, call drive.mount(\"/content/gdrive\", force_remount=True).\n"
          ]
        }
      ],
      "source": [
        "# Mount google drive to use a persistent directory structure\n",
        "from google.colab import drive\n",
        "drive.mount('/content/gdrive')"
      ]
    },
    {
      "cell_type": "markdown",
      "metadata": {
        "id": "dOUJ-qFnLqw7"
      },
      "source": [
        "### Clone the assignment repository"
      ]
    },
    {
      "cell_type": "code",
      "execution_count": null,
      "metadata": {
        "id": "PZpt4K8HJ86p",
        "colab": {
          "base_uri": "https://localhost:8080/"
        },
        "outputId": "b6ddc287-e14f-4d5f-bfd7-f3e53c7fe2ad"
      },
      "outputs": [
        {
          "output_type": "stream",
          "name": "stdout",
          "text": [
            "mkdir: cannot create directory ‘/content/gdrive/MyDrive/ece5545’: File exists\n",
            "/content/gdrive/MyDrive/ece5545\n"
          ]
        }
      ],
      "source": [
        "# Create a directory for the course\n",
        "%mkdir /content/gdrive/MyDrive/ece5545\n",
        "%cd /content/gdrive/MyDrive/ece5545\n",
        "\n",
        "# Create files to hold your Github token and username.\n",
        "!echo 'YOUR_TOKEN' > /content/gdrive/MyDrive/ece5545/token.txt\n",
        "!echo 'YOUR_HANDLE' > /content/gdrive/MyDrive/ece5545/git_username.txt\n",
        "\n",
        "# TODO: Navigate to the created files and replace the contents with your token and username.\n",
        "# Do NOT place your token inside of the notebook. This way there is no risk that you will push it to your repo.\n",
        "# Never share your token with anyone, it is basically your github password!"
      ]
    },
    {
      "cell_type": "code",
      "execution_count": null,
      "metadata": {
        "id": "gG0eru2Gj52A",
        "colab": {
          "base_uri": "https://localhost:8080/"
        },
        "outputId": "e4d6b666-f749-458c-93b8-cc646af75115"
      },
      "outputs": [
        {
          "output_type": "stream",
          "name": "stdout",
          "text": [
            "fatal: destination path 'a0' already exists and is not an empty directory.\n"
          ]
        }
      ],
      "source": [
        "with open('/content/gdrive/MyDrive/ece5545/token.txt') as f:\n",
        "    token = f.readline().strip()\n",
        "# Use another file to store your github username\n",
        "with open('/content/gdrive/MyDrive/ece5545/git_username.txt') as f:\n",
        "    handle = f.readline().strip()\n",
        "\n",
        "YOUR_TOKEN = token\n",
        "YOUR_HANDLE = handle\n",
        "\n",
        "!git clone https://{YOUR_TOKEN}@github.com/ML-HW-SYS/a0-{YOUR_HANDLE}.git a0"
      ]
    },
    {
      "cell_type": "markdown",
      "metadata": {
        "id": "eCOS6gDnLvzr"
      },
      "source": [
        "### Add `src` directory to the Python import path"
      ]
    },
    {
      "cell_type": "code",
      "execution_count": 4,
      "metadata": {
        "id": "tZAlavR7KzQ8"
      },
      "outputs": [],
      "source": [
        "# import functions from the src directory in repo\n",
        "import sys\n",
        "sys.path.insert(0, '/content/gdrive/MyDrive/ece5545/a0/src')"
      ]
    },
    {
      "cell_type": "markdown",
      "metadata": {
        "id": "2xC-uqgYL3n9"
      },
      "source": [
        "### Import functions from `src/train_utils.py`"
      ]
    },
    {
      "cell_type": "code",
      "execution_count": 5,
      "metadata": {
        "id": "4We44OWFLF-1"
      },
      "outputs": [],
      "source": [
        "import train_utils\n",
        "from model import *"
      ]
    },
    {
      "cell_type": "markdown",
      "metadata": {
        "id": "hnu4vIr8QJKR"
      },
      "source": [
        "### Make changes to `src` files and push to repo"
      ]
    },
    {
      "cell_type": "code",
      "execution_count": 6,
      "metadata": {
        "id": "CtH2Xy7TQRq7"
      },
      "outputs": [],
      "source": [
        "# You will likely need to set your git user identification settings\n",
        "!git config --global user.email \"ad2258@cornell.edu\"  # update with your email\n",
        "!git config --global user.name \"ANANYA DAS\"   # update with your name"
      ]
    },
    {
      "cell_type": "code",
      "execution_count": 7,
      "metadata": {
        "id": "8IEDZpwTdF_z",
        "colab": {
          "base_uri": "https://localhost:8080/"
        },
        "outputId": "cff7c3ed-6130-4a48-9440-d8ebfda26619"
      },
      "outputs": [
        {
          "output_type": "stream",
          "name": "stdout",
          "text": [
            "/content/gdrive/MyDrive/ece5545/a0\n",
            "\u001b[1m======================================= test session starts ========================================\u001b[0m\n",
            "platform linux -- Python 3.10.12, pytest-7.4.4, pluggy-1.4.0\n",
            "rootdir: /content/gdrive/MyDrive/ece5545/a0\n",
            "plugins: anyio-3.7.1\n",
            "collected 1 item                                                                                   \u001b[0m\n",
            "\n",
            "tests/test_model.py \u001b[32m.\u001b[0m\u001b[32m                                                                        [100%]\u001b[0m\n",
            "\n",
            "\u001b[32m======================================== \u001b[32m\u001b[1m1 passed\u001b[0m\u001b[32m in 1.78s\u001b[0m\u001b[32m =========================================\u001b[0m\n"
          ]
        }
      ],
      "source": [
        "# To run the same tests that are run on Github Classroom\n",
        "%cd /content/gdrive/MyDrive/ece5545/a0\n",
        "!python3 -m pytest"
      ]
    },
    {
      "cell_type": "code",
      "execution_count": null,
      "metadata": {
        "id": "BfekNg28QJXK"
      },
      "outputs": [],
      "source": [
        "# %cd /content/gdrive/MyDrive/ece5545/a0/src\n",
        "# # Navigate to a0/src/model.py and fix the bug (denoted by TODO)\n",
        "# # in the file then commit the changes below\n",
        "# !git commit -am \"fixed bug in model.py\"\n",
        "# !git push"
      ]
    },
    {
      "cell_type": "markdown",
      "metadata": {
        "id": "S4U_ErcR8jm4"
      },
      "source": [
        "## Training Configuration"
      ]
    },
    {
      "cell_type": "code",
      "execution_count": 8,
      "metadata": {
        "id": "48UjE1Ub8miw"
      },
      "outputs": [],
      "source": [
        "batch_size = 128\n",
        "epochs = 5\n",
        "lr = 1.0\n",
        "gamma = 0.7\n",
        "# no_cuda = False\n",
        "seed = 42\n",
        "log_interval = 50\n",
        "save_model = False\n",
        "dry_run = False\n",
        "\n",
        "# Derived parameters\n",
        "# use_cuda = not no_cuda and torch.cuda.is_available()\n",
        "torch.manual_seed(seed)\n",
        "\n",
        "def set_kwargs(batch_size, use_cuda):\n",
        "  device = torch.device(\"cuda\" if use_cuda else \"cpu\")\n",
        "  train_kwargs = {'batch_size': batch_size}\n",
        "  test_kwargs = {'batch_size': batch_size}\n",
        "  if use_cuda:\n",
        "      cuda_kwargs = {'num_workers': 1,\n",
        "                    'pin_memory': True,\n",
        "                    'shuffle': True}\n",
        "      train_kwargs.update(cuda_kwargs)\n",
        "      test_kwargs.update(cuda_kwargs)\n",
        "  return device, train_kwargs, test_kwargs"
      ]
    },
    {
      "cell_type": "markdown",
      "metadata": {
        "id": "8Op3rAAv8r6y"
      },
      "source": [
        "## Data Loaders and Optimizer Setup"
      ]
    },
    {
      "cell_type": "code",
      "execution_count": 9,
      "metadata": {
        "id": "bwFBxzFA8yy8"
      },
      "outputs": [],
      "source": [
        "def dataloaders_and_optimizer_setup(train_kwargs, test_kwargs):\n",
        "  transform=transforms.Compose([\n",
        "      transforms.ToTensor(),\n",
        "      transforms.Normalize((0.1307,), (0.3081,))\n",
        "      ])\n",
        "  dataset1 = datasets.MNIST('/content/gdrive/MyDrive/ece5545/data', train=True, download=True,\n",
        "                      transform=transform)\n",
        "  dataset2 = datasets.MNIST('/content/gdrive/MyDrive/ece5545/data', train=False,\n",
        "                        transform=transform)\n",
        "  train_loader = torch.utils.data.DataLoader(dataset1,**train_kwargs)\n",
        "  test_loader = torch.utils.data.DataLoader(dataset2, **test_kwargs)\n",
        "\n",
        "  model = Net().to(device)\n",
        "  optimizer = optim.Adadelta(model.parameters(), lr=lr)\n",
        "\n",
        "  scheduler = StepLR(optimizer, step_size=1, gamma=gamma)\n",
        "\n",
        "  return train_loader, test_loader, model, optimizer, scheduler"
      ]
    },
    {
      "cell_type": "markdown",
      "metadata": {
        "id": "y10wFNoo81-U"
      },
      "source": [
        "## Training Loop"
      ]
    },
    {
      "cell_type": "code",
      "execution_count": 10,
      "metadata": {
        "id": "NGnAaTm64X_l"
      },
      "outputs": [],
      "source": [
        "import importlib\n",
        "importlib.reload(train_utils)\n",
        "# we use importlib to make sure that we are loading\n",
        "# the latest version of train_utils after any changes\n",
        "# that you may have done\n",
        "\n",
        "def run_model (use_cuda, epochs, model, device, train_loader, optimizer, log_interval, dry_run, test_loader, scheduler):\n",
        "\n",
        "  # use_cuda = not no_cuda and torch.cuda.is_available()\n",
        "  # device = torch.device(\"cuda\" if use_cuda else \"cpu\")\n",
        "\n",
        "  time_array = []\n",
        "  for epoch in range(1, epochs + 1):\n",
        "      train_time = train_utils.train(model, device, train_loader, optimizer, epoch, log_interval, dry_run)\n",
        "      time_array.append(train_time)\n",
        "      train_utils.test(model, device, test_loader)\n",
        "      scheduler.step()\n",
        "\n",
        "  if save_model:\n",
        "      torch.save(model.state_dict(), \"mnist_cnn.pt\")\n",
        "\n",
        "  return time_array"
      ]
    },
    {
      "cell_type": "code",
      "execution_count": 11,
      "metadata": {
        "id": "E-AAD7e86Az_",
        "colab": {
          "base_uri": "https://localhost:8080/"
        },
        "outputId": "37c05963-f143-42ea-8dc0-d701e73b91ae"
      },
      "outputs": [
        {
          "output_type": "stream",
          "name": "stdout",
          "text": [
            "Mon Feb  5 13:30:47 2024       \n",
            "+---------------------------------------------------------------------------------------+\n",
            "| NVIDIA-SMI 535.104.05             Driver Version: 535.104.05   CUDA Version: 12.2     |\n",
            "|-----------------------------------------+----------------------+----------------------+\n",
            "| GPU  Name                 Persistence-M | Bus-Id        Disp.A | Volatile Uncorr. ECC |\n",
            "| Fan  Temp   Perf          Pwr:Usage/Cap |         Memory-Usage | GPU-Util  Compute M. |\n",
            "|                                         |                      |               MIG M. |\n",
            "|=========================================+======================+======================|\n",
            "|   0  Tesla T4                       Off | 00000000:00:04.0 Off |                    0 |\n",
            "| N/A   44C    P8              10W /  70W |      0MiB / 15360MiB |      0%      Default |\n",
            "|                                         |                      |                  N/A |\n",
            "+-----------------------------------------+----------------------+----------------------+\n",
            "                                                                                         \n",
            "+---------------------------------------------------------------------------------------+\n",
            "| Processes:                                                                            |\n",
            "|  GPU   GI   CI        PID   Type   Process name                            GPU Memory |\n",
            "|        ID   ID                                                             Usage      |\n",
            "|=======================================================================================|\n",
            "|  No running processes found                                                           |\n",
            "+---------------------------------------------------------------------------------------+\n"
          ]
        }
      ],
      "source": [
        "# Diagnostic information about the used GPU device\n",
        "!nvidia-smi"
      ]
    },
    {
      "cell_type": "code",
      "source": [
        "def print_time_info(device,batch,lst):\n",
        "  np_time = np.array(lst)\n",
        "  avg_time = np.mean(np_time)\n",
        "  stddev_time = np.std(np_time)\n",
        "  print('For device {}, batch_size of {}, average training time per epoch was {} and standard deviation was {}'.format(device,batch_size, round(avg_time,3), round(stddev_time,3)))"
      ],
      "metadata": {
        "id": "mBuUihN3htak"
      },
      "execution_count": 25,
      "outputs": []
    },
    {
      "cell_type": "code",
      "source": [
        "def collate_time_info(times):\n",
        "  mean_times = []\n",
        "  stddev_times = []\n",
        "  for time_array in times:\n",
        "    avg_time = np.mean(time_array)\n",
        "    stddev_time = np.std(time_array)\n",
        "    mean_times.append(avg_time)\n",
        "    stddev_times.append(stddev_time)\n",
        "  return mean_times, stddev_times"
      ],
      "metadata": {
        "id": "2Lu6yiAIXNA7"
      },
      "execution_count": 13,
      "outputs": []
    },
    {
      "cell_type": "code",
      "source": [
        "batch_sizes = [64,128,256,512,1024]\n",
        "gpu_times = []"
      ],
      "metadata": {
        "id": "yW4ldjXeibt8"
      },
      "execution_count": 14,
      "outputs": []
    },
    {
      "cell_type": "code",
      "source": [
        "%pwd"
      ],
      "metadata": {
        "colab": {
          "base_uri": "https://localhost:8080/",
          "height": 35
        },
        "id": "5UtvTaf5a-5N",
        "outputId": "610240a9-dc67-42cf-b4c4-0398c8782825"
      },
      "execution_count": 15,
      "outputs": [
        {
          "output_type": "execute_result",
          "data": {
            "text/plain": [
              "'/content/gdrive/MyDrive/ece5545/a0'"
            ],
            "application/vnd.google.colaboratory.intrinsic+json": {
              "type": "string"
            }
          },
          "metadata": {},
          "execution_count": 15
        }
      ]
    },
    {
      "cell_type": "code",
      "source": [
        "# %%capture captured_output\n",
        "\n",
        "for batch_size in batch_sizes:\n",
        "  print('batch_size is {} \\n'.format(batch_size))\n",
        "  device, cur_train_kwargs, cur_test_kwargs = set_kwargs(batch_size, True)\n",
        "  cur_train_loader, cur_test_loader, cur_model, cur_optimizer, cur_scheduler = dataloaders_and_optimizer_setup(cur_train_kwargs, cur_test_kwargs)\n",
        "  gpu_time = run_model(True, epochs, cur_model, device, cur_train_loader, cur_optimizer, log_interval, dry_run, cur_test_loader, cur_scheduler)\n",
        "  gpu_times.append(gpu_time)\n",
        "\n",
        "# with open('/content/gdrive/My Drive/ece5545/a0/gpu_train_output.txt', 'w') as f:\n",
        "#     f.write(captured_output.stdout)"
      ],
      "metadata": {
        "colab": {
          "base_uri": "https://localhost:8080/"
        },
        "id": "LwrOd-Qml73u",
        "outputId": "836d071f-1a1a-4e34-b49d-de2bc2140045"
      },
      "execution_count": 16,
      "outputs": [
        {
          "output_type": "stream",
          "name": "stdout",
          "text": [
            "batch_size is 64 \n",
            "\n",
            "Train Epoch: 1 [0/60000 (0%)]\tLoss: 2.302757\n",
            "Train Epoch: 1 [3200/60000 (5%)]\tLoss: 0.644664\n",
            "Train Epoch: 1 [6400/60000 (11%)]\tLoss: 0.354379\n",
            "Train Epoch: 1 [9600/60000 (16%)]\tLoss: 0.262398\n",
            "Train Epoch: 1 [12800/60000 (21%)]\tLoss: 0.274490\n",
            "Train Epoch: 1 [16000/60000 (27%)]\tLoss: 0.139873\n",
            "Train Epoch: 1 [19200/60000 (32%)]\tLoss: 0.071340\n",
            "Train Epoch: 1 [22400/60000 (37%)]\tLoss: 0.060818\n",
            "Train Epoch: 1 [25600/60000 (43%)]\tLoss: 0.160247\n",
            "Train Epoch: 1 [28800/60000 (48%)]\tLoss: 0.078773\n",
            "Train Epoch: 1 [32000/60000 (53%)]\tLoss: 0.145625\n",
            "Train Epoch: 1 [35200/60000 (59%)]\tLoss: 0.238767\n",
            "Train Epoch: 1 [38400/60000 (64%)]\tLoss: 0.046549\n",
            "Train Epoch: 1 [41600/60000 (69%)]\tLoss: 0.081222\n",
            "Train Epoch: 1 [44800/60000 (75%)]\tLoss: 0.058807\n",
            "Train Epoch: 1 [48000/60000 (80%)]\tLoss: 0.040978\n",
            "Train Epoch: 1 [51200/60000 (85%)]\tLoss: 0.052664\n",
            "Train Epoch: 1 [54400/60000 (91%)]\tLoss: 0.107152\n",
            "Train Epoch: 1 [57600/60000 (96%)]\tLoss: 0.108867\n",
            "\n",
            "Epoch 1 time = 19.39s on device cuda\n",
            "\n",
            "Test set: Average loss: 0.0494, Accuracy: 9840/10000 (98%)\n",
            "\n",
            "Train Epoch: 2 [0/60000 (0%)]\tLoss: 0.083481\n",
            "Train Epoch: 2 [3200/60000 (5%)]\tLoss: 0.079028\n",
            "Train Epoch: 2 [6400/60000 (11%)]\tLoss: 0.055243\n",
            "Train Epoch: 2 [9600/60000 (16%)]\tLoss: 0.123877\n",
            "Train Epoch: 2 [12800/60000 (21%)]\tLoss: 0.031773\n",
            "Train Epoch: 2 [16000/60000 (27%)]\tLoss: 0.007124\n",
            "Train Epoch: 2 [19200/60000 (32%)]\tLoss: 0.050148\n",
            "Train Epoch: 2 [22400/60000 (37%)]\tLoss: 0.080536\n",
            "Train Epoch: 2 [25600/60000 (43%)]\tLoss: 0.166560\n",
            "Train Epoch: 2 [28800/60000 (48%)]\tLoss: 0.105542\n",
            "Train Epoch: 2 [32000/60000 (53%)]\tLoss: 0.013926\n",
            "Train Epoch: 2 [35200/60000 (59%)]\tLoss: 0.084373\n",
            "Train Epoch: 2 [38400/60000 (64%)]\tLoss: 0.013599\n",
            "Train Epoch: 2 [41600/60000 (69%)]\tLoss: 0.076096\n",
            "Train Epoch: 2 [44800/60000 (75%)]\tLoss: 0.098724\n",
            "Train Epoch: 2 [48000/60000 (80%)]\tLoss: 0.075063\n",
            "Train Epoch: 2 [51200/60000 (85%)]\tLoss: 0.363719\n",
            "Train Epoch: 2 [54400/60000 (91%)]\tLoss: 0.028645\n",
            "Train Epoch: 2 [57600/60000 (96%)]\tLoss: 0.005808\n",
            "\n",
            "Epoch 2 time = 18.16s on device cuda\n",
            "\n",
            "Test set: Average loss: 0.0328, Accuracy: 9888/10000 (99%)\n",
            "\n",
            "Train Epoch: 3 [0/60000 (0%)]\tLoss: 0.002627\n",
            "Train Epoch: 3 [3200/60000 (5%)]\tLoss: 0.007908\n",
            "Train Epoch: 3 [6400/60000 (11%)]\tLoss: 0.017715\n",
            "Train Epoch: 3 [9600/60000 (16%)]\tLoss: 0.007525\n",
            "Train Epoch: 3 [12800/60000 (21%)]\tLoss: 0.035571\n",
            "Train Epoch: 3 [16000/60000 (27%)]\tLoss: 0.014098\n",
            "Train Epoch: 3 [19200/60000 (32%)]\tLoss: 0.012051\n",
            "Train Epoch: 3 [22400/60000 (37%)]\tLoss: 0.055310\n",
            "Train Epoch: 3 [25600/60000 (43%)]\tLoss: 0.012308\n",
            "Train Epoch: 3 [28800/60000 (48%)]\tLoss: 0.248773\n",
            "Train Epoch: 3 [32000/60000 (53%)]\tLoss: 0.015399\n",
            "Train Epoch: 3 [35200/60000 (59%)]\tLoss: 0.041765\n",
            "Train Epoch: 3 [38400/60000 (64%)]\tLoss: 0.038357\n",
            "Train Epoch: 3 [41600/60000 (69%)]\tLoss: 0.019645\n",
            "Train Epoch: 3 [44800/60000 (75%)]\tLoss: 0.017830\n",
            "Train Epoch: 3 [48000/60000 (80%)]\tLoss: 0.027149\n",
            "Train Epoch: 3 [51200/60000 (85%)]\tLoss: 0.260708\n",
            "Train Epoch: 3 [54400/60000 (91%)]\tLoss: 0.004012\n",
            "Train Epoch: 3 [57600/60000 (96%)]\tLoss: 0.086139\n",
            "\n",
            "Epoch 3 time = 17.81s on device cuda\n",
            "\n",
            "Test set: Average loss: 0.0329, Accuracy: 9888/10000 (99%)\n",
            "\n",
            "Train Epoch: 4 [0/60000 (0%)]\tLoss: 0.027590\n",
            "Train Epoch: 4 [3200/60000 (5%)]\tLoss: 0.007391\n",
            "Train Epoch: 4 [6400/60000 (11%)]\tLoss: 0.005895\n",
            "Train Epoch: 4 [9600/60000 (16%)]\tLoss: 0.105870\n",
            "Train Epoch: 4 [12800/60000 (21%)]\tLoss: 0.028539\n",
            "Train Epoch: 4 [16000/60000 (27%)]\tLoss: 0.023280\n",
            "Train Epoch: 4 [19200/60000 (32%)]\tLoss: 0.121095\n",
            "Train Epoch: 4 [22400/60000 (37%)]\tLoss: 0.005031\n",
            "Train Epoch: 4 [25600/60000 (43%)]\tLoss: 0.053082\n",
            "Train Epoch: 4 [28800/60000 (48%)]\tLoss: 0.140521\n",
            "Train Epoch: 4 [32000/60000 (53%)]\tLoss: 0.072545\n",
            "Train Epoch: 4 [35200/60000 (59%)]\tLoss: 0.002496\n",
            "Train Epoch: 4 [38400/60000 (64%)]\tLoss: 0.008838\n",
            "Train Epoch: 4 [41600/60000 (69%)]\tLoss: 0.032554\n",
            "Train Epoch: 4 [44800/60000 (75%)]\tLoss: 0.042799\n",
            "Train Epoch: 4 [48000/60000 (80%)]\tLoss: 0.004042\n",
            "Train Epoch: 4 [51200/60000 (85%)]\tLoss: 0.080015\n",
            "Train Epoch: 4 [54400/60000 (91%)]\tLoss: 0.009046\n",
            "Train Epoch: 4 [57600/60000 (96%)]\tLoss: 0.010641\n",
            "\n",
            "Epoch 4 time = 17.67s on device cuda\n",
            "\n",
            "Test set: Average loss: 0.0311, Accuracy: 9900/10000 (99%)\n",
            "\n",
            "Train Epoch: 5 [0/60000 (0%)]\tLoss: 0.002924\n",
            "Train Epoch: 5 [3200/60000 (5%)]\tLoss: 0.008665\n",
            "Train Epoch: 5 [6400/60000 (11%)]\tLoss: 0.022740\n",
            "Train Epoch: 5 [9600/60000 (16%)]\tLoss: 0.006195\n",
            "Train Epoch: 5 [12800/60000 (21%)]\tLoss: 0.022414\n",
            "Train Epoch: 5 [16000/60000 (27%)]\tLoss: 0.004839\n",
            "Train Epoch: 5 [19200/60000 (32%)]\tLoss: 0.012999\n",
            "Train Epoch: 5 [22400/60000 (37%)]\tLoss: 0.029429\n",
            "Train Epoch: 5 [25600/60000 (43%)]\tLoss: 0.031067\n",
            "Train Epoch: 5 [28800/60000 (48%)]\tLoss: 0.033127\n",
            "Train Epoch: 5 [32000/60000 (53%)]\tLoss: 0.024869\n",
            "Train Epoch: 5 [35200/60000 (59%)]\tLoss: 0.022619\n",
            "Train Epoch: 5 [38400/60000 (64%)]\tLoss: 0.003354\n",
            "Train Epoch: 5 [41600/60000 (69%)]\tLoss: 0.083751\n",
            "Train Epoch: 5 [44800/60000 (75%)]\tLoss: 0.036116\n",
            "Train Epoch: 5 [48000/60000 (80%)]\tLoss: 0.022946\n",
            "Train Epoch: 5 [51200/60000 (85%)]\tLoss: 0.017270\n",
            "Train Epoch: 5 [54400/60000 (91%)]\tLoss: 0.002522\n",
            "Train Epoch: 5 [57600/60000 (96%)]\tLoss: 0.016764\n",
            "\n",
            "Epoch 5 time = 19.15s on device cuda\n",
            "\n",
            "Test set: Average loss: 0.0262, Accuracy: 9917/10000 (99%)\n",
            "\n",
            "batch_size is 128 \n",
            "\n",
            "Train Epoch: 1 [0/60000 (0%)]\tLoss: 2.306391\n",
            "Train Epoch: 1 [6400/60000 (11%)]\tLoss: 0.294070\n",
            "Train Epoch: 1 [12800/60000 (21%)]\tLoss: 0.158374\n",
            "Train Epoch: 1 [19200/60000 (32%)]\tLoss: 0.213319\n",
            "Train Epoch: 1 [25600/60000 (43%)]\tLoss: 0.176918\n",
            "Train Epoch: 1 [32000/60000 (53%)]\tLoss: 0.146743\n",
            "Train Epoch: 1 [38400/60000 (64%)]\tLoss: 0.161924\n",
            "Train Epoch: 1 [44800/60000 (75%)]\tLoss: 0.179466\n",
            "Train Epoch: 1 [51200/60000 (85%)]\tLoss: 0.027516\n",
            "Train Epoch: 1 [57600/60000 (96%)]\tLoss: 0.035495\n",
            "\n",
            "Epoch 1 time = 16.4s on device cuda\n",
            "\n",
            "Test set: Average loss: 0.0448, Accuracy: 9851/10000 (99%)\n",
            "\n",
            "Train Epoch: 2 [0/60000 (0%)]\tLoss: 0.104664\n",
            "Train Epoch: 2 [6400/60000 (11%)]\tLoss: 0.116643\n",
            "Train Epoch: 2 [12800/60000 (21%)]\tLoss: 0.048736\n",
            "Train Epoch: 2 [19200/60000 (32%)]\tLoss: 0.050457\n",
            "Train Epoch: 2 [25600/60000 (43%)]\tLoss: 0.233410\n",
            "Train Epoch: 2 [32000/60000 (53%)]\tLoss: 0.016821\n",
            "Train Epoch: 2 [38400/60000 (64%)]\tLoss: 0.096829\n",
            "Train Epoch: 2 [44800/60000 (75%)]\tLoss: 0.026170\n",
            "Train Epoch: 2 [51200/60000 (85%)]\tLoss: 0.108592\n",
            "Train Epoch: 2 [57600/60000 (96%)]\tLoss: 0.032533\n",
            "\n",
            "Epoch 2 time = 16.09s on device cuda\n",
            "\n",
            "Test set: Average loss: 0.0358, Accuracy: 9861/10000 (99%)\n",
            "\n",
            "Train Epoch: 3 [0/60000 (0%)]\tLoss: 0.036790\n",
            "Train Epoch: 3 [6400/60000 (11%)]\tLoss: 0.027361\n",
            "Train Epoch: 3 [12800/60000 (21%)]\tLoss: 0.070498\n",
            "Train Epoch: 3 [19200/60000 (32%)]\tLoss: 0.027054\n",
            "Train Epoch: 3 [25600/60000 (43%)]\tLoss: 0.052979\n",
            "Train Epoch: 3 [32000/60000 (53%)]\tLoss: 0.089246\n",
            "Train Epoch: 3 [38400/60000 (64%)]\tLoss: 0.131874\n",
            "Train Epoch: 3 [44800/60000 (75%)]\tLoss: 0.025967\n",
            "Train Epoch: 3 [51200/60000 (85%)]\tLoss: 0.055178\n",
            "Train Epoch: 3 [57600/60000 (96%)]\tLoss: 0.047522\n",
            "\n",
            "Epoch 3 time = 16.46s on device cuda\n",
            "\n",
            "Test set: Average loss: 0.0324, Accuracy: 9894/10000 (99%)\n",
            "\n",
            "Train Epoch: 4 [0/60000 (0%)]\tLoss: 0.026813\n",
            "Train Epoch: 4 [6400/60000 (11%)]\tLoss: 0.013125\n",
            "Train Epoch: 4 [12800/60000 (21%)]\tLoss: 0.093373\n",
            "Train Epoch: 4 [19200/60000 (32%)]\tLoss: 0.052288\n",
            "Train Epoch: 4 [25600/60000 (43%)]\tLoss: 0.021345\n",
            "Train Epoch: 4 [32000/60000 (53%)]\tLoss: 0.029782\n",
            "Train Epoch: 4 [38400/60000 (64%)]\tLoss: 0.030602\n",
            "Train Epoch: 4 [44800/60000 (75%)]\tLoss: 0.016046\n",
            "Train Epoch: 4 [51200/60000 (85%)]\tLoss: 0.034652\n",
            "Train Epoch: 4 [57600/60000 (96%)]\tLoss: 0.038031\n",
            "\n",
            "Epoch 4 time = 16.81s on device cuda\n",
            "\n",
            "Test set: Average loss: 0.0299, Accuracy: 9904/10000 (99%)\n",
            "\n",
            "Train Epoch: 5 [0/60000 (0%)]\tLoss: 0.014222\n",
            "Train Epoch: 5 [6400/60000 (11%)]\tLoss: 0.060799\n",
            "Train Epoch: 5 [12800/60000 (21%)]\tLoss: 0.012911\n",
            "Train Epoch: 5 [19200/60000 (32%)]\tLoss: 0.053218\n",
            "Train Epoch: 5 [25600/60000 (43%)]\tLoss: 0.063508\n",
            "Train Epoch: 5 [32000/60000 (53%)]\tLoss: 0.050759\n",
            "Train Epoch: 5 [38400/60000 (64%)]\tLoss: 0.024779\n",
            "Train Epoch: 5 [44800/60000 (75%)]\tLoss: 0.007828\n",
            "Train Epoch: 5 [51200/60000 (85%)]\tLoss: 0.030082\n",
            "Train Epoch: 5 [57600/60000 (96%)]\tLoss: 0.045877\n",
            "\n",
            "Epoch 5 time = 15.42s on device cuda\n",
            "\n",
            "Test set: Average loss: 0.0274, Accuracy: 9904/10000 (99%)\n",
            "\n",
            "batch_size is 256 \n",
            "\n",
            "Train Epoch: 1 [0/60000 (0%)]\tLoss: 2.329067\n",
            "Train Epoch: 1 [12800/60000 (21%)]\tLoss: 0.272340\n",
            "Train Epoch: 1 [25600/60000 (43%)]\tLoss: 0.176548\n",
            "Train Epoch: 1 [38400/60000 (64%)]\tLoss: 0.216273\n",
            "Train Epoch: 1 [51200/60000 (85%)]\tLoss: 0.206766\n",
            "\n",
            "Epoch 1 time = 15.51s on device cuda\n",
            "\n",
            "Test set: Average loss: 0.0611, Accuracy: 9799/10000 (98%)\n",
            "\n",
            "Train Epoch: 2 [0/60000 (0%)]\tLoss: 0.148291\n",
            "Train Epoch: 2 [12800/60000 (21%)]\tLoss: 0.102851\n",
            "Train Epoch: 2 [25600/60000 (43%)]\tLoss: 0.059438\n",
            "Train Epoch: 2 [38400/60000 (64%)]\tLoss: 0.055292\n",
            "Train Epoch: 2 [51200/60000 (85%)]\tLoss: 0.076812\n",
            "\n",
            "Epoch 2 time = 15.9s on device cuda\n",
            "\n",
            "Test set: Average loss: 0.0389, Accuracy: 9863/10000 (99%)\n",
            "\n",
            "Train Epoch: 3 [0/60000 (0%)]\tLoss: 0.023510\n",
            "Train Epoch: 3 [12800/60000 (21%)]\tLoss: 0.028670\n",
            "Train Epoch: 3 [25600/60000 (43%)]\tLoss: 0.079676\n",
            "Train Epoch: 3 [38400/60000 (64%)]\tLoss: 0.031995\n",
            "Train Epoch: 3 [51200/60000 (85%)]\tLoss: 0.078831\n",
            "\n",
            "Epoch 3 time = 14.71s on device cuda\n",
            "\n",
            "Test set: Average loss: 0.0301, Accuracy: 9893/10000 (99%)\n",
            "\n",
            "Train Epoch: 4 [0/60000 (0%)]\tLoss: 0.113276\n",
            "Train Epoch: 4 [12800/60000 (21%)]\tLoss: 0.020658\n",
            "Train Epoch: 4 [25600/60000 (43%)]\tLoss: 0.084621\n",
            "Train Epoch: 4 [38400/60000 (64%)]\tLoss: 0.038588\n",
            "Train Epoch: 4 [51200/60000 (85%)]\tLoss: 0.030256\n",
            "\n",
            "Epoch 4 time = 15.69s on device cuda\n",
            "\n",
            "Test set: Average loss: 0.0304, Accuracy: 9899/10000 (99%)\n",
            "\n",
            "Train Epoch: 5 [0/60000 (0%)]\tLoss: 0.046708\n",
            "Train Epoch: 5 [12800/60000 (21%)]\tLoss: 0.017502\n",
            "Train Epoch: 5 [25600/60000 (43%)]\tLoss: 0.045849\n",
            "Train Epoch: 5 [38400/60000 (64%)]\tLoss: 0.076868\n",
            "Train Epoch: 5 [51200/60000 (85%)]\tLoss: 0.030663\n",
            "\n",
            "Epoch 5 time = 15.68s on device cuda\n",
            "\n",
            "Test set: Average loss: 0.0297, Accuracy: 9899/10000 (99%)\n",
            "\n",
            "batch_size is 512 \n",
            "\n",
            "Train Epoch: 1 [0/60000 (0%)]\tLoss: 2.298026\n",
            "Train Epoch: 1 [25600/60000 (42%)]\tLoss: 0.296374\n",
            "Train Epoch: 1 [51200/60000 (85%)]\tLoss: 0.212517\n",
            "\n",
            "Epoch 1 time = 14.2s on device cuda\n",
            "\n",
            "Test set: Average loss: 0.1336, Accuracy: 9568/10000 (96%)\n",
            "\n",
            "Train Epoch: 2 [0/60000 (0%)]\tLoss: 0.195774\n",
            "Train Epoch: 2 [25600/60000 (42%)]\tLoss: 0.130481\n",
            "Train Epoch: 2 [51200/60000 (85%)]\tLoss: 0.095189\n",
            "\n",
            "Epoch 2 time = 15.03s on device cuda\n",
            "\n",
            "Test set: Average loss: 0.0507, Accuracy: 9833/10000 (98%)\n",
            "\n",
            "Train Epoch: 3 [0/60000 (0%)]\tLoss: 0.130441\n",
            "Train Epoch: 3 [25600/60000 (42%)]\tLoss: 0.043213\n",
            "Train Epoch: 3 [51200/60000 (85%)]\tLoss: 0.053652\n",
            "\n",
            "Epoch 3 time = 16.72s on device cuda\n",
            "\n",
            "Test set: Average loss: 0.0398, Accuracy: 9860/10000 (99%)\n",
            "\n",
            "Train Epoch: 4 [0/60000 (0%)]\tLoss: 0.034715\n",
            "Train Epoch: 4 [25600/60000 (42%)]\tLoss: 0.071970\n",
            "Train Epoch: 4 [51200/60000 (85%)]\tLoss: 0.032380\n",
            "\n",
            "Epoch 4 time = 15.0s on device cuda\n",
            "\n",
            "Test set: Average loss: 0.0342, Accuracy: 9877/10000 (99%)\n",
            "\n",
            "Train Epoch: 5 [0/60000 (0%)]\tLoss: 0.065914\n",
            "Train Epoch: 5 [25600/60000 (42%)]\tLoss: 0.068937\n",
            "Train Epoch: 5 [51200/60000 (85%)]\tLoss: 0.054264\n",
            "\n",
            "Epoch 5 time = 13.94s on device cuda\n",
            "\n",
            "Test set: Average loss: 0.0326, Accuracy: 9884/10000 (99%)\n",
            "\n",
            "batch_size is 1024 \n",
            "\n",
            "Train Epoch: 1 [0/60000 (0%)]\tLoss: 2.299166\n",
            "Train Epoch: 1 [51200/60000 (85%)]\tLoss: 0.247906\n",
            "\n",
            "Epoch 1 time = 13.73s on device cuda\n",
            "\n",
            "Test set: Average loss: 0.1222, Accuracy: 9600/10000 (96%)\n",
            "\n",
            "Train Epoch: 2 [0/60000 (0%)]\tLoss: 0.176491\n",
            "Train Epoch: 2 [51200/60000 (85%)]\tLoss: 0.115046\n",
            "\n",
            "Epoch 2 time = 13.75s on device cuda\n",
            "\n",
            "Test set: Average loss: 0.0692, Accuracy: 9780/10000 (98%)\n",
            "\n",
            "Train Epoch: 3 [0/60000 (0%)]\tLoss: 0.113793\n",
            "Train Epoch: 3 [51200/60000 (85%)]\tLoss: 0.124782\n",
            "\n",
            "Epoch 3 time = 13.82s on device cuda\n",
            "\n",
            "Test set: Average loss: 0.0514, Accuracy: 9823/10000 (98%)\n",
            "\n",
            "Train Epoch: 4 [0/60000 (0%)]\tLoss: 0.097273\n",
            "Train Epoch: 4 [51200/60000 (85%)]\tLoss: 0.079110\n",
            "\n",
            "Epoch 4 time = 13.6s on device cuda\n",
            "\n",
            "Test set: Average loss: 0.0435, Accuracy: 9850/10000 (98%)\n",
            "\n",
            "Train Epoch: 5 [0/60000 (0%)]\tLoss: 0.076842\n",
            "Train Epoch: 5 [51200/60000 (85%)]\tLoss: 0.083633\n",
            "\n",
            "Epoch 5 time = 14.06s on device cuda\n",
            "\n",
            "Test set: Average loss: 0.0412, Accuracy: 9857/10000 (99%)\n",
            "\n"
          ]
        }
      ]
    },
    {
      "cell_type": "code",
      "source": [
        "gpu_mean_times, gpu_stddev_times = collate_time_info(gpu_times)"
      ],
      "metadata": {
        "id": "1whObX62YaNI"
      },
      "execution_count": 17,
      "outputs": []
    },
    {
      "cell_type": "code",
      "source": [
        "# device = torch.device(\"cpu\")\n",
        "# use_cuda = False\n",
        "cpu_times = []"
      ],
      "metadata": {
        "id": "Ip61bI12pK3o"
      },
      "execution_count": 18,
      "outputs": []
    },
    {
      "cell_type": "code",
      "source": [
        "# %%capture captured_output\n",
        "\n",
        "for batch_size in batch_sizes:\n",
        "  print('batch_size is {} \\n'.format(batch_size))\n",
        "  device, cur_train_kwargs, cur_test_kwargs = set_kwargs(batch_size, False)\n",
        "  cur_train_loader, cur_test_loader, cur_model, cur_optimizer, cur_scheduler = dataloaders_and_optimizer_setup(cur_train_kwargs, cur_test_kwargs)\n",
        "  cpu_time = run_model(False, epochs, cur_model, device, cur_train_loader, cur_optimizer, log_interval, dry_run, cur_test_loader, cur_scheduler)\n",
        "  cpu_times.append(cpu_time)\n",
        "\n",
        "# with open('/content/gdrive/My Drive/ece5545/a0/gpu_train_output.txt', 'w') as f:\n",
        "#     f.write(captured_output.stdout)"
      ],
      "metadata": {
        "colab": {
          "base_uri": "https://localhost:8080/"
        },
        "id": "nq4O59oLpHQw",
        "outputId": "c0699661-4290-4073-b14b-3a05d42af4ac"
      },
      "execution_count": 19,
      "outputs": [
        {
          "output_type": "stream",
          "name": "stdout",
          "text": [
            "batch_size is 64 \n",
            "\n",
            "Train Epoch: 1 [0/60000 (0%)]\tLoss: 2.295828\n",
            "Train Epoch: 1 [3200/60000 (5%)]\tLoss: 0.158575\n",
            "Train Epoch: 1 [6400/60000 (11%)]\tLoss: 0.298950\n",
            "Train Epoch: 1 [9600/60000 (16%)]\tLoss: 0.170954\n",
            "Train Epoch: 1 [12800/60000 (21%)]\tLoss: 0.160294\n",
            "Train Epoch: 1 [16000/60000 (27%)]\tLoss: 0.208553\n",
            "Train Epoch: 1 [19200/60000 (32%)]\tLoss: 0.301717\n",
            "Train Epoch: 1 [22400/60000 (37%)]\tLoss: 0.124233\n",
            "Train Epoch: 1 [25600/60000 (43%)]\tLoss: 0.070802\n",
            "Train Epoch: 1 [28800/60000 (48%)]\tLoss: 0.093668\n",
            "Train Epoch: 1 [32000/60000 (53%)]\tLoss: 0.213542\n",
            "Train Epoch: 1 [35200/60000 (59%)]\tLoss: 0.165648\n",
            "Train Epoch: 1 [38400/60000 (64%)]\tLoss: 0.063000\n",
            "Train Epoch: 1 [41600/60000 (69%)]\tLoss: 0.146439\n",
            "Train Epoch: 1 [44800/60000 (75%)]\tLoss: 0.217108\n",
            "Train Epoch: 1 [48000/60000 (80%)]\tLoss: 0.099363\n",
            "Train Epoch: 1 [51200/60000 (85%)]\tLoss: 0.245829\n",
            "Train Epoch: 1 [54400/60000 (91%)]\tLoss: 0.113811\n",
            "Train Epoch: 1 [57600/60000 (96%)]\tLoss: 0.072222\n",
            "\n",
            "Epoch 1 time = 145.61s on device cpu\n",
            "\n",
            "Test set: Average loss: 0.0565, Accuracy: 9823/10000 (98%)\n",
            "\n",
            "Train Epoch: 2 [0/60000 (0%)]\tLoss: 0.048213\n",
            "Train Epoch: 2 [3200/60000 (5%)]\tLoss: 0.045944\n",
            "Train Epoch: 2 [6400/60000 (11%)]\tLoss: 0.110169\n",
            "Train Epoch: 2 [9600/60000 (16%)]\tLoss: 0.080295\n",
            "Train Epoch: 2 [12800/60000 (21%)]\tLoss: 0.015375\n",
            "Train Epoch: 2 [16000/60000 (27%)]\tLoss: 0.063372\n",
            "Train Epoch: 2 [19200/60000 (32%)]\tLoss: 0.185353\n",
            "Train Epoch: 2 [22400/60000 (37%)]\tLoss: 0.044591\n",
            "Train Epoch: 2 [25600/60000 (43%)]\tLoss: 0.014446\n",
            "Train Epoch: 2 [28800/60000 (48%)]\tLoss: 0.007121\n",
            "Train Epoch: 2 [32000/60000 (53%)]\tLoss: 0.130863\n",
            "Train Epoch: 2 [35200/60000 (59%)]\tLoss: 0.213694\n",
            "Train Epoch: 2 [38400/60000 (64%)]\tLoss: 0.075535\n",
            "Train Epoch: 2 [41600/60000 (69%)]\tLoss: 0.084619\n",
            "Train Epoch: 2 [44800/60000 (75%)]\tLoss: 0.065255\n",
            "Train Epoch: 2 [48000/60000 (80%)]\tLoss: 0.075498\n",
            "Train Epoch: 2 [51200/60000 (85%)]\tLoss: 0.167943\n",
            "Train Epoch: 2 [54400/60000 (91%)]\tLoss: 0.025100\n",
            "Train Epoch: 2 [57600/60000 (96%)]\tLoss: 0.120277\n",
            "\n",
            "Epoch 2 time = 154.79s on device cpu\n",
            "\n",
            "Test set: Average loss: 0.0397, Accuracy: 9867/10000 (99%)\n",
            "\n",
            "Train Epoch: 3 [0/60000 (0%)]\tLoss: 0.034575\n",
            "Train Epoch: 3 [3200/60000 (5%)]\tLoss: 0.007835\n",
            "Train Epoch: 3 [6400/60000 (11%)]\tLoss: 0.166077\n",
            "Train Epoch: 3 [9600/60000 (16%)]\tLoss: 0.019069\n",
            "Train Epoch: 3 [12800/60000 (21%)]\tLoss: 0.011954\n",
            "Train Epoch: 3 [16000/60000 (27%)]\tLoss: 0.043107\n",
            "Train Epoch: 3 [19200/60000 (32%)]\tLoss: 0.234986\n",
            "Train Epoch: 3 [22400/60000 (37%)]\tLoss: 0.006197\n",
            "Train Epoch: 3 [25600/60000 (43%)]\tLoss: 0.009669\n",
            "Train Epoch: 3 [28800/60000 (48%)]\tLoss: 0.036235\n",
            "Train Epoch: 3 [32000/60000 (53%)]\tLoss: 0.037405\n",
            "Train Epoch: 3 [35200/60000 (59%)]\tLoss: 0.187216\n",
            "Train Epoch: 3 [38400/60000 (64%)]\tLoss: 0.051764\n",
            "Train Epoch: 3 [41600/60000 (69%)]\tLoss: 0.030671\n",
            "Train Epoch: 3 [44800/60000 (75%)]\tLoss: 0.070421\n",
            "Train Epoch: 3 [48000/60000 (80%)]\tLoss: 0.051492\n",
            "Train Epoch: 3 [51200/60000 (85%)]\tLoss: 0.087048\n",
            "Train Epoch: 3 [54400/60000 (91%)]\tLoss: 0.071125\n",
            "Train Epoch: 3 [57600/60000 (96%)]\tLoss: 0.061887\n",
            "\n",
            "Epoch 3 time = 154.13s on device cpu\n",
            "\n",
            "Test set: Average loss: 0.0315, Accuracy: 9904/10000 (99%)\n",
            "\n",
            "Train Epoch: 4 [0/60000 (0%)]\tLoss: 0.022932\n",
            "Train Epoch: 4 [3200/60000 (5%)]\tLoss: 0.054849\n",
            "Train Epoch: 4 [6400/60000 (11%)]\tLoss: 0.138457\n",
            "Train Epoch: 4 [9600/60000 (16%)]\tLoss: 0.002537\n",
            "Train Epoch: 4 [12800/60000 (21%)]\tLoss: 0.090018\n",
            "Train Epoch: 4 [16000/60000 (27%)]\tLoss: 0.037118\n",
            "Train Epoch: 4 [19200/60000 (32%)]\tLoss: 0.103586\n",
            "Train Epoch: 4 [22400/60000 (37%)]\tLoss: 0.002892\n",
            "Train Epoch: 4 [25600/60000 (43%)]\tLoss: 0.027632\n",
            "Train Epoch: 4 [28800/60000 (48%)]\tLoss: 0.007459\n",
            "Train Epoch: 4 [32000/60000 (53%)]\tLoss: 0.103686\n",
            "Train Epoch: 4 [35200/60000 (59%)]\tLoss: 0.083187\n",
            "Train Epoch: 4 [38400/60000 (64%)]\tLoss: 0.037192\n",
            "Train Epoch: 4 [41600/60000 (69%)]\tLoss: 0.016309\n",
            "Train Epoch: 4 [44800/60000 (75%)]\tLoss: 0.040623\n",
            "Train Epoch: 4 [48000/60000 (80%)]\tLoss: 0.005430\n",
            "Train Epoch: 4 [51200/60000 (85%)]\tLoss: 0.059366\n",
            "Train Epoch: 4 [54400/60000 (91%)]\tLoss: 0.031135\n",
            "Train Epoch: 4 [57600/60000 (96%)]\tLoss: 0.017951\n",
            "\n",
            "Epoch 4 time = 151.73s on device cpu\n",
            "\n",
            "Test set: Average loss: 0.0303, Accuracy: 9902/10000 (99%)\n",
            "\n",
            "Train Epoch: 5 [0/60000 (0%)]\tLoss: 0.014889\n",
            "Train Epoch: 5 [3200/60000 (5%)]\tLoss: 0.010862\n",
            "Train Epoch: 5 [6400/60000 (11%)]\tLoss: 0.062056\n",
            "Train Epoch: 5 [9600/60000 (16%)]\tLoss: 0.022067\n",
            "Train Epoch: 5 [12800/60000 (21%)]\tLoss: 0.013976\n",
            "Train Epoch: 5 [16000/60000 (27%)]\tLoss: 0.038252\n",
            "Train Epoch: 5 [19200/60000 (32%)]\tLoss: 0.070089\n",
            "Train Epoch: 5 [22400/60000 (37%)]\tLoss: 0.011112\n",
            "Train Epoch: 5 [25600/60000 (43%)]\tLoss: 0.007115\n",
            "Train Epoch: 5 [28800/60000 (48%)]\tLoss: 0.025409\n",
            "Train Epoch: 5 [32000/60000 (53%)]\tLoss: 0.054409\n",
            "Train Epoch: 5 [35200/60000 (59%)]\tLoss: 0.009384\n",
            "Train Epoch: 5 [38400/60000 (64%)]\tLoss: 0.017257\n",
            "Train Epoch: 5 [41600/60000 (69%)]\tLoss: 0.020851\n",
            "Train Epoch: 5 [44800/60000 (75%)]\tLoss: 0.038944\n",
            "Train Epoch: 5 [48000/60000 (80%)]\tLoss: 0.007572\n",
            "Train Epoch: 5 [51200/60000 (85%)]\tLoss: 0.181013\n",
            "Train Epoch: 5 [54400/60000 (91%)]\tLoss: 0.008936\n",
            "Train Epoch: 5 [57600/60000 (96%)]\tLoss: 0.047307\n",
            "\n",
            "Epoch 5 time = 155.19s on device cpu\n",
            "\n",
            "Test set: Average loss: 0.0289, Accuracy: 9908/10000 (99%)\n",
            "\n",
            "batch_size is 128 \n",
            "\n",
            "Train Epoch: 1 [0/60000 (0%)]\tLoss: 2.293157\n",
            "Train Epoch: 1 [6400/60000 (11%)]\tLoss: 0.398841\n",
            "Train Epoch: 1 [12800/60000 (21%)]\tLoss: 0.164449\n",
            "Train Epoch: 1 [19200/60000 (32%)]\tLoss: 0.203758\n",
            "Train Epoch: 1 [25600/60000 (43%)]\tLoss: 0.105832\n",
            "Train Epoch: 1 [32000/60000 (53%)]\tLoss: 0.160895\n",
            "Train Epoch: 1 [38400/60000 (64%)]\tLoss: 0.122205\n",
            "Train Epoch: 1 [44800/60000 (75%)]\tLoss: 0.169876\n",
            "Train Epoch: 1 [51200/60000 (85%)]\tLoss: 0.206029\n",
            "Train Epoch: 1 [57600/60000 (96%)]\tLoss: 0.119997\n",
            "\n",
            "Epoch 1 time = 133.74s on device cpu\n",
            "\n",
            "Test set: Average loss: 0.0552, Accuracy: 9818/10000 (98%)\n",
            "\n",
            "Train Epoch: 2 [0/60000 (0%)]\tLoss: 0.062597\n",
            "Train Epoch: 2 [6400/60000 (11%)]\tLoss: 0.140809\n",
            "Train Epoch: 2 [12800/60000 (21%)]\tLoss: 0.063478\n",
            "Train Epoch: 2 [19200/60000 (32%)]\tLoss: 0.144230\n",
            "Train Epoch: 2 [25600/60000 (43%)]\tLoss: 0.087725\n",
            "Train Epoch: 2 [32000/60000 (53%)]\tLoss: 0.144686\n",
            "Train Epoch: 2 [38400/60000 (64%)]\tLoss: 0.093493\n",
            "Train Epoch: 2 [44800/60000 (75%)]\tLoss: 0.099279\n",
            "Train Epoch: 2 [51200/60000 (85%)]\tLoss: 0.085064\n",
            "Train Epoch: 2 [57600/60000 (96%)]\tLoss: 0.036483\n",
            "\n",
            "Epoch 2 time = 132.71s on device cpu\n",
            "\n",
            "Test set: Average loss: 0.0363, Accuracy: 9869/10000 (99%)\n",
            "\n",
            "Train Epoch: 3 [0/60000 (0%)]\tLoss: 0.078099\n",
            "Train Epoch: 3 [6400/60000 (11%)]\tLoss: 0.089830\n",
            "Train Epoch: 3 [12800/60000 (21%)]\tLoss: 0.048582\n",
            "Train Epoch: 3 [19200/60000 (32%)]\tLoss: 0.048484\n",
            "Train Epoch: 3 [25600/60000 (43%)]\tLoss: 0.042209\n",
            "Train Epoch: 3 [32000/60000 (53%)]\tLoss: 0.069168\n",
            "Train Epoch: 3 [38400/60000 (64%)]\tLoss: 0.087525\n",
            "Train Epoch: 3 [44800/60000 (75%)]\tLoss: 0.034836\n",
            "Train Epoch: 3 [51200/60000 (85%)]\tLoss: 0.083267\n",
            "Train Epoch: 3 [57600/60000 (96%)]\tLoss: 0.026001\n",
            "\n",
            "Epoch 3 time = 136.61s on device cpu\n",
            "\n",
            "Test set: Average loss: 0.0341, Accuracy: 9892/10000 (99%)\n",
            "\n",
            "Train Epoch: 4 [0/60000 (0%)]\tLoss: 0.058140\n",
            "Train Epoch: 4 [6400/60000 (11%)]\tLoss: 0.064575\n",
            "Train Epoch: 4 [12800/60000 (21%)]\tLoss: 0.028240\n",
            "Train Epoch: 4 [19200/60000 (32%)]\tLoss: 0.063805\n",
            "Train Epoch: 4 [25600/60000 (43%)]\tLoss: 0.071607\n",
            "Train Epoch: 4 [32000/60000 (53%)]\tLoss: 0.049085\n",
            "Train Epoch: 4 [38400/60000 (64%)]\tLoss: 0.062272\n",
            "Train Epoch: 4 [44800/60000 (75%)]\tLoss: 0.033965\n",
            "Train Epoch: 4 [51200/60000 (85%)]\tLoss: 0.085894\n",
            "Train Epoch: 4 [57600/60000 (96%)]\tLoss: 0.019482\n",
            "\n",
            "Epoch 4 time = 136.88s on device cpu\n",
            "\n",
            "Test set: Average loss: 0.0322, Accuracy: 9892/10000 (99%)\n",
            "\n",
            "Train Epoch: 5 [0/60000 (0%)]\tLoss: 0.071905\n",
            "Train Epoch: 5 [6400/60000 (11%)]\tLoss: 0.097762\n",
            "Train Epoch: 5 [12800/60000 (21%)]\tLoss: 0.010860\n",
            "Train Epoch: 5 [19200/60000 (32%)]\tLoss: 0.101082\n",
            "Train Epoch: 5 [25600/60000 (43%)]\tLoss: 0.038053\n",
            "Train Epoch: 5 [32000/60000 (53%)]\tLoss: 0.052303\n",
            "Train Epoch: 5 [38400/60000 (64%)]\tLoss: 0.038597\n",
            "Train Epoch: 5 [44800/60000 (75%)]\tLoss: 0.018161\n",
            "Train Epoch: 5 [51200/60000 (85%)]\tLoss: 0.038754\n",
            "Train Epoch: 5 [57600/60000 (96%)]\tLoss: 0.042657\n",
            "\n",
            "Epoch 5 time = 135.18s on device cpu\n",
            "\n",
            "Test set: Average loss: 0.0307, Accuracy: 9894/10000 (99%)\n",
            "\n",
            "batch_size is 256 \n",
            "\n",
            "Train Epoch: 1 [0/60000 (0%)]\tLoss: 2.316232\n",
            "Train Epoch: 1 [12800/60000 (21%)]\tLoss: 0.344992\n",
            "Train Epoch: 1 [25600/60000 (43%)]\tLoss: 0.171702\n",
            "Train Epoch: 1 [38400/60000 (64%)]\tLoss: 0.141898\n",
            "Train Epoch: 1 [51200/60000 (85%)]\tLoss: 0.067331\n",
            "\n",
            "Epoch 1 time = 166.98s on device cpu\n",
            "\n",
            "Test set: Average loss: 0.0617, Accuracy: 9801/10000 (98%)\n",
            "\n",
            "Train Epoch: 2 [0/60000 (0%)]\tLoss: 0.165024\n",
            "Train Epoch: 2 [12800/60000 (21%)]\tLoss: 0.110445\n",
            "Train Epoch: 2 [25600/60000 (43%)]\tLoss: 0.094056\n",
            "Train Epoch: 2 [38400/60000 (64%)]\tLoss: 0.073404\n",
            "Train Epoch: 2 [51200/60000 (85%)]\tLoss: 0.099237\n",
            "\n",
            "Epoch 2 time = 164.76s on device cpu\n",
            "\n",
            "Test set: Average loss: 0.0410, Accuracy: 9859/10000 (99%)\n",
            "\n",
            "Train Epoch: 3 [0/60000 (0%)]\tLoss: 0.096098\n",
            "Train Epoch: 3 [12800/60000 (21%)]\tLoss: 0.069401\n",
            "Train Epoch: 3 [25600/60000 (43%)]\tLoss: 0.073007\n",
            "Train Epoch: 3 [38400/60000 (64%)]\tLoss: 0.087498\n",
            "Train Epoch: 3 [51200/60000 (85%)]\tLoss: 0.091758\n",
            "\n",
            "Epoch 3 time = 165.56s on device cpu\n",
            "\n",
            "Test set: Average loss: 0.0371, Accuracy: 9871/10000 (99%)\n",
            "\n",
            "Train Epoch: 4 [0/60000 (0%)]\tLoss: 0.086276\n",
            "Train Epoch: 4 [12800/60000 (21%)]\tLoss: 0.053789\n",
            "Train Epoch: 4 [25600/60000 (43%)]\tLoss: 0.065789\n",
            "Train Epoch: 4 [38400/60000 (64%)]\tLoss: 0.051583\n",
            "Train Epoch: 4 [51200/60000 (85%)]\tLoss: 0.069351\n",
            "\n",
            "Epoch 4 time = 167.72s on device cpu\n",
            "\n",
            "Test set: Average loss: 0.0305, Accuracy: 9893/10000 (99%)\n",
            "\n",
            "Train Epoch: 5 [0/60000 (0%)]\tLoss: 0.055949\n",
            "Train Epoch: 5 [12800/60000 (21%)]\tLoss: 0.050492\n",
            "Train Epoch: 5 [25600/60000 (43%)]\tLoss: 0.078315\n",
            "Train Epoch: 5 [38400/60000 (64%)]\tLoss: 0.039815\n",
            "Train Epoch: 5 [51200/60000 (85%)]\tLoss: 0.047279\n",
            "\n",
            "Epoch 5 time = 168.77s on device cpu\n",
            "\n",
            "Test set: Average loss: 0.0295, Accuracy: 9901/10000 (99%)\n",
            "\n",
            "batch_size is 512 \n",
            "\n",
            "Train Epoch: 1 [0/60000 (0%)]\tLoss: 2.303739\n",
            "Train Epoch: 1 [25600/60000 (42%)]\tLoss: 0.254655\n",
            "Train Epoch: 1 [51200/60000 (85%)]\tLoss: 0.100634\n",
            "\n",
            "Epoch 1 time = 177.12s on device cpu\n",
            "\n",
            "Test set: Average loss: 0.0755, Accuracy: 9771/10000 (98%)\n",
            "\n",
            "Train Epoch: 2 [0/60000 (0%)]\tLoss: 0.168052\n",
            "Train Epoch: 2 [25600/60000 (42%)]\tLoss: 0.142805\n",
            "Train Epoch: 2 [51200/60000 (85%)]\tLoss: 0.054657\n",
            "\n",
            "Epoch 2 time = 176.35s on device cpu\n",
            "\n",
            "Test set: Average loss: 0.0439, Accuracy: 9847/10000 (98%)\n",
            "\n",
            "Train Epoch: 3 [0/60000 (0%)]\tLoss: 0.097423\n",
            "Train Epoch: 3 [25600/60000 (42%)]\tLoss: 0.066033\n",
            "Train Epoch: 3 [51200/60000 (85%)]\tLoss: 0.089062\n",
            "\n",
            "Epoch 3 time = 176.92s on device cpu\n",
            "\n",
            "Test set: Average loss: 0.0390, Accuracy: 9862/10000 (99%)\n",
            "\n",
            "Train Epoch: 4 [0/60000 (0%)]\tLoss: 0.119388\n",
            "Train Epoch: 4 [25600/60000 (42%)]\tLoss: 0.057825\n",
            "Train Epoch: 4 [51200/60000 (85%)]\tLoss: 0.069787\n",
            "\n",
            "Epoch 4 time = 176.9s on device cpu\n",
            "\n",
            "Test set: Average loss: 0.0330, Accuracy: 9882/10000 (99%)\n",
            "\n",
            "Train Epoch: 5 [0/60000 (0%)]\tLoss: 0.077774\n",
            "Train Epoch: 5 [25600/60000 (42%)]\tLoss: 0.035838\n",
            "Train Epoch: 5 [51200/60000 (85%)]\tLoss: 0.043005\n",
            "\n",
            "Epoch 5 time = 173.67s on device cpu\n",
            "\n",
            "Test set: Average loss: 0.0311, Accuracy: 9888/10000 (99%)\n",
            "\n",
            "batch_size is 1024 \n",
            "\n",
            "Train Epoch: 1 [0/60000 (0%)]\tLoss: 2.307945\n",
            "Train Epoch: 1 [51200/60000 (85%)]\tLoss: 0.205334\n",
            "\n",
            "Epoch 1 time = 192.9s on device cpu\n",
            "\n",
            "Test set: Average loss: 0.1220, Accuracy: 9618/10000 (96%)\n",
            "\n",
            "Train Epoch: 2 [0/60000 (0%)]\tLoss: 0.202894\n",
            "Train Epoch: 2 [51200/60000 (85%)]\tLoss: 0.119338\n",
            "\n",
            "Epoch 2 time = 193.73s on device cpu\n",
            "\n",
            "Test set: Average loss: 0.0666, Accuracy: 9790/10000 (98%)\n",
            "\n",
            "Train Epoch: 3 [0/60000 (0%)]\tLoss: 0.130789\n",
            "Train Epoch: 3 [51200/60000 (85%)]\tLoss: 0.092587\n",
            "\n",
            "Epoch 3 time = 191.1s on device cpu\n",
            "\n",
            "Test set: Average loss: 0.0542, Accuracy: 9823/10000 (98%)\n",
            "\n",
            "Train Epoch: 4 [0/60000 (0%)]\tLoss: 0.128530\n",
            "Train Epoch: 4 [51200/60000 (85%)]\tLoss: 0.082014\n",
            "\n",
            "Epoch 4 time = 193.35s on device cpu\n",
            "\n",
            "Test set: Average loss: 0.0484, Accuracy: 9840/10000 (98%)\n",
            "\n",
            "Train Epoch: 5 [0/60000 (0%)]\tLoss: 0.099573\n",
            "Train Epoch: 5 [51200/60000 (85%)]\tLoss: 0.071968\n",
            "\n",
            "Epoch 5 time = 191.76s on device cpu\n",
            "\n",
            "Test set: Average loss: 0.0427, Accuracy: 9855/10000 (99%)\n",
            "\n"
          ]
        }
      ]
    },
    {
      "cell_type": "code",
      "source": [
        "cpu_mean_times, cpu_stddev_times = collate_time_info(cpu_times)"
      ],
      "metadata": {
        "id": "cKnD7s8UYETQ"
      },
      "execution_count": 20,
      "outputs": []
    },
    {
      "cell_type": "code",
      "source": [
        "# %%capture captured_output\n",
        "\n",
        "devc = 'GPU'\n",
        "for batch_size, gpu_time in zip(batch_sizes,gpu_times):\n",
        "  print_time_info(devc,batch_size,gpu_time)\n",
        "\n",
        "devc = 'CPU'\n",
        "for batch_size, cpu_time in zip(batch_sizes,cpu_times):\n",
        "  print_time_info(devc,batch_size,cpu_time)\n",
        "\n",
        "# captured_output.stdout"
      ],
      "metadata": {
        "colab": {
          "base_uri": "https://localhost:8080/"
        },
        "id": "yUP-rEzDmumB",
        "outputId": "7e9b00d8-8be5-4b51-8483-13035895179d"
      },
      "execution_count": 26,
      "outputs": [
        {
          "output_type": "stream",
          "name": "stdout",
          "text": [
            "For device GPU, batch_size of 64, average training time per epoch was 18.436 and standard deviation was 0.704\n",
            "For device GPU, batch_size of 128, average training time per epoch was 16.236 and standard deviation was 0.468\n",
            "For device GPU, batch_size of 256, average training time per epoch was 15.498 and standard deviation was 0.413\n",
            "For device GPU, batch_size of 512, average training time per epoch was 14.978 and standard deviation was 0.972\n",
            "For device GPU, batch_size of 1024, average training time per epoch was 13.792 and standard deviation was 0.152\n",
            "For device CPU, batch_size of 64, average training time per epoch was 152.29 and standard deviation was 3.549\n",
            "For device CPU, batch_size of 128, average training time per epoch was 135.024 and standard deviation was 1.612\n",
            "For device CPU, batch_size of 256, average training time per epoch was 166.758 and standard deviation was 1.446\n",
            "For device CPU, batch_size of 512, average training time per epoch was 176.192 and standard deviation was 1.287\n",
            "For device CPU, batch_size of 1024, average training time per epoch was 192.568 and standard deviation was 0.988\n"
          ]
        }
      ]
    },
    {
      "cell_type": "code",
      "source": [
        "# # Save captured output to a file\n",
        "# with open('/content/gdrive/My Drive/ece5545/a0/train_times_print_output.txt', 'w') as f:\n",
        "#     f.write(captured_output.stdout)"
      ],
      "metadata": {
        "id": "mETcf-sIdYIF"
      },
      "execution_count": 22,
      "outputs": []
    },
    {
      "cell_type": "code",
      "source": [
        "gpu_mean_times_rounded = []\n",
        "cpu_mean_times_rounded = []\n",
        "\n",
        "for i in range(len(batch_sizes)):\n",
        "  gpu_mean_times_rounded.append(round(gpu_mean_times[i],2))\n",
        "  cpu_mean_times_rounded.append(round(cpu_mean_times[i],2))\n",
        "\n",
        "plt.figure(figsize=(10, 6))\n",
        "plt.scatter(batch_sizes, gpu_mean_times, label='GPU', color='blue')\n",
        "plt.scatter(batch_sizes, cpu_mean_times, label='CPU', color='orange')\n",
        "\n",
        "for i, txt in enumerate(gpu_mean_times_rounded):\n",
        "    plt.annotate(txt, (batch_sizes[i], gpu_mean_times_rounded[i]), textcoords=\"offset points\", xytext=(0, 5), ha='center')\n",
        "for i, txt in enumerate(cpu_mean_times_rounded):\n",
        "    plt.annotate(txt, (batch_sizes[i], cpu_mean_times_rounded[i]), textcoords=\"offset points\", xytext=(0, 5), ha='center')\n",
        "\n",
        "plt.xticks(batch_sizes)\n",
        "\n",
        "plt.xlabel('Batch Size')\n",
        "plt.ylabel('Training Times')\n",
        "plt.title('CPU vs GPU Training Time Variation with Batch Size')\n",
        "plt.legend()\n",
        "\n",
        "plt.savefig('/content/gdrive/My Drive/ece5545/a0/annotated_output_plot.png')\n",
        "plt.show()"
      ],
      "metadata": {
        "colab": {
          "base_uri": "https://localhost:8080/",
          "height": 564
        },
        "id": "3qH4XZOaxTsd",
        "outputId": "b7486986-436e-4c6a-f20e-710ba46f181c"
      },
      "execution_count": 35,
      "outputs": [
        {
          "output_type": "display_data",
          "data": {
            "text/plain": [
              "<Figure size 1000x600 with 1 Axes>"
            ],
            "image/png": "[encoded data removed]"
          },
          "metadata": {}
        }
      ]
    },
    {
      "cell_type": "code",
      "source": [
        "# %cd /content/gdrive/MyDrive/ece5545/a0/src\n",
        "# # Navigate to a0/src/model.py and fix the bug (denoted by TODO)\n",
        "# # in the file then commit the changes below\n",
        "# !git commit -am \"fixed bug in model.py\"\n",
        "# !git push\n",
        "\n",
        "! git status"
      ],
      "metadata": {
        "colab": {
          "base_uri": "https://localhost:8080/"
        },
        "id": "m6AxPsW9zedI",
        "outputId": "aee1bf78-97af-4be9-be9b-b0369c1fd1bd"
      },
      "execution_count": 36,
      "outputs": [
        {
          "output_type": "stream",
          "name": "stdout",
          "text": [
            "Refresh index:  57% (4/7)\rRefresh index:  71% (5/7)\rRefresh index:  85% (6/7)\rRefresh index: 100% (7/7)\rRefresh index: 100% (7/7), done.\n",
            "On branch main\n",
            "Your branch is up to date with 'origin/main'.\n",
            "\n",
            "Changes not staged for commit:\n",
            "  (use \"git add <file>...\" to update what will be committed)\n",
            "  (use \"git restore <file>...\" to discard changes in working directory)\n",
            "\t\u001b[31mmodified:   src/train_utils.py\u001b[m\n",
            "\n",
            "Untracked files:\n",
            "  (use \"git add <file>...\" to include in what will be committed)\n",
            "\t\u001b[31mCPU_Training.gdoc\u001b[m\n",
            "\t\u001b[31mGPU_Training.gdoc\u001b[m\n",
            "\t\u001b[31mannotated_output_plot.png\u001b[m\n",
            "\t\u001b[31moutput_plot.png\u001b[m\n",
            "\t\u001b[31msrc/__pycache__/\u001b[m\n",
            "\t\u001b[31mtests/__pycache__/\u001b[m\n",
            "\t\u001b[31mtrain_times_print_output.txt\u001b[m\n",
            "\n",
            "no changes added to commit (use \"git add\" and/or \"git commit -a\")\n"
          ]
        }
      ]
    },
    {
      "cell_type": "code",
      "source": [
        "! git add src/train_utils.py"
      ],
      "metadata": {
        "id": "V8kPOD7Rzwf1"
      },
      "execution_count": 37,
      "outputs": []
    },
    {
      "cell_type": "code",
      "source": [
        "!git status"
      ],
      "metadata": {
        "colab": {
          "base_uri": "https://localhost:8080/"
        },
        "id": "4gp8TmKizxzC",
        "outputId": "2e414dfd-d2d9-4762-9ab8-d55d0e3cbe70"
      },
      "execution_count": 38,
      "outputs": [
        {
          "output_type": "stream",
          "name": "stdout",
          "text": [
            "On branch main\n",
            "Your branch is up to date with 'origin/main'.\n",
            "\n",
            "Changes to be committed:\n",
            "  (use \"git restore --staged <file>...\" to unstage)\n",
            "\t\u001b[32mmodified:   src/train_utils.py\u001b[m\n",
            "\n",
            "Untracked files:\n",
            "  (use \"git add <file>...\" to include in what will be committed)\n",
            "\t\u001b[31mCPU_Training.gdoc\u001b[m\n",
            "\t\u001b[31mGPU_Training.gdoc\u001b[m\n",
            "\t\u001b[31mannotated_output_plot.png\u001b[m\n",
            "\t\u001b[31moutput_plot.png\u001b[m\n",
            "\t\u001b[31msrc/__pycache__/\u001b[m\n",
            "\t\u001b[31mtests/__pycache__/\u001b[m\n",
            "\t\u001b[31mtrain_times_print_output.txt\u001b[m\n",
            "\n"
          ]
        }
      ]
    },
    {
      "cell_type": "code",
      "source": [
        "%cd /content/gdrive/MyDrive/ece5545/a0/src"
      ],
      "metadata": {
        "colab": {
          "base_uri": "https://localhost:8080/"
        },
        "id": "1qJThsJqz7vC",
        "outputId": "2af7699a-62ee-4828-aa0a-187e1944d014"
      },
      "execution_count": 39,
      "outputs": [
        {
          "output_type": "stream",
          "name": "stdout",
          "text": [
            "/content/gdrive/MyDrive/ece5545/a0/src\n"
          ]
        }
      ]
    },
    {
      "cell_type": "code",
      "source": [
        "!git commit -am \"updated train_utils.py for data collection\"\n",
        "!git push"
      ],
      "metadata": {
        "colab": {
          "base_uri": "https://localhost:8080/"
        },
        "id": "aVKuYz96zz7K",
        "outputId": "c737151b-2ee7-4de6-95b7-09ed4d5bd175"
      },
      "execution_count": 41,
      "outputs": [
        {
          "output_type": "stream",
          "name": "stdout",
          "text": [
            "[main 8aba040] updated train_utils.py for data collection\n",
            " 1 file changed, 1 insertion(+)\n",
            "Enumerating objects: 7, done.\n",
            "Counting objects: 100% (7/7), done.\n",
            "Delta compression using up to 2 threads\n",
            "Compressing objects: 100% (4/4), done.\n",
            "Writing objects: 100% (4/4), 428 bytes | 71.00 KiB/s, done.\n",
            "Total 4 (delta 2), reused 0 (delta 0), pack-reused 0\n",
            "remote: Resolving deltas: 100% (2/2), completed with 2 local objects.\u001b[K\n",
            "To https://github.com/ML-HW-SYS/a0-anya-23-ct.git\n",
            "   9676b9d..8aba040  main -> main\n"
          ]
        }
      ]
    }
  ],
  "metadata": {
    "accelerator": "GPU",
    "colab": {
      "provenance": [],
      "gpuType": "T4",
      "include_colab_link": true
    },
    "kernelspec": {
      "display_name": "Python 3",
      "name": "python3"
    },
    "language_info": {
      "name": "python"
    }
  },
  "nbformat": 4,
  "nbformat_minor": 0
}
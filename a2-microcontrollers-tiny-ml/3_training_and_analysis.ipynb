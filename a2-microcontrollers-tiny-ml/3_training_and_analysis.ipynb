{
  "cells": [
    {
      "cell_type": "markdown",
      "metadata": {
        "id": "view-in-github",
        "colab_type": "text"
      },
      "source": [
        "<a href=\"https://colab.research.google.com/github/ML-HW-SYS/a2-anya-23-ct/blob/main/3_training_and_analysis.ipynb\" target=\"_parent\"><img src=\"https://colab.research.google.com/assets/colab-badge.svg\" alt=\"Open In Colab\"/></a>"
      ]
    },
    {
      "cell_type": "markdown",
      "metadata": {
        "id": "z2nGDz0JliKU"
      },
      "source": [
        "# **3. Training and Testing**\n",
        "Please start early! Section 3.6 Training may take one to two hours to run."
      ]
    },
    {
      "cell_type": "markdown",
      "metadata": {
        "id": "c5U9gkiTnC4s"
      },
      "source": [
        "## 3.0 Setup GDrive and Git"
      ]
    },
    {
      "cell_type": "code",
      "execution_count": null,
      "metadata": {
        "id": "WwcJax1zU04M",
        "colab": {
          "base_uri": "https://localhost:8080/"
        },
        "outputId": "550f56ac-9977-4f01-f0c7-471047a23b6f"
      },
      "outputs": [
        {
          "output_type": "stream",
          "name": "stdout",
          "text": [
            "Mounted at /content/gdrive\n"
          ]
        }
      ],
      "source": [
        "# Mount google drive\n",
        "from google.colab import drive\n",
        "drive.mount('/content/gdrive')"
      ]
    },
    {
      "cell_type": "code",
      "execution_count": null,
      "metadata": {
        "id": "NQklidVMU0-t"
      },
      "outputs": [],
      "source": [
        "# Make sure your token is stored in a txt file at the location below.\n",
        "# This way there is no risk that you will push it to your repo\n",
        "# Never share your token with anyone, it is basically your github password!\n",
        "with open('/content/gdrive/MyDrive/ece5545/token.txt') as f:\n",
        "    token = f.readline().strip()\n",
        "# Use another file to store your github username\n",
        "with open('/content/gdrive/MyDrive/ece5545/git_username.txt') as f:\n",
        "    handle = f.readline().strip()"
      ]
    },
    {
      "cell_type": "code",
      "execution_count": null,
      "metadata": {
        "id": "7bdUCGFEU1Es",
        "colab": {
          "base_uri": "https://localhost:8080/"
        },
        "outputId": "22b97116-bc6b-41d1-c566-5e87bd75ca95"
      },
      "outputs": [
        {
          "output_type": "stream",
          "name": "stdout",
          "text": [
            "/content/gdrive/MyDrive/ece5545\n",
            "fatal: destination path 'a2-anya-23-ct' already exists and is not an empty directory.\n",
            "/content/gdrive/MyDrive/ece5545/a2-anya-23-ct\n",
            "M\t2_size_estimator_and_profiler.ipynb\n",
            "Already on 'main'\n",
            "Your branch is up to date with 'origin/main'.\n",
            "remote: Enumerating objects: 5, done.\u001b[K\n",
            "remote: Counting objects: 100% (5/5), done.\u001b[K\n",
            "remote: Compressing objects: 100% (3/3), done.\u001b[K\n",
            "remote: Total 3 (delta 2), reused 0 (delta 0), pack-reused 0\u001b[K\n",
            "Unpacking objects: 100% (3/3), 3.36 KiB | 59.00 KiB/s, done.\n",
            "From https://github.com/ML-HW-SYS/a2-anya-23-ct\n",
            "   dec93a5..b6620e3  main       -> origin/main\n",
            "Updating dec93a5..b6620e3\n",
            "error: Your local changes to the following files would be overwritten by merge:\n",
            "\t2_size_estimator_and_profiler.ipynb\n",
            "Please commit your changes or stash them before you merge.\n",
            "Aborting\n",
            "/content/gdrive/MyDrive/ece5545\n"
          ]
        }
      ],
      "source": [
        "# # Clone your github repo\n",
        "# YOUR_TOKEN = token\n",
        "# YOUR_HANDLE = handle\n",
        "# BRANCH = \"main\"\n",
        "\n",
        "# # %mkdir /content/gdrive/MyDrive/ece5545\n",
        "# %cd /content/gdrive/MyDrive/ece5545\n",
        "# !git clone https://{YOUR_TOKEN}@github.com/ML-HW-SYS/a2-{YOUR_TOKEN}.git\n",
        "# %cd /content/gdrive/MyDrive/ece5545/a2-{YOUR_TOKEN}\n",
        "# !git checkout {BRANCH}\n",
        "# !git pull\n",
        "# %cd /content/gdrive/MyDrive/ece5545\n",
        "\n",
        "# PROJECT_ROOT = f\"/content/gdrive/MyDrive/ece5545/a2-{YOUR_TOKEN}\"\n",
        "\n",
        "\n",
        "# Clone your github repo\n",
        "YOUR_TOKEN = token\n",
        "YOUR_HANDLE = handle\n",
        "BRANCH = \"main\"\n",
        "\n",
        "# %mkdir /content/gdrive/MyDrive/ece5545\n",
        "%cd /content/gdrive/MyDrive/ece5545\n",
        "!git clone https://{YOUR_TOKEN}@github.com/ML-HW-SYS/a2-{YOUR_HANDLE}.git\n",
        "%cd /content/gdrive/MyDrive/ece5545/a2-{YOUR_HANDLE}\n",
        "!git checkout {BRANCH}\n",
        "!git pull\n",
        "%cd /content/gdrive/MyDrive/ece5545\n",
        "\n",
        "PROJECT_ROOT = f\"/content/gdrive/MyDrive/ece5545/a2-{YOUR_HANDLE}\""
      ]
    },
    {
      "cell_type": "code",
      "execution_count": null,
      "metadata": {
        "id": "xHXYdHkzU1MX",
        "colab": {
          "base_uri": "https://localhost:8080/"
        },
        "outputId": "06ffae1e-4fd5-4ae8-bbad-21a36c2951c2"
      },
      "outputs": [
        {
          "output_type": "stream",
          "name": "stdout",
          "text": [
            "The autoreload extension is already loaded. To reload it, use:\n",
            "  %reload_ext autoreload\n"
          ]
        }
      ],
      "source": [
        "# This extension reloads all imports before running each cell\n",
        "%load_ext autoreload\n",
        "%autoreload 2"
      ]
    },
    {
      "cell_type": "markdown",
      "metadata": {
        "id": "t6zMfxIflRLB"
      },
      "source": [
        "### GPU\n",
        "\n",
        "Ensure you are running the GPU runtime type:\n",
        "1.   Click \"Runtime\" on top banner\n",
        "2.   Select \"Change runtime type\"\n",
        "3.   Under \"Hardware accelarator\" select \"GPU\" and save\n",
        "\n"
      ]
    },
    {
      "cell_type": "markdown",
      "metadata": {
        "id": "be4rOan-nHrF"
      },
      "source": [
        "### Import code dependencies"
      ]
    },
    {
      "cell_type": "code",
      "execution_count": null,
      "metadata": {
        "id": "aDDr3IrkliKY",
        "colab": {
          "base_uri": "https://localhost:8080/"
        },
        "outputId": "e2bbfc3d-52ce-4b8a-e74e-b5281ca40e71"
      },
      "outputs": [
        {
          "output_type": "stream",
          "name": "stdout",
          "text": [
            "Model folders are created, \n",
            "PyTorch models will be saved in /content/gdrive/MyDrive/ece5545/models/torch_models, \n",
            "ONNX models will be saved in /content/gdrive/MyDrive/ece5545/models/onnx_models, \n",
            "TensorFlow Saved Models will be saved in /content/gdrive/MyDrive/ece5545/models/tf_models, \n",
            "TensorFlow Lite models will be saved in /content/gdrive/MyDrive/ece5545/models/tflite_models, \n",
            "TensorFlow Lite Micro models will be saved in /content/gdrive/MyDrive/ece5545/models/micro_models.\n"
          ]
        }
      ],
      "source": [
        "import os\n",
        "import sys\n",
        "\n",
        "# Adding assignment 2 to the system path\n",
        "# -- make sure this matches your git directory\n",
        "sys.path.insert(0, PROJECT_ROOT)\n",
        "\n",
        "# Import libraries\n",
        "import torch\n",
        "import torch.nn as nn\n",
        "import torch.nn.functional as F\n",
        "import torch.optim as optim\n",
        "\n",
        "import matplotlib.pyplot as plt\n",
        "from tqdm.notebook import tqdm\n",
        "import numpy as np\n",
        "import copy\n",
        "\n",
        "# Import constants to use constants defined for training\n",
        "from src.constants import *\n",
        "# Import data_proc to use data processing functions\n",
        "import src.data_proc as data_proc\n",
        "\n",
        "random_seed = 0\n",
        "torch.manual_seed(random_seed)\n",
        "torch.cuda.manual_seed(random_seed)"
      ]
    },
    {
      "cell_type": "code",
      "source": [
        "# added based on Ed discussion tip\n",
        "DATASET_DIR='/content/dataset'"
      ],
      "metadata": {
        "id": "owdJHKdDmmF-"
      },
      "execution_count": null,
      "outputs": []
    },
    {
      "cell_type": "markdown",
      "metadata": {
        "id": "U7qaF1IEliKa"
      },
      "source": [
        "## 3.1 Download and Preprocess Data"
      ]
    },
    {
      "cell_type": "markdown",
      "metadata": {
        "id": "FLwsdGt_liKa"
      },
      "source": [
        "### Create audio processor\n",
        "This step is similar to what was done in part 2, so the files should already be downloaded in your Google Drive."
      ]
    },
    {
      "cell_type": "code",
      "execution_count": null,
      "metadata": {
        "id": "Xdc42fZiliKa"
      },
      "outputs": [],
      "source": [
        "# Create audio_processor\n",
        "audio_processor = data_proc.AudioProcessor()"
      ]
    },
    {
      "cell_type": "markdown",
      "metadata": {
        "id": "e53768H0liKf"
      },
      "source": [
        "### Select device: cuda or cpu"
      ]
    },
    {
      "cell_type": "code",
      "execution_count": null,
      "metadata": {
        "id": "UrpzLHRhliKf",
        "colab": {
          "base_uri": "https://localhost:8080/"
        },
        "outputId": "c2b0a4d6-456b-4fe7-977a-56e6be348d69"
      },
      "outputs": [
        {
          "output_type": "stream",
          "name": "stdout",
          "text": [
            "Using cuda to run the training scrpit.\n"
          ]
        }
      ],
      "source": [
        "# Define device\n",
        "device = torch.device(\"cuda\" if torch.cuda.is_available() else \"cpu\")\n",
        "print(f'Using {device} to run the training scrpit.')"
      ]
    },
    {
      "cell_type": "markdown",
      "metadata": {
        "id": "ViruC2uOnY3u"
      },
      "source": [
        "## 3.2 Data Loader"
      ]
    },
    {
      "cell_type": "code",
      "execution_count": null,
      "metadata": {
        "id": "3qYQMncTliKb",
        "colab": {
          "base_uri": "https://localhost:8080/"
        },
        "outputId": "f7c12cc2-f2f9-4bf6-e357-cd5bb508c21e"
      },
      "outputs": [
        {
          "output_type": "stream",
          "name": "stdout",
          "text": [
            "Train size: 10556 Val size: 1333 Test size: 1368\n"
          ]
        }
      ],
      "source": [
        "# Define train, test, and validation set\n",
        "train_set = audio_processor.data_index['training']\n",
        "test_set = audio_processor.data_index['testing']\n",
        "valid_set = audio_processor.data_index['validation']\n",
        "\n",
        "# Define data loaders\n",
        "from src.loaders import make_data_loaders\n",
        "data_loaders = make_data_loaders(audio_processor, device)\n",
        "train_loader = data_loaders['training']\n",
        "test_loader = data_loaders['testing']\n",
        "valid_loader = data_loaders['validation']"
      ]
    },
    {
      "cell_type": "markdown",
      "metadata": {
        "id": "cBSyrbs6liKg"
      },
      "source": [
        "## 3.3 Define the Model"
      ]
    },
    {
      "cell_type": "code",
      "execution_count": null,
      "metadata": {
        "id": "OERV-lIDliKi",
        "colab": {
          "base_uri": "https://localhost:8080/"
        },
        "outputId": "568b6916-28b9-4175-9553-4b74e2bbd4dd"
      },
      "outputs": [
        {
          "output_type": "execute_result",
          "data": {
            "text/plain": [
              "TinyConv(\n",
              "  (conv_reshape): Reshape(output_shape=(-1, 1, 49, 40))\n",
              "  (conv): Conv2d(1, 8, kernel_size=(10, 8), stride=(2, 2), padding=(5, 3))\n",
              "  (relu): ReLU()\n",
              "  (dropout): Dropout(p=0.5, inplace=False)\n",
              "  (fc_reshape): Reshape(output_shape=(-1, 4000))\n",
              "  (fc): Linear(in_features=4000, out_features=4, bias=True)\n",
              "  (softmax): Softmax(dim=1)\n",
              ")"
            ]
          },
          "metadata": {},
          "execution_count": 15
        }
      ],
      "source": [
        "from src.networks import TinyConv\n",
        "# Create a full precision (float32) TinyConv model\n",
        "model_fp32 = TinyConv(\n",
        "    model_settings=audio_processor.model_settings,\n",
        "    n_input=1,\n",
        "    n_output=audio_processor.num_labels\n",
        ")\n",
        "model_fp32"
      ]
    },
    {
      "cell_type": "markdown",
      "metadata": {
        "id": "0PeiCwmdliKk"
      },
      "source": [
        "## 3.4 Training"
      ]
    },
    {
      "cell_type": "code",
      "execution_count": null,
      "metadata": {
        "id": "pTDNIHCqliKj"
      },
      "outputs": [],
      "source": [
        "from src.train_val_test_utils import train, test"
      ]
    },
    {
      "cell_type": "markdown",
      "metadata": {
        "id": "Fnk6TOA8rv7C"
      },
      "source": [
        "### Adjust parameters\n",
        "*   You can change *n_epoch* to use a different number training steps/epochs"
      ]
    },
    {
      "cell_type": "code",
      "execution_count": null,
      "metadata": {
        "id": "4twj3n1tliKk",
        "colab": {
          "base_uri": "https://localhost:8080/"
        },
        "outputId": "6ee0ab02-7dcf-433f-d5ed-6cc35352d0bf"
      },
      "outputs": [
        {
          "output_type": "stream",
          "name": "stdout",
          "text": [
            "# batches: 106 \n",
            "# epochs: 50 \n",
            "# total training steps: 5300\n"
          ]
        }
      ],
      "source": [
        "num_batches = len(train_loader)\n",
        "n_epoch = 50\n",
        "print(f'# batches: {num_batches} \\n# epochs: {n_epoch} \\n# total training steps: {num_batches * n_epoch}')"
      ]
    },
    {
      "cell_type": "markdown",
      "metadata": {
        "id": "Ps_AJaYKliKk"
      },
      "source": [
        "### Create optimizer for training\n",
        " Explore more at:\n",
        "[TORCH. OPTIM](https://pytorch.org/docs/stable/optim.html?highlight=torch%20optim%20lr_scheduler)"
      ]
    },
    {
      "cell_type": "code",
      "execution_count": null,
      "metadata": {
        "id": "VqVXUQzYliKk",
        "colab": {
          "base_uri": "https://localhost:8080/"
        },
        "outputId": "e2683649-bea9-4b7c-b427-914eec810e0a"
      },
      "outputs": [
        {
          "output_type": "stream",
          "name": "stdout",
          "text": [
            "{'state': {}, 'param_groups': [{'lr': 0.001, 'betas': (0.9, 0.999), 'eps': 1e-08, 'weight_decay': 0.0001, 'amsgrad': False, 'maximize': False, 'foreach': None, 'capturable': False, 'differentiable': False, 'fused': None, 'params': [0, 1, 2, 3]}]}\n"
          ]
        }
      ],
      "source": [
        "from src.train_val_test_utils import create_optimizer\n",
        "\n",
        "# Create optimizer\n",
        "optimizer_fp32 = create_optimizer(model=model_fp32, learning_rate=0.001)\n",
        "print(optimizer_fp32.state_dict())"
      ]
    },
    {
      "cell_type": "markdown",
      "metadata": {
        "id": "EX-iWv6Ash3R"
      },
      "source": [
        "### Train the model\n",
        "TensorBoard will allow you to visualize your results. The second code block, the training, will take a while to run."
      ]
    },
    {
      "cell_type": "code",
      "execution_count": null,
      "metadata": {
        "id": "DGag-bchliKl",
        "colab": {
          "base_uri": "https://localhost:8080/",
          "height": 1000,
          "referenced_widgets": [
            "c007be4a960d423a8b5c75b5fe331565",
            "3642eb2762f14bbeaa243cc486baeecc",
            "a02b79c086a744d882653f9248c5f8e8",
            "5c728e69af5d47c0beeca8b46caeadae",
            "8d3886437c1f4900837a06d7ce29cb05",
            "49838e5685db455c84f4a22c49164f99",
            "694caa76079646d8a71da63faa8b10a0",
            "e6957aa14dc6495ba56ddac3425d3bb1",
            "df472e8f725442eaba498f07c36aefa1",
            "3f43c18ea42446f0a9ffc4fd6883bf70",
            "655c75d9241e469b94ec9ee9a4160f8a"
          ]
        },
        "outputId": "4d6e0909-e120-47ec-a1c2-2078a91aa285"
      },
      "outputs": [
        {
          "data": {
            "application/vnd.jupyter.widget-view+json": {
              "model_id": "c007be4a960d423a8b5c75b5fe331565",
              "version_major": 2,
              "version_minor": 0
            },
            "text/plain": [
              "  0%|          | 0/50 [00:00<?, ?it/s]"
            ]
          },
          "metadata": {},
          "output_type": "display_data"
        },
        {
          "output_type": "stream",
          "name": "stdout",
          "text": [
            "Val Acc Epoch 1 = 83.5%, Train loss = 1.195\n",
            "\n",
            "Valid epoch: 1\tAccuracy: 1091/1333 (81.85%)\n",
            "\n",
            "Val Acc Epoch 2 = 84.62%, Train loss = 0.558\n",
            "\n",
            "Valid epoch: 2\tAccuracy: 1145/1333 (85.90%)\n",
            "\n",
            "Val Acc Epoch 3 = 85.9%, Train loss = 0.498\n",
            "\n",
            "Valid epoch: 3\tAccuracy: 1139/1333 (85.45%)\n",
            "\n",
            "Val Acc Epoch 4 = 88.07%, Train loss = 0.464\n",
            "\n",
            "Valid epoch: 4\tAccuracy: 1178/1333 (88.37%)\n",
            "\n",
            "Val Acc Epoch 5 = 89.12%, Train loss = 0.463\n",
            "\n",
            "Valid epoch: 5\tAccuracy: 1168/1333 (87.62%)\n",
            "\n",
            "Val Acc Epoch 6 = 88.45%, Train loss = 0.438\n",
            "\n",
            "Valid epoch: 6\tAccuracy: 1177/1333 (88.30%)\n",
            "\n",
            "Val Acc Epoch 7 = 88.37%, Train loss = 0.421\n",
            "\n",
            "Valid epoch: 7\tAccuracy: 1176/1333 (88.22%)\n",
            "\n",
            "Val Acc Epoch 8 = 88.97%, Train loss = 0.425\n",
            "\n",
            "Valid epoch: 8\tAccuracy: 1187/1333 (89.05%)\n",
            "\n",
            "Val Acc Epoch 9 = 88.52%, Train loss = 0.41\n",
            "\n",
            "Valid epoch: 9\tAccuracy: 1180/1333 (88.52%)\n",
            "\n",
            "Val Acc Epoch 10 = 88.97%, Train loss = 0.401\n",
            "\n",
            "Valid epoch: 10\tAccuracy: 1188/1333 (89.12%)\n",
            "\n",
            "Val Acc Epoch 11 = 88.82%, Train loss = 0.403\n",
            "\n",
            "Valid epoch: 11\tAccuracy: 1174/1333 (88.07%)\n",
            "\n",
            "Val Acc Epoch 12 = 88.82%, Train loss = 0.396\n",
            "\n",
            "Valid epoch: 12\tAccuracy: 1185/1333 (88.90%)\n",
            "\n",
            "Val Acc Epoch 13 = 89.5%, Train loss = 0.389\n",
            "\n",
            "Valid epoch: 13\tAccuracy: 1188/1333 (89.12%)\n",
            "\n",
            "Val Acc Epoch 14 = 89.35%, Train loss = 0.392\n",
            "\n",
            "Valid epoch: 14\tAccuracy: 1188/1333 (89.12%)\n",
            "\n",
            "Val Acc Epoch 15 = 88.52%, Train loss = 0.389\n",
            "\n",
            "Valid epoch: 15\tAccuracy: 1186/1333 (88.97%)\n",
            "\n",
            "Val Acc Epoch 16 = 88.52%, Train loss = 0.387\n",
            "\n",
            "Valid epoch: 16\tAccuracy: 1194/1333 (89.57%)\n",
            "\n",
            "Val Acc Epoch 17 = 89.12%, Train loss = 0.376\n",
            "\n",
            "Valid epoch: 17\tAccuracy: 1182/1333 (88.67%)\n",
            "\n",
            "Val Acc Epoch 18 = 88.45%, Train loss = 0.37\n",
            "\n",
            "Valid epoch: 18\tAccuracy: 1188/1333 (89.12%)\n",
            "\n",
            "Val Acc Epoch 19 = 89.12%, Train loss = 0.375\n",
            "\n",
            "Valid epoch: 19\tAccuracy: 1179/1333 (88.45%)\n",
            "\n",
            "Val Acc Epoch 20 = 89.65%, Train loss = 0.371\n",
            "\n",
            "Valid epoch: 20\tAccuracy: 1200/1333 (90.02%)\n",
            "\n",
            "Val Acc Epoch 21 = 88.97%, Train loss = 0.377\n",
            "\n",
            "Valid epoch: 21\tAccuracy: 1191/1333 (89.35%)\n",
            "\n",
            "Val Acc Epoch 22 = 88.6%, Train loss = 0.364\n",
            "\n",
            "Valid epoch: 22\tAccuracy: 1195/1333 (89.65%)\n",
            "\n",
            "Val Acc Epoch 23 = 89.12%, Train loss = 0.362\n",
            "\n",
            "Valid epoch: 23\tAccuracy: 1197/1333 (89.80%)\n",
            "\n",
            "Val Acc Epoch 24 = 89.95%, Train loss = 0.373\n",
            "\n",
            "Valid epoch: 24\tAccuracy: 1186/1333 (88.97%)\n",
            "\n",
            "Val Acc Epoch 25 = 88.67%, Train loss = 0.368\n",
            "\n",
            "Valid epoch: 25\tAccuracy: 1181/1333 (88.60%)\n",
            "\n",
            "Val Acc Epoch 26 = 90.1%, Train loss = 0.357\n",
            "\n",
            "Valid epoch: 26\tAccuracy: 1199/1333 (89.95%)\n",
            "\n",
            "Val Acc Epoch 27 = 89.05%, Train loss = 0.351\n",
            "\n",
            "Valid epoch: 27\tAccuracy: 1191/1333 (89.35%)\n",
            "\n",
            "Val Acc Epoch 28 = 89.35%, Train loss = 0.365\n",
            "\n",
            "Valid epoch: 28\tAccuracy: 1212/1333 (90.92%)\n",
            "\n",
            "Val Acc Epoch 29 = 88.97%, Train loss = 0.353\n",
            "\n",
            "Valid epoch: 29\tAccuracy: 1191/1333 (89.35%)\n",
            "\n",
            "Val Acc Epoch 30 = 89.72%, Train loss = 0.353\n",
            "\n",
            "Valid epoch: 30\tAccuracy: 1198/1333 (89.87%)\n",
            "\n",
            "Val Acc Epoch 31 = 90.02%, Train loss = 0.355\n",
            "\n",
            "Valid epoch: 31\tAccuracy: 1194/1333 (89.57%)\n",
            "\n",
            "Val Acc Epoch 32 = 89.57%, Train loss = 0.355\n",
            "\n",
            "Valid epoch: 32\tAccuracy: 1184/1333 (88.82%)\n",
            "\n",
            "Val Acc Epoch 33 = 90.62%, Train loss = 0.353\n",
            "\n",
            "Valid epoch: 33\tAccuracy: 1199/1333 (89.95%)\n",
            "\n",
            "Val Acc Epoch 34 = 89.65%, Train loss = 0.348\n",
            "\n",
            "Valid epoch: 34\tAccuracy: 1211/1333 (90.85%)\n",
            "\n",
            "Val Acc Epoch 35 = 90.25%, Train loss = 0.337\n",
            "\n",
            "Valid epoch: 35\tAccuracy: 1203/1333 (90.25%)\n",
            "\n",
            "Val Acc Epoch 36 = 89.87%, Train loss = 0.372\n",
            "\n",
            "Valid epoch: 36\tAccuracy: 1202/1333 (90.17%)\n",
            "\n",
            "Val Acc Epoch 37 = 89.12%, Train loss = 0.359\n",
            "\n",
            "Valid epoch: 37\tAccuracy: 1183/1333 (88.75%)\n",
            "\n",
            "Val Acc Epoch 38 = 89.87%, Train loss = 0.352\n",
            "\n",
            "Valid epoch: 38\tAccuracy: 1205/1333 (90.40%)\n",
            "\n",
            "Val Acc Epoch 39 = 89.8%, Train loss = 0.342\n",
            "\n",
            "Valid epoch: 39\tAccuracy: 1204/1333 (90.32%)\n",
            "\n",
            "Val Acc Epoch 40 = 90.77%, Train loss = 0.351\n",
            "\n",
            "Valid epoch: 40\tAccuracy: 1199/1333 (89.95%)\n",
            "\n",
            "Val Acc Epoch 41 = 91.52%, Train loss = 0.342\n",
            "\n",
            "Valid epoch: 41\tAccuracy: 1199/1333 (89.95%)\n",
            "\n",
            "Val Acc Epoch 42 = 88.67%, Train loss = 0.339\n",
            "\n",
            "Valid epoch: 42\tAccuracy: 1195/1333 (89.65%)\n",
            "\n",
            "Val Acc Epoch 43 = 89.35%, Train loss = 0.337\n",
            "\n",
            "Valid epoch: 43\tAccuracy: 1190/1333 (89.27%)\n",
            "\n",
            "Val Acc Epoch 44 = 89.8%, Train loss = 0.343\n",
            "\n",
            "Valid epoch: 44\tAccuracy: 1201/1333 (90.10%)\n",
            "\n",
            "Val Acc Epoch 45 = 91.15%, Train loss = 0.341\n",
            "\n",
            "Valid epoch: 45\tAccuracy: 1225/1333 (91.90%)\n",
            "\n",
            "Val Acc Epoch 46 = 89.87%, Train loss = 0.342\n",
            "\n",
            "Valid epoch: 46\tAccuracy: 1211/1333 (90.85%)\n",
            "\n",
            "Val Acc Epoch 47 = 90.55%, Train loss = 0.332\n",
            "\n",
            "Valid epoch: 47\tAccuracy: 1195/1333 (89.65%)\n",
            "\n",
            "Val Acc Epoch 48 = 90.17%, Train loss = 0.326\n",
            "\n",
            "Valid epoch: 48\tAccuracy: 1206/1333 (90.47%)\n",
            "\n",
            "Val Acc Epoch 49 = 90.1%, Train loss = 0.331\n",
            "\n",
            "Valid epoch: 49\tAccuracy: 1196/1333 (89.72%)\n",
            "\n",
            "Val Acc Epoch 50 = 89.2%, Train loss = 0.326\n",
            "\n",
            "Valid epoch: 50\tAccuracy: 1200/1333 (90.02%)\n",
            "\n",
            "Test Acc = 90.28%\n"
          ]
        }
      ],
      "source": [
        "pbar_update = 1 / (len(train_loader) + len(test_loader) + len(valid_loader))\n",
        "\n",
        "def run_training(model, data_loaders, n_epoch, optimizer,\n",
        "                 save_interval=1, resume=True, checkpoint_path=None):\n",
        "    test_loader = data_loaders['testing']\n",
        "    with tqdm(total=n_epoch) as pbar:\n",
        "\n",
        "        completed_epoch = 1\n",
        "        if resume:\n",
        "            try:\n",
        "                #continue training with previous model if one exists\n",
        "                checkpoint = torch.load(checkpoint_path)\n",
        "                model.load_state_dict(checkpoint['model_state_dict'])\n",
        "                optimizer.load_state_dict(checkpoint['optimizer_state_dict'])\n",
        "                completed_epoch = checkpoint[\"epoch\"] + 1\n",
        "                model.eval()\n",
        "                pbar.update(completed_epoch)\n",
        "            except:\n",
        "                pass\n",
        "\n",
        "        last_valacc = 0\n",
        "        for epoch in range(completed_epoch, n_epoch + 1):\n",
        "            train_iters = len(data_loaders['training'])\n",
        "\n",
        "            train(model, data_loaders, optimizer,\n",
        "                      epoch, device)\n",
        "\n",
        "            valacc = test(valid_loader, model, device, epoch=epoch,\n",
        "                          loader_type='Valid', verbose=True)\n",
        "            #checkpoint the model every epoch\n",
        "            if epoch % save_interval == 0 and valacc > last_valacc:\n",
        "                last_valacc = valacc\n",
        "                torch.save({\n",
        "                    'epoch': epoch,\n",
        "                    'model_state_dict': model.state_dict(),\n",
        "                    'optimizer_state_dict': optimizer.state_dict()\n",
        "                }, checkpoint_path)\n",
        "\n",
        "            # Update epoch pbar\n",
        "            pbar.update(1)\n",
        "\n",
        "        testacc = test(test_loader, model, device,\n",
        "                     epoch=None, loader_type='Test')\n",
        "        print(f'Test Acc = {round(testacc,2)}%')\n",
        "\n",
        "\n",
        "# This is where your checkpoint file will be saved\n",
        "checkpoint_path = os.path.join(TORCH_DIR, \"fp32_checkpoint.pt\")\n",
        "\n",
        "model_fp32.to(device)\n",
        "run_training(\n",
        "    model=model_fp32, data_loaders=data_loaders,\n",
        "    n_epoch=n_epoch, optimizer=optimizer_fp32,\n",
        "    resume=True, checkpoint_path=checkpoint_path\n",
        ")"
      ]
    },
    {
      "cell_type": "code",
      "source": [
        "text = \"\"\"\n",
        "Val Acc Epoch 1 = 83.5%, Train loss = 1.195\n",
        "\n",
        "Valid epoch: 1\tAccuracy: 1091/1333 (81.85%)\n",
        "\n",
        "Val Acc Epoch 2 = 84.62%, Train loss = 0.558\n",
        "\n",
        "Valid epoch: 2\tAccuracy: 1145/1333 (85.90%)\n",
        "\n",
        "Val Acc Epoch 3 = 85.9%, Train loss = 0.498\n",
        "\n",
        "Valid epoch: 3\tAccuracy: 1139/1333 (85.45%)\n",
        "\n",
        "Val Acc Epoch 4 = 88.07%, Train loss = 0.464\n",
        "\n",
        "Valid epoch: 4\tAccuracy: 1178/1333 (88.37%)\n",
        "\n",
        "Val Acc Epoch 5 = 89.12%, Train loss = 0.463\n",
        "\n",
        "Valid epoch: 5\tAccuracy: 1168/1333 (87.62%)\n",
        "\n",
        "Val Acc Epoch 6 = 88.45%, Train loss = 0.438\n",
        "\n",
        "Valid epoch: 6\tAccuracy: 1177/1333 (88.30%)\n",
        "\n",
        "Val Acc Epoch 7 = 88.37%, Train loss = 0.421\n",
        "\n",
        "Valid epoch: 7\tAccuracy: 1176/1333 (88.22%)\n",
        "\n",
        "Val Acc Epoch 8 = 88.97%, Train loss = 0.425\n",
        "\n",
        "Valid epoch: 8\tAccuracy: 1187/1333 (89.05%)\n",
        "\n",
        "Val Acc Epoch 9 = 88.52%, Train loss = 0.41\n",
        "\n",
        "Valid epoch: 9\tAccuracy: 1180/1333 (88.52%)\n",
        "\n",
        "Val Acc Epoch 10 = 88.97%, Train loss = 0.401\n",
        "\n",
        "Valid epoch: 10\tAccuracy: 1188/1333 (89.12%)\n",
        "\n",
        "Val Acc Epoch 11 = 88.82%, Train loss = 0.403\n",
        "\n",
        "Valid epoch: 11\tAccuracy: 1174/1333 (88.07%)\n",
        "\n",
        "Val Acc Epoch 12 = 88.82%, Train loss = 0.396\n",
        "\n",
        "Valid epoch: 12\tAccuracy: 1185/1333 (88.90%)\n",
        "\n",
        "Val Acc Epoch 13 = 89.5%, Train loss = 0.389\n",
        "\n",
        "Valid epoch: 13\tAccuracy: 1188/1333 (89.12%)\n",
        "\n",
        "Val Acc Epoch 14 = 89.35%, Train loss = 0.392\n",
        "\n",
        "Valid epoch: 14\tAccuracy: 1188/1333 (89.12%)\n",
        "\n",
        "Val Acc Epoch 15 = 88.52%, Train loss = 0.389\n",
        "\n",
        "Valid epoch: 15\tAccuracy: 1186/1333 (88.97%)\n",
        "\n",
        "Val Acc Epoch 16 = 88.52%, Train loss = 0.387\n",
        "\n",
        "Valid epoch: 16\tAccuracy: 1194/1333 (89.57%)\n",
        "\n",
        "Val Acc Epoch 17 = 89.12%, Train loss = 0.376\n",
        "\n",
        "Valid epoch: 17\tAccuracy: 1182/1333 (88.67%)\n",
        "\n",
        "Val Acc Epoch 18 = 88.45%, Train loss = 0.37\n",
        "\n",
        "Valid epoch: 18\tAccuracy: 1188/1333 (89.12%)\n",
        "\n",
        "Val Acc Epoch 19 = 89.12%, Train loss = 0.375\n",
        "\n",
        "Valid epoch: 19\tAccuracy: 1179/1333 (88.45%)\n",
        "\n",
        "Val Acc Epoch 20 = 89.65%, Train loss = 0.371\n",
        "\n",
        "Valid epoch: 20\tAccuracy: 1200/1333 (90.02%)\n",
        "\n",
        "Val Acc Epoch 21 = 88.97%, Train loss = 0.377\n",
        "\n",
        "Valid epoch: 21\tAccuracy: 1191/1333 (89.35%)\n",
        "\n",
        "Val Acc Epoch 22 = 88.6%, Train loss = 0.364\n",
        "\n",
        "Valid epoch: 22\tAccuracy: 1195/1333 (89.65%)\n",
        "\n",
        "Val Acc Epoch 23 = 89.12%, Train loss = 0.362\n",
        "\n",
        "Valid epoch: 23\tAccuracy: 1197/1333 (89.80%)\n",
        "\n",
        "Val Acc Epoch 24 = 89.95%, Train loss = 0.373\n",
        "\n",
        "Valid epoch: 24\tAccuracy: 1186/1333 (88.97%)\n",
        "\n",
        "Val Acc Epoch 25 = 88.67%, Train loss = 0.368\n",
        "\n",
        "Valid epoch: 25\tAccuracy: 1181/1333 (88.60%)\n",
        "\n",
        "Val Acc Epoch 26 = 90.1%, Train loss = 0.357\n",
        "\n",
        "Valid epoch: 26\tAccuracy: 1199/1333 (89.95%)\n",
        "\n",
        "Val Acc Epoch 27 = 89.05%, Train loss = 0.351\n",
        "\n",
        "Valid epoch: 27\tAccuracy: 1191/1333 (89.35%)\n",
        "\n",
        "Val Acc Epoch 28 = 89.35%, Train loss = 0.365\n",
        "\n",
        "Valid epoch: 28\tAccuracy: 1212/1333 (90.92%)\n",
        "\n",
        "Val Acc Epoch 29 = 88.97%, Train loss = 0.353\n",
        "\n",
        "Valid epoch: 29\tAccuracy: 1191/1333 (89.35%)\n",
        "\n",
        "Val Acc Epoch 30 = 89.72%, Train loss = 0.353\n",
        "\n",
        "Valid epoch: 30\tAccuracy: 1198/1333 (89.87%)\n",
        "\n",
        "Val Acc Epoch 31 = 90.02%, Train loss = 0.355\n",
        "\n",
        "Valid epoch: 31\tAccuracy: 1194/1333 (89.57%)\n",
        "\n",
        "Val Acc Epoch 32 = 89.57%, Train loss = 0.355\n",
        "\n",
        "Valid epoch: 32\tAccuracy: 1184/1333 (88.82%)\n",
        "\n",
        "Val Acc Epoch 33 = 90.62%, Train loss = 0.353\n",
        "\n",
        "Valid epoch: 33\tAccuracy: 1199/1333 (89.95%)\n",
        "\n",
        "Val Acc Epoch 34 = 89.65%, Train loss = 0.348\n",
        "\n",
        "Valid epoch: 34\tAccuracy: 1211/1333 (90.85%)\n",
        "\n",
        "Val Acc Epoch 35 = 90.25%, Train loss = 0.337\n",
        "\n",
        "Valid epoch: 35\tAccuracy: 1203/1333 (90.25%)\n",
        "\n",
        "Val Acc Epoch 36 = 89.87%, Train loss = 0.372\n",
        "\n",
        "Valid epoch: 36\tAccuracy: 1202/1333 (90.17%)\n",
        "\n",
        "Val Acc Epoch 37 = 89.12%, Train loss = 0.359\n",
        "\n",
        "Valid epoch: 37\tAccuracy: 1183/1333 (88.75%)\n",
        "\n",
        "Val Acc Epoch 38 = 89.87%, Train loss = 0.352\n",
        "\n",
        "Valid epoch: 38\tAccuracy: 1205/1333 (90.40%)\n",
        "\n",
        "Val Acc Epoch 39 = 89.8%, Train loss = 0.342\n",
        "\n",
        "Valid epoch: 39\tAccuracy: 1204/1333 (90.32%)\n",
        "\n",
        "Val Acc Epoch 40 = 90.77%, Train loss = 0.351\n",
        "\n",
        "Valid epoch: 40\tAccuracy: 1199/1333 (89.95%)\n",
        "\n",
        "Val Acc Epoch 41 = 91.52%, Train loss = 0.342\n",
        "\n",
        "Valid epoch: 41\tAccuracy: 1199/1333 (89.95%)\n",
        "\n",
        "Val Acc Epoch 42 = 88.67%, Train loss = 0.339\n",
        "\n",
        "Valid epoch: 42\tAccuracy: 1195/1333 (89.65%)\n",
        "\n",
        "Val Acc Epoch 43 = 89.35%, Train loss = 0.337\n",
        "\n",
        "Valid epoch: 43\tAccuracy: 1190/1333 (89.27%)\n",
        "\n",
        "Val Acc Epoch 44 = 89.8%, Train loss = 0.343\n",
        "\n",
        "Valid epoch: 44\tAccuracy: 1201/1333 (90.10%)\n",
        "\n",
        "Val Acc Epoch 45 = 91.15%, Train loss = 0.341\n",
        "\n",
        "Valid epoch: 45\tAccuracy: 1225/1333 (91.90%)\n",
        "\n",
        "Val Acc Epoch 46 = 89.87%, Train loss = 0.342\n",
        "\n",
        "Valid epoch: 46\tAccuracy: 1211/1333 (90.85%)\n",
        "\n",
        "Val Acc Epoch 47 = 90.55%, Train loss = 0.332\n",
        "\n",
        "Valid epoch: 47\tAccuracy: 1195/1333 (89.65%)\n",
        "\n",
        "Val Acc Epoch 48 = 90.17%, Train loss = 0.326\n",
        "\n",
        "Valid epoch: 48\tAccuracy: 1206/1333 (90.47%)\n",
        "\n",
        "Val Acc Epoch 49 = 90.1%, Train loss = 0.331\n",
        "\n",
        "Valid epoch: 49\tAccuracy: 1196/1333 (89.72%)\n",
        "\n",
        "Val Acc Epoch 50 = 89.2%, Train loss = 0.326\n",
        "\n",
        "Valid epoch: 50\tAccuracy: 1200/1333 (90.02%)\n",
        "\"\"\"\n",
        "\n"
      ],
      "metadata": {
        "id": "cTLAN6LjFDmH"
      },
      "execution_count": 1,
      "outputs": []
    },
    {
      "cell_type": "code",
      "source": [
        "import re\n",
        "import matplotlib.pyplot as plt\n",
        "\n",
        "# Extracting % numbers from Val Acc Epoch lines\n",
        "val_acc_epochs = re.findall(r'Val Acc Epoch \\d+ = (\\d+\\.\\d+)%', text)\n",
        "val_acc_epochs = [float(val) for val in val_acc_epochs]\n",
        "\n",
        "# Extracting % numbers from Valid epoch lines\n",
        "valid_epochs = re.findall(r'Accuracy: \\d+/\\d+ \\((\\d+\\.\\d+)%\\)', text)\n",
        "valid_epochs = [float(val) for val in valid_epochs]\n",
        "\n",
        "# Plotting\n",
        "epochs = range(1, len(val_acc_epochs) + 1)\n",
        "plt.plot(epochs, val_acc_epochs, label='Training Accuracy')\n",
        "plt.plot(epochs, valid_epochs, label='Validation Accuracy')\n",
        "plt.xlabel('Epoch')\n",
        "plt.ylabel('Accuracy (%)')\n",
        "plt.title('Training and Validation Accuracy')\n",
        "plt.legend()\n",
        "plt.show()"
      ],
      "metadata": {
        "colab": {
          "base_uri": "https://localhost:8080/",
          "height": 472
        },
        "id": "9_4PfVIsFVbX",
        "outputId": "c78a325b-fea3-4a32-ee61-71db86bea0eb"
      },
      "execution_count": 4,
      "outputs": [
        {
          "output_type": "display_data",
          "data": {
            "text/plain": [
              "<Figure size 640x480 with 1 Axes>"
            ],
            "image/png": "[encoded data removed]"
          },
          "metadata": {}
        }
      ]
    },
    {
      "cell_type": "markdown",
      "metadata": {
        "id": "Qg1WlG-rliKl"
      },
      "source": [
        "## 3.5 Testing"
      ]
    },
    {
      "cell_type": "markdown",
      "metadata": {
        "id": "oYgFvfYAliKm"
      },
      "source": [
        "### Calculating accuracy\n"
      ]
    },
    {
      "cell_type": "code",
      "execution_count": null,
      "metadata": {
        "id": "9PtKvJH_liKm",
        "colab": {
          "base_uri": "https://localhost:8080/",
          "height": 1000
        },
        "outputId": "e5b69818-db67-4627-925f-e2c4bc50066c"
      },
      "outputs": [
        {
          "output_type": "stream",
          "name": "stdout",
          "text": [
            "Train size: 10556 Val size: 1333 Test size: 1368\n"
          ]
        },
        {
          "output_type": "display_data",
          "data": {
            "text/plain": [
              "<Figure size 640x480 with 1 Axes>"
            ],
            "image/png": "[encoded data removed]"
          },
          "metadata": {}
        },
        {
          "output_type": "display_data",
          "data": {
            "text/plain": [
              "<Figure size 640x480 with 1 Axes>"
            ],
            "image/png": "[encoded data removed]"
          },
          "metadata": {}
        },
        {
          "output_type": "display_data",
          "data": {
            "text/plain": [
              "<Figure size 640x480 with 1 Axes>"
            ],
            "image/png": "[encoded data removed]"
          },
          "metadata": {}
        }
      ],
      "source": [
        "from src.train_val_test_utils import plot_acc\n",
        "\n",
        "test_time_data_loaders = make_data_loaders(\n",
        "    audio_processor, device,\n",
        "    test_batch_size=1, valid_batch_size=1,\n",
        "    num_workers=0\n",
        ")\n",
        "\n",
        "plot_acc(\n",
        "    test_time_data_loaders['validation'], model_fp32, audio_processor, device,\n",
        "    \"validation\", 'float32 TinyConv', \"float\")\n",
        "plot_acc(\n",
        "    test_time_data_loaders['training'], model_fp32, audio_processor, device,\n",
        "    \"training\", 'float32 TinyConv', \"float\")\n",
        "acc = plot_acc(\n",
        "    test_time_data_loaders['testing'], model_fp32, audio_processor, device,\n",
        "    'testing', 'float32 TinyConv', \"float\")"
      ]
    },
    {
      "cell_type": "markdown",
      "metadata": {
        "id": "_tMzxb-jliKm"
      },
      "source": [
        "## 3.6 Save the Trained Model"
      ]
    },
    {
      "cell_type": "code",
      "execution_count": null,
      "metadata": {
        "id": "zqC6fEoUliKm"
      },
      "outputs": [],
      "source": [
        "def choose_name(model_name):\n",
        "    name = f\"{model_name}_\" + \"{index}\"\n",
        "    i = 0\n",
        "    while os.path.isfile(name.format(index=i)):\n",
        "        i += 1\n",
        "    name = name.format(index = i)\n",
        "    print(f\"The model's will be stored as: \\n {name}\")\n",
        "    return name\n",
        "\n",
        "def save_model(model, path):\n",
        "    torch.save(model.state_dict(), path)"
      ]
    },
    {
      "cell_type": "code",
      "execution_count": null,
      "metadata": {
        "id": "VVKrP45aliKm",
        "colab": {
          "base_uri": "https://localhost:8080/",
          "height": 73
        },
        "outputId": "227a612e-8185-4cf2-c6f7-c076beeda9d2"
      },
      "outputs": [
        {
          "output_type": "stream",
          "name": "stdout",
          "text": [
            "The model's will be stored as: \n",
            " tinyconv_float32_init_seed0_90.35%_0\n"
          ]
        },
        {
          "output_type": "execute_result",
          "data": {
            "text/plain": [
              "'/content/gdrive/MyDrive/ece5545/models/torch_models/tinyconv_float32_init_seed0_90.35%_0.pt'"
            ],
            "application/vnd.google.colaboratory.intrinsic+json": {
              "type": "string"
            }
          },
          "metadata": {},
          "execution_count": 22
        }
      ],
      "source": [
        "# Choose a path\n",
        "# You can also define your own path\n",
        "model_name = f\"tinyconv_float32_init_seed{torch.initial_seed()}_{acc * 100:.2f}%\"\n",
        "file_name = choose_name(model_name)\n",
        "torch_path = os.path.join(TORCH_DIR, f'{file_name}.pt')\n",
        "torch_path"
      ]
    },
    {
      "cell_type": "code",
      "execution_count": null,
      "metadata": {
        "id": "JHgqZ8yXliKn",
        "colab": {
          "base_uri": "https://localhost:8080/",
          "height": 36
        },
        "outputId": "183a09a5-54e0-4356-ac77-a0790e45b4b1"
      },
      "outputs": [
        {
          "output_type": "execute_result",
          "data": {
            "text/plain": [
              "'Saved!'"
            ],
            "application/vnd.google.colaboratory.intrinsic+json": {
              "type": "string"
            }
          },
          "metadata": {},
          "execution_count": 23
        }
      ],
      "source": [
        "# Save the trained pytorch model to torch_path\n",
        "save_model(model_fp32, torch_path)\n",
        "'Saved!'"
      ]
    },
    {
      "cell_type": "code",
      "execution_count": null,
      "metadata": {
        "id": "CnJHbwj0UAi5",
        "colab": {
          "base_uri": "https://localhost:8080/",
          "height": 36
        },
        "outputId": "fe246d3d-9c3a-490f-b424-0efd4c1d40d7"
      },
      "outputs": [
        {
          "output_type": "execute_result",
          "data": {
            "text/plain": [
              "'You can now find your model in /content/gdrive/MyDrive/ece5545/models/torch_models/tinyconv_float32_init_seed0_90.35%_0.pt under the folder icon to the left.'"
            ],
            "application/vnd.google.colaboratory.intrinsic+json": {
              "type": "string"
            }
          },
          "metadata": {},
          "execution_count": 24
        }
      ],
      "source": [
        "'You can now find your model in %s under the folder icon to the left.' % torch_path"
      ]
    },
    {
      "cell_type": "code",
      "execution_count": null,
      "metadata": {
        "id": "kauQRx68xaeo"
      },
      "outputs": [],
      "source": []
    }
  ],
  "metadata": {
    "colab": {
      "provenance": [],
      "include_colab_link": true
    },
    "interpreter": {
      "hash": "92bf126df007708fd70c442c808ee74575bedf7ea6317e0b182c3af0184af25d"
    },
    "kernelspec": {
      "display_name": "Python 3",
      "name": "python3"
    },
    "language_info": {
      "name": "python"
    },
    "widgets": {
      "application/vnd.jupyter.widget-state+json": {
        "c007be4a960d423a8b5c75b5fe331565": {
          "model_module": "@jupyter-widgets/controls",
          "model_name": "HBoxModel",
          "model_module_version": "1.5.0",
          "state": {
            "_dom_classes": [],
            "_model_module": "@jupyter-widgets/controls",
            "_model_module_version": "1.5.0",
            "_model_name": "HBoxModel",
            "_view_count": null,
            "_view_module": "@jupyter-widgets/controls",
            "_view_module_version": "1.5.0",
            "_view_name": "HBoxView",
            "box_style": "",
            "children": [
              "IPY_MODEL_3642eb2762f14bbeaa243cc486baeecc",
              "IPY_MODEL_a02b79c086a744d882653f9248c5f8e8",
              "IPY_MODEL_5c728e69af5d47c0beeca8b46caeadae"
            ],
            "layout": "IPY_MODEL_8d3886437c1f4900837a06d7ce29cb05"
          }
        },
        "3642eb2762f14bbeaa243cc486baeecc": {
          "model_module": "@jupyter-widgets/controls",
          "model_name": "HTMLModel",
          "model_module_version": "1.5.0",
          "state": {
            "_dom_classes": [],
            "_model_module": "@jupyter-widgets/controls",
            "_model_module_version": "1.5.0",
            "_model_name": "HTMLModel",
            "_view_count": null,
            "_view_module": "@jupyter-widgets/controls",
            "_view_module_version": "1.5.0",
            "_view_name": "HTMLView",
            "description": "",
            "description_tooltip": null,
            "layout": "IPY_MODEL_49838e5685db455c84f4a22c49164f99",
            "placeholder": "​",
            "style": "IPY_MODEL_694caa76079646d8a71da63faa8b10a0",
            "value": "100%"
          }
        },
        "a02b79c086a744d882653f9248c5f8e8": {
          "model_module": "@jupyter-widgets/controls",
          "model_name": "FloatProgressModel",
          "model_module_version": "1.5.0",
          "state": {
            "_dom_classes": [],
            "_model_module": "@jupyter-widgets/controls",
            "_model_module_version": "1.5.0",
            "_model_name": "FloatProgressModel",
            "_view_count": null,
            "_view_module": "@jupyter-widgets/controls",
            "_view_module_version": "1.5.0",
            "_view_name": "ProgressView",
            "bar_style": "success",
            "description": "",
            "description_tooltip": null,
            "layout": "IPY_MODEL_e6957aa14dc6495ba56ddac3425d3bb1",
            "max": 50,
            "min": 0,
            "orientation": "horizontal",
            "style": "IPY_MODEL_df472e8f725442eaba498f07c36aefa1",
            "value": 50
          }
        },
        "5c728e69af5d47c0beeca8b46caeadae": {
          "model_module": "@jupyter-widgets/controls",
          "model_name": "HTMLModel",
          "model_module_version": "1.5.0",
          "state": {
            "_dom_classes": [],
            "_model_module": "@jupyter-widgets/controls",
            "_model_module_version": "1.5.0",
            "_model_name": "HTMLModel",
            "_view_count": null,
            "_view_module": "@jupyter-widgets/controls",
            "_view_module_version": "1.5.0",
            "_view_name": "HTMLView",
            "description": "",
            "description_tooltip": null,
            "layout": "IPY_MODEL_3f43c18ea42446f0a9ffc4fd6883bf70",
            "placeholder": "​",
            "style": "IPY_MODEL_655c75d9241e469b94ec9ee9a4160f8a",
            "value": " 50/50 [2:58:14&lt;00:00, 115.12s/it]"
          }
        },
        "8d3886437c1f4900837a06d7ce29cb05": {
          "model_module": "@jupyter-widgets/base",
          "model_name": "LayoutModel",
          "model_module_version": "1.2.0",
          "state": {
            "_model_module": "@jupyter-widgets/base",
            "_model_module_version": "1.2.0",
            "_model_name": "LayoutModel",
            "_view_count": null,
            "_view_module": "@jupyter-widgets/base",
            "_view_module_version": "1.2.0",
            "_view_name": "LayoutView",
            "align_content": null,
            "align_items": null,
            "align_self": null,
            "border": null,
            "bottom": null,
            "display": null,
            "flex": null,
            "flex_flow": null,
            "grid_area": null,
            "grid_auto_columns": null,
            "grid_auto_flow": null,
            "grid_auto_rows": null,
            "grid_column": null,
            "grid_gap": null,
            "grid_row": null,
            "grid_template_areas": null,
            "grid_template_columns": null,
            "grid_template_rows": null,
            "height": null,
            "justify_content": null,
            "justify_items": null,
            "left": null,
            "margin": null,
            "max_height": null,
            "max_width": null,
            "min_height": null,
            "min_width": null,
            "object_fit": null,
            "object_position": null,
            "order": null,
            "overflow": null,
            "overflow_x": null,
            "overflow_y": null,
            "padding": null,
            "right": null,
            "top": null,
            "visibility": null,
            "width": null
          }
        },
        "49838e5685db455c84f4a22c49164f99": {
          "model_module": "@jupyter-widgets/base",
          "model_name": "LayoutModel",
          "model_module_version": "1.2.0",
          "state": {
            "_model_module": "@jupyter-widgets/base",
            "_model_module_version": "1.2.0",
            "_model_name": "LayoutModel",
            "_view_count": null,
            "_view_module": "@jupyter-widgets/base",
            "_view_module_version": "1.2.0",
            "_view_name": "LayoutView",
            "align_content": null,
            "align_items": null,
            "align_self": null,
            "border": null,
            "bottom": null,
            "display": null,
            "flex": null,
            "flex_flow": null,
            "grid_area": null,
            "grid_auto_columns": null,
            "grid_auto_flow": null,
            "grid_auto_rows": null,
            "grid_column": null,
            "grid_gap": null,
            "grid_row": null,
            "grid_template_areas": null,
            "grid_template_columns": null,
            "grid_template_rows": null,
            "height": null,
            "justify_content": null,
            "justify_items": null,
            "left": null,
            "margin": null,
            "max_height": null,
            "max_width": null,
            "min_height": null,
            "min_width": null,
            "object_fit": null,
            "object_position": null,
            "order": null,
            "overflow": null,
            "overflow_x": null,
            "overflow_y": null,
            "padding": null,
            "right": null,
            "top": null,
            "visibility": null,
            "width": null
          }
        },
        "694caa76079646d8a71da63faa8b10a0": {
          "model_module": "@jupyter-widgets/controls",
          "model_name": "DescriptionStyleModel",
          "model_module_version": "1.5.0",
          "state": {
            "_model_module": "@jupyter-widgets/controls",
            "_model_module_version": "1.5.0",
            "_model_name": "DescriptionStyleModel",
            "_view_count": null,
            "_view_module": "@jupyter-widgets/base",
            "_view_module_version": "1.2.0",
            "_view_name": "StyleView",
            "description_width": ""
          }
        },
        "e6957aa14dc6495ba56ddac3425d3bb1": {
          "model_module": "@jupyter-widgets/base",
          "model_name": "LayoutModel",
          "model_module_version": "1.2.0",
          "state": {
            "_model_module": "@jupyter-widgets/base",
            "_model_module_version": "1.2.0",
            "_model_name": "LayoutModel",
            "_view_count": null,
            "_view_module": "@jupyter-widgets/base",
            "_view_module_version": "1.2.0",
            "_view_name": "LayoutView",
            "align_content": null,
            "align_items": null,
            "align_self": null,
            "border": null,
            "bottom": null,
            "display": null,
            "flex": null,
            "flex_flow": null,
            "grid_area": null,
            "grid_auto_columns": null,
            "grid_auto_flow": null,
            "grid_auto_rows": null,
            "grid_column": null,
            "grid_gap": null,
            "grid_row": null,
            "grid_template_areas": null,
            "grid_template_columns": null,
            "grid_template_rows": null,
            "height": null,
            "justify_content": null,
            "justify_items": null,
            "left": null,
            "margin": null,
            "max_height": null,
            "max_width": null,
            "min_height": null,
            "min_width": null,
            "object_fit": null,
            "object_position": null,
            "order": null,
            "overflow": null,
            "overflow_x": null,
            "overflow_y": null,
            "padding": null,
            "right": null,
            "top": null,
            "visibility": null,
            "width": null
          }
        },
        "df472e8f725442eaba498f07c36aefa1": {
          "model_module": "@jupyter-widgets/controls",
          "model_name": "ProgressStyleModel",
          "model_module_version": "1.5.0",
          "state": {
            "_model_module": "@jupyter-widgets/controls",
            "_model_module_version": "1.5.0",
            "_model_name": "ProgressStyleModel",
            "_view_count": null,
            "_view_module": "@jupyter-widgets/base",
            "_view_module_version": "1.2.0",
            "_view_name": "StyleView",
            "bar_color": null,
            "description_width": ""
          }
        },
        "3f43c18ea42446f0a9ffc4fd6883bf70": {
          "model_module": "@jupyter-widgets/base",
          "model_name": "LayoutModel",
          "model_module_version": "1.2.0",
          "state": {
            "_model_module": "@jupyter-widgets/base",
            "_model_module_version": "1.2.0",
            "_model_name": "LayoutModel",
            "_view_count": null,
            "_view_module": "@jupyter-widgets/base",
            "_view_module_version": "1.2.0",
            "_view_name": "LayoutView",
            "align_content": null,
            "align_items": null,
            "align_self": null,
            "border": null,
            "bottom": null,
            "display": null,
            "flex": null,
            "flex_flow": null,
            "grid_area": null,
            "grid_auto_columns": null,
            "grid_auto_flow": null,
            "grid_auto_rows": null,
            "grid_column": null,
            "grid_gap": null,
            "grid_row": null,
            "grid_template_areas": null,
            "grid_template_columns": null,
            "grid_template_rows": null,
            "height": null,
            "justify_content": null,
            "justify_items": null,
            "left": null,
            "margin": null,
            "max_height": null,
            "max_width": null,
            "min_height": null,
            "min_width": null,
            "object_fit": null,
            "object_position": null,
            "order": null,
            "overflow": null,
            "overflow_x": null,
            "overflow_y": null,
            "padding": null,
            "right": null,
            "top": null,
            "visibility": null,
            "width": null
          }
        },
        "655c75d9241e469b94ec9ee9a4160f8a": {
          "model_module": "@jupyter-widgets/controls",
          "model_name": "DescriptionStyleModel",
          "model_module_version": "1.5.0",
          "state": {
            "_model_module": "@jupyter-widgets/controls",
            "_model_module_version": "1.5.0",
            "_model_name": "DescriptionStyleModel",
            "_view_count": null,
            "_view_module": "@jupyter-widgets/base",
            "_view_module_version": "1.2.0",
            "_view_name": "StyleView",
            "description_width": ""
          }
        }
      }
    }
  },
  "nbformat": 4,
  "nbformat_minor": 0
}
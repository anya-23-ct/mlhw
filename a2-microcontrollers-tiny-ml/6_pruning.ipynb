{
  "cells": [
    {
      "cell_type": "markdown",
      "metadata": {
        "id": "view-in-github",
        "colab_type": "text"
      },
      "source": [
        "<a href=\"https://colab.research.google.com/github/ML-HW-SYS/a2-anya-23-ct/blob/main/6_pruning.ipynb\" target=\"_parent\"><img src=\"https://colab.research.google.com/assets/colab-badge.svg\" alt=\"Open In Colab\"/></a>"
      ]
    },
    {
      "cell_type": "markdown",
      "metadata": {
        "id": "rT9UCMkJpQt4"
      },
      "source": [
        "# **6. Model Pruning**"
      ]
    },
    {
      "cell_type": "markdown",
      "metadata": {
        "id": "z69Judy_pm0f"
      },
      "source": [
        "## 6.0 Setup GDrive and Git"
      ]
    },
    {
      "cell_type": "code",
      "execution_count": 1,
      "metadata": {
        "colab": {
          "base_uri": "https://localhost:8080/"
        },
        "id": "lDjNQ68KByBz",
        "outputId": "5e75161e-8a7e-4951-dede-88ca983d3a82"
      },
      "outputs": [
        {
          "output_type": "stream",
          "name": "stdout",
          "text": [
            "Mounted at /content/gdrive\n"
          ]
        }
      ],
      "source": [
        "# Mount google drive\n",
        "from google.colab import drive\n",
        "drive.mount('/content/gdrive')"
      ]
    },
    {
      "cell_type": "code",
      "execution_count": 2,
      "metadata": {
        "id": "Xc4_W3YKB7g_"
      },
      "outputs": [],
      "source": [
        "# Make sure your token is stored in a txt file at the location below.\n",
        "# This way there is no risk that you will push it to your repo\n",
        "# Never share your token with anyone, it is basically your github password!\n",
        "with open('/content/gdrive/MyDrive/ece5545/token.txt') as f:\n",
        "    token = f.readline().strip()\n",
        "# Use another file to store your github username\n",
        "with open('/content/gdrive/MyDrive/ece5545/git_username.txt') as f:\n",
        "    handle = f.readline().strip()"
      ]
    },
    {
      "cell_type": "code",
      "execution_count": 3,
      "metadata": {
        "colab": {
          "base_uri": "https://localhost:8080/"
        },
        "id": "hCPU1IvvB7r6",
        "outputId": "3eefdc4e-8b16-4d8f-f9cb-f9cd2c3398cb"
      },
      "outputs": [
        {
          "output_type": "stream",
          "name": "stdout",
          "text": [
            "/content/gdrive/MyDrive/ece5545\n",
            "/content/gdrive/MyDrive/ece5545/a2-anya-23-ct\n",
            "M\t3_training_and_analysis.ipynb\n",
            "M\t5_quantization.ipynb\n",
            "Already on 'main'\n",
            "Your branch is behind 'origin/main' by 3 commits, and can be fast-forwarded.\n",
            "  (use \"git pull\" to update your local branch)\n",
            "Updating 3d08810..6d34fda\n",
            "error: Your local changes to the following files would be overwritten by merge:\n",
            "\t3_training_and_analysis.ipynb\n",
            "\t5_quantization.ipynb\n",
            "Please commit your changes or stash them before you merge.\n",
            "Aborting\n",
            "/content/gdrive/MyDrive/ece5545\n"
          ]
        }
      ],
      "source": [
        "# Clone your github repo\n",
        "YOUR_TOKEN = token\n",
        "YOUR_HANDLE = handle\n",
        "BRANCH = \"main\"\n",
        "\n",
        "# %mkdir /content/gdrive/MyDrive/ece5545\n",
        "%cd /content/gdrive/MyDrive/ece5545\n",
        "# !git clone https://{YOUR_TOKEN}@github.com/ML-HW-SYS/a2-{YOUR_HANDLE}.git\n",
        "%cd /content/gdrive/MyDrive/ece5545/a2-{YOUR_HANDLE}\n",
        "!git checkout {BRANCH}\n",
        "!git pull\n",
        "%cd /content/gdrive/MyDrive/ece5545\n",
        "\n",
        "PROJECT_ROOT = f\"/content/gdrive/MyDrive/ece5545/a2-{YOUR_HANDLE}\""
      ]
    },
    {
      "cell_type": "code",
      "execution_count": 4,
      "metadata": {
        "id": "aKMJj5f1B7zb"
      },
      "outputs": [],
      "source": [
        "# This extension reloads all imports before running each cell\n",
        "%load_ext autoreload\n",
        "%autoreload 2"
      ]
    },
    {
      "cell_type": "markdown",
      "metadata": {
        "id": "jWpupyC8p7fD"
      },
      "source": [
        "### GPU: Ensure you are running the GPU runtime type:\n",
        "1.   Click \"Runtime\" on top banner\n",
        "2.   Select \"Change runtime type\"\n",
        "3.   Under \"Hardware accelarator\" select \"GPU\" and save"
      ]
    },
    {
      "cell_type": "markdown",
      "metadata": {
        "id": "Se1IC3sCqTYF"
      },
      "source": [
        "### Install required packages"
      ]
    },
    {
      "cell_type": "code",
      "execution_count": 5,
      "metadata": {
        "colab": {
          "base_uri": "https://localhost:8080/"
        },
        "id": "0VWKHppopJTu",
        "outputId": "8b90d463-1f90-4c1a-da00-0d66ae015915"
      },
      "outputs": [
        {
          "output_type": "stream",
          "name": "stdout",
          "text": [
            "Requirement already satisfied: torchaudio in /usr/local/lib/python3.10/dist-packages (2.2.1+cu121)\n",
            "Requirement already satisfied: torch==2.2.1 in /usr/local/lib/python3.10/dist-packages (from torchaudio) (2.2.1+cu121)\n",
            "Requirement already satisfied: filelock in /usr/local/lib/python3.10/dist-packages (from torch==2.2.1->torchaudio) (3.13.1)\n",
            "Requirement already satisfied: typing-extensions>=4.8.0 in /usr/local/lib/python3.10/dist-packages (from torch==2.2.1->torchaudio) (4.10.0)\n",
            "Requirement already satisfied: sympy in /usr/local/lib/python3.10/dist-packages (from torch==2.2.1->torchaudio) (1.12)\n",
            "Requirement already satisfied: networkx in /usr/local/lib/python3.10/dist-packages (from torch==2.2.1->torchaudio) (3.2.1)\n",
            "Requirement already satisfied: jinja2 in /usr/local/lib/python3.10/dist-packages (from torch==2.2.1->torchaudio) (3.1.3)\n",
            "Requirement already satisfied: fsspec in /usr/local/lib/python3.10/dist-packages (from torch==2.2.1->torchaudio) (2023.6.0)\n",
            "Collecting nvidia-cuda-nvrtc-cu12==12.1.105 (from torch==2.2.1->torchaudio)\n",
            "  Downloading nvidia_cuda_nvrtc_cu12-12.1.105-py3-none-manylinux1_x86_64.whl (23.7 MB)\n",
            "\u001b[2K     \u001b[90m━━━━━━━━━━━━━━━━━━━━━━━━━━━━━━━━━━━━━━━━\u001b[0m \u001b[32m23.7/23.7 MB\u001b[0m \u001b[31m38.5 MB/s\u001b[0m eta \u001b[36m0:00:00\u001b[0m\n",
            "\u001b[?25hCollecting nvidia-cuda-runtime-cu12==12.1.105 (from torch==2.2.1->torchaudio)\n",
            "  Downloading nvidia_cuda_runtime_cu12-12.1.105-py3-none-manylinux1_x86_64.whl (823 kB)\n",
            "\u001b[2K     \u001b[90m━━━━━━━━━━━━━━━━━━━━━━━━━━━━━━━━━━━━━━━━\u001b[0m \u001b[32m823.6/823.6 kB\u001b[0m \u001b[31m55.0 MB/s\u001b[0m eta \u001b[36m0:00:00\u001b[0m\n",
            "\u001b[?25hCollecting nvidia-cuda-cupti-cu12==12.1.105 (from torch==2.2.1->torchaudio)\n",
            "  Downloading nvidia_cuda_cupti_cu12-12.1.105-py3-none-manylinux1_x86_64.whl (14.1 MB)\n",
            "\u001b[2K     \u001b[90m━━━━━━━━━━━━━━━━━━━━━━━━━━━━━━━━━━━━━━━━\u001b[0m \u001b[32m14.1/14.1 MB\u001b[0m \u001b[31m48.6 MB/s\u001b[0m eta \u001b[36m0:00:00\u001b[0m\n",
            "\u001b[?25hCollecting nvidia-cudnn-cu12==8.9.2.26 (from torch==2.2.1->torchaudio)\n",
            "  Downloading nvidia_cudnn_cu12-8.9.2.26-py3-none-manylinux1_x86_64.whl (731.7 MB)\n",
            "\u001b[2K     \u001b[90m━━━━━━━━━━━━━━━━━━━━━━━━━━━━━━━━━━━━━━━━\u001b[0m \u001b[32m731.7/731.7 MB\u001b[0m \u001b[31m988.5 kB/s\u001b[0m eta \u001b[36m0:00:00\u001b[0m\n",
            "\u001b[?25hCollecting nvidia-cublas-cu12==12.1.3.1 (from torch==2.2.1->torchaudio)\n",
            "  Downloading nvidia_cublas_cu12-12.1.3.1-py3-none-manylinux1_x86_64.whl (410.6 MB)\n",
            "\u001b[2K     \u001b[90m━━━━━━━━━━━━━━━━━━━━━━━━━━━━━━━━━━━━━━━━\u001b[0m \u001b[32m410.6/410.6 MB\u001b[0m \u001b[31m1.6 MB/s\u001b[0m eta \u001b[36m0:00:00\u001b[0m\n",
            "\u001b[?25hCollecting nvidia-cufft-cu12==11.0.2.54 (from torch==2.2.1->torchaudio)\n",
            "  Downloading nvidia_cufft_cu12-11.0.2.54-py3-none-manylinux1_x86_64.whl (121.6 MB)\n",
            "\u001b[2K     \u001b[90m━━━━━━━━━━━━━━━━━━━━━━━━━━━━━━━━━━━━━━━━\u001b[0m \u001b[32m121.6/121.6 MB\u001b[0m \u001b[31m2.3 MB/s\u001b[0m eta \u001b[36m0:00:00\u001b[0m\n",
            "\u001b[?25hCollecting nvidia-curand-cu12==10.3.2.106 (from torch==2.2.1->torchaudio)\n",
            "  Downloading nvidia_curand_cu12-10.3.2.106-py3-none-manylinux1_x86_64.whl (56.5 MB)\n",
            "\u001b[2K     \u001b[90m━━━━━━━━━━━━━━━━━━━━━━━━━━━━━━━━━━━━━━━━\u001b[0m \u001b[32m56.5/56.5 MB\u001b[0m \u001b[31m2.5 MB/s\u001b[0m eta \u001b[36m0:00:00\u001b[0m\n",
            "\u001b[?25hCollecting nvidia-cusolver-cu12==11.4.5.107 (from torch==2.2.1->torchaudio)\n",
            "  Downloading nvidia_cusolver_cu12-11.4.5.107-py3-none-manylinux1_x86_64.whl (124.2 MB)\n",
            "\u001b[2K     \u001b[90m━━━━━━━━━━━━━━━━━━━━━━━━━━━━━━━━━━━━━━━━\u001b[0m \u001b[32m124.2/124.2 MB\u001b[0m \u001b[31m1.8 MB/s\u001b[0m eta \u001b[36m0:00:00\u001b[0m\n",
            "\u001b[?25hCollecting nvidia-cusparse-cu12==12.1.0.106 (from torch==2.2.1->torchaudio)\n",
            "  Downloading nvidia_cusparse_cu12-12.1.0.106-py3-none-manylinux1_x86_64.whl (196.0 MB)\n",
            "\u001b[2K     \u001b[90m━━━━━━━━━━━━━━━━━━━━━━━━━━━━━━━━━━━━━━━━\u001b[0m \u001b[32m196.0/196.0 MB\u001b[0m \u001b[31m2.2 MB/s\u001b[0m eta \u001b[36m0:00:00\u001b[0m\n",
            "\u001b[?25hCollecting nvidia-nccl-cu12==2.19.3 (from torch==2.2.1->torchaudio)\n",
            "  Downloading nvidia_nccl_cu12-2.19.3-py3-none-manylinux1_x86_64.whl (166.0 MB)\n",
            "\u001b[2K     \u001b[90m━━━━━━━━━━━━━━━━━━━━━━━━━━━━━━━━━━━━━━━━\u001b[0m \u001b[32m166.0/166.0 MB\u001b[0m \u001b[31m2.3 MB/s\u001b[0m eta \u001b[36m0:00:00\u001b[0m\n",
            "\u001b[?25hCollecting nvidia-nvtx-cu12==12.1.105 (from torch==2.2.1->torchaudio)\n",
            "  Downloading nvidia_nvtx_cu12-12.1.105-py3-none-manylinux1_x86_64.whl (99 kB)\n",
            "\u001b[2K     \u001b[90m━━━━━━━━━━━━━━━━━━━━━━━━━━━━━━━━━━━━━━━━\u001b[0m \u001b[32m99.1/99.1 kB\u001b[0m \u001b[31m13.6 MB/s\u001b[0m eta \u001b[36m0:00:00\u001b[0m\n",
            "\u001b[?25hRequirement already satisfied: triton==2.2.0 in /usr/local/lib/python3.10/dist-packages (from torch==2.2.1->torchaudio) (2.2.0)\n",
            "Collecting nvidia-nvjitlink-cu12 (from nvidia-cusolver-cu12==11.4.5.107->torch==2.2.1->torchaudio)\n",
            "  Downloading nvidia_nvjitlink_cu12-12.4.99-py3-none-manylinux2014_x86_64.whl (21.1 MB)\n",
            "\u001b[2K     \u001b[90m━━━━━━━━━━━━━━━━━━━━━━━━━━━━━━━━━━━━━━━━\u001b[0m \u001b[32m21.1/21.1 MB\u001b[0m \u001b[31m3.0 MB/s\u001b[0m eta \u001b[36m0:00:00\u001b[0m\n",
            "\u001b[?25hRequirement already satisfied: MarkupSafe>=2.0 in /usr/local/lib/python3.10/dist-packages (from jinja2->torch==2.2.1->torchaudio) (2.1.5)\n",
            "Requirement already satisfied: mpmath>=0.19 in /usr/local/lib/python3.10/dist-packages (from sympy->torch==2.2.1->torchaudio) (1.3.0)\n",
            "Installing collected packages: nvidia-nvtx-cu12, nvidia-nvjitlink-cu12, nvidia-nccl-cu12, nvidia-curand-cu12, nvidia-cufft-cu12, nvidia-cuda-runtime-cu12, nvidia-cuda-nvrtc-cu12, nvidia-cuda-cupti-cu12, nvidia-cublas-cu12, nvidia-cusparse-cu12, nvidia-cudnn-cu12, nvidia-cusolver-cu12\n",
            "Successfully installed nvidia-cublas-cu12-12.1.3.1 nvidia-cuda-cupti-cu12-12.1.105 nvidia-cuda-nvrtc-cu12-12.1.105 nvidia-cuda-runtime-cu12-12.1.105 nvidia-cudnn-cu12-8.9.2.26 nvidia-cufft-cu12-11.0.2.54 nvidia-curand-cu12-10.3.2.106 nvidia-cusolver-cu12-11.4.5.107 nvidia-cusparse-cu12-12.1.0.106 nvidia-nccl-cu12-2.19.3 nvidia-nvjitlink-cu12-12.4.99 nvidia-nvtx-cu12-12.1.105\n"
          ]
        }
      ],
      "source": [
        "!pip install torchaudio"
      ]
    },
    {
      "cell_type": "markdown",
      "metadata": {
        "id": "GbUE5nAHqhEo"
      },
      "source": [
        "### Import code dependencies"
      ]
    },
    {
      "cell_type": "code",
      "execution_count": 6,
      "metadata": {
        "colab": {
          "base_uri": "https://localhost:8080/"
        },
        "id": "bqEyUIUnpJTx",
        "outputId": "3ce0150b-0827-44d3-8be7-7d56efe8cd71"
      },
      "outputs": [
        {
          "output_type": "stream",
          "name": "stdout",
          "text": [
            "Model folders are created, \n",
            "PyTorch models will be saved in /content/gdrive/MyDrive/ece5545/models/torch_models, \n",
            "ONNX models will be saved in /content/gdrive/MyDrive/ece5545/models/onnx_models, \n",
            "TensorFlow Saved Models will be saved in /content/gdrive/MyDrive/ece5545/models/tf_models, \n",
            "TensorFlow Lite models will be saved in /content/gdrive/MyDrive/ece5545/models/tflite_models, \n",
            "TensorFlow Lite Micro models will be saved in /content/gdrive/MyDrive/ece5545/models/micro_models.\n"
          ]
        }
      ],
      "source": [
        "# Import libraries\n",
        "import torch\n",
        "import torch.nn as nn\n",
        "import torch.nn.functional as F\n",
        "import torch.optim as optim\n",
        "import torch.nn.utils.prune as prune\n",
        "\n",
        "import matplotlib.pyplot as plt\n",
        "from tqdm.notebook import tqdm\n",
        "import numpy as np\n",
        "import copy\n",
        "\n",
        "import time\n",
        "\n",
        "import sys\n",
        "\n",
        "# Adding assignment1 to the system path-- make sure this matches your git directory\n",
        "sys.path.insert(0, PROJECT_ROOT)\n",
        "\n",
        "# Import data_proc to use data processing functions\n",
        "import src.data_proc as data_proc\n",
        "\n",
        "# Import constants to use constants defined for training\n",
        "from src.constants import *\n",
        "\n",
        "# TensorBoard\n",
        "from torch.utils.tensorboard import SummaryWriter\n",
        "\n",
        "# Set random seed\n",
        "# Make sure the shuffling and picking is deterministic\n",
        "# Note that different value of random_seed may change rate of variation in loss/accuracy during training\n",
        "# Using the same random seed value every time you rerun the notebook will\n",
        "# reproduce the training and testing results\n",
        "random_seed = 0\n",
        "torch.manual_seed(random_seed)\n",
        "torch.cuda.manual_seed(random_seed)"
      ]
    },
    {
      "cell_type": "markdown",
      "metadata": {
        "id": "tfyFWNsHpJTy"
      },
      "source": [
        "## 6.1 Prepare for Training\n",
        "\n"
      ]
    },
    {
      "cell_type": "code",
      "execution_count": 7,
      "metadata": {
        "colab": {
          "base_uri": "https://localhost:8080/"
        },
        "id": "NEBTHpmypJTz",
        "outputId": "e0266d4b-14f1-43eb-96c4-cc1f36b5e0bb"
      },
      "outputs": [
        {
          "output_type": "stream",
          "name": "stdout",
          "text": [
            "Audio_processor created\n",
            "Using cuda to run the training scrpit.\n",
            "Train size: 10556 Val size: 1333 Test size: 1368\n"
          ]
        },
        {
          "output_type": "execute_result",
          "data": {
            "text/plain": [
              "TinyConv(\n",
              "  (conv_reshape): Reshape(output_shape=(-1, 1, 49, 40))\n",
              "  (conv): Conv2d(1, 8, kernel_size=(10, 8), stride=(2, 2), padding=(5, 3))\n",
              "  (relu): ReLU()\n",
              "  (dropout): Dropout(p=0.5, inplace=False)\n",
              "  (fc_reshape): Reshape(output_shape=(-1, 4000))\n",
              "  (fc): Linear(in_features=4000, out_features=4, bias=True)\n",
              "  (softmax): Softmax(dim=1)\n",
              ")"
            ]
          },
          "metadata": {},
          "execution_count": 7
        }
      ],
      "source": [
        "# Create audio_processor\n",
        "# DATASET_DIR is defined in constants.py\n",
        "audio_processor = data_proc.AudioProcessor()\n",
        "print(\"Audio_processor created\")\n",
        "\n",
        "# Define device\n",
        "device = torch.device(\"cuda\" if torch.cuda.is_available() else \"cpu\")\n",
        "print(f'Using {device} to run the training scrpit.')\n",
        "\n",
        "# Define data loaders\n",
        "from src.loaders import make_data_loaders\n",
        "data_loaders = make_data_loaders(audio_processor, device)\n",
        "train_loader = data_loaders['training']\n",
        "test_loader = data_loaders['testing']\n",
        "valid_loader = data_loaders['validation']\n",
        "\n",
        "# Create a full precision (float32) TinyConv model\n",
        "from src.networks import TinyConv\n",
        "model_fp32 = TinyConv(model_settings=audio_processor.model_settings, \\\n",
        "    n_input=1, n_output=audio_processor.num_labels)\n",
        "\n",
        "model_fp32"
      ]
    },
    {
      "cell_type": "code",
      "execution_count": 8,
      "metadata": {
        "colab": {
          "base_uri": "https://localhost:8080/"
        },
        "id": "87-ko6koBE54",
        "outputId": "1b893c1f-fdb5-4d3f-9167-e5a8acd67c71"
      },
      "outputs": [
        {
          "output_type": "stream",
          "name": "stdout",
          "text": [
            " fp32_checkpoint.pt\t      '(QAT6bit)quant_0.pt'\t  quant_checkpoint_6.pt\n",
            " fp32_finetune_checkpoint.pt  '(QAT8bit)quant_0.pt'\t  quant_checkpoint_8.pt\n",
            "'(QAT2bit)quant_0.pt'\t       quant_checkpoint_2bit.pt   quant_checkpoint.pt\n",
            "'(QAT4bit)quant_0.pt'\t       quant_checkpoint_2.pt\t  tinyconv_float32_init_seed0_90.35%_0.pt\n"
          ]
        }
      ],
      "source": [
        "!ls {TORCH_DIR}"
      ]
    },
    {
      "cell_type": "markdown",
      "metadata": {
        "id": "p0kYnxYUBE54"
      },
      "source": [
        "### **TODO: Replace the torch_path model with the model you created in the last section.**\n",
        "\n",
        "You can find the name of your file in `TORCH_DIR` under the folder icon to the left. (Or from running the tab above)."
      ]
    },
    {
      "cell_type": "code",
      "execution_count": 9,
      "metadata": {
        "colab": {
          "base_uri": "https://localhost:8080/"
        },
        "id": "ZoRiIMnlBE55",
        "outputId": "ae9cad75-4e86-4928-8aea-b33dbc5ece73"
      },
      "outputs": [
        {
          "output_type": "execute_result",
          "data": {
            "text/plain": [
              "(TinyConv(\n",
              "   (conv_reshape): Reshape(output_shape=(-1, 1, 49, 40))\n",
              "   (conv): Conv2d(1, 8, kernel_size=(10, 8), stride=(2, 2), padding=(5, 3))\n",
              "   (relu): ReLU()\n",
              "   (dropout): Dropout(p=0.5, inplace=False)\n",
              "   (fc_reshape): Reshape(output_shape=(-1, 4000))\n",
              "   (fc): Linear(in_features=4000, out_features=4, bias=True)\n",
              "   (softmax): Softmax(dim=1)\n",
              " ),\n",
              " TinyConv(\n",
              "   (conv_reshape): Reshape(output_shape=(-1, 1, 49, 40))\n",
              "   (conv): Conv2d(1, 8, kernel_size=(10, 8), stride=(2, 2), padding=(5, 3))\n",
              "   (relu): ReLU()\n",
              "   (dropout): Dropout(p=0.5, inplace=False)\n",
              "   (fc_reshape): Reshape(output_shape=(-1, 4000))\n",
              "   (fc): Linear(in_features=4000, out_features=4, bias=True)\n",
              "   (softmax): Softmax(dim=1)\n",
              " ))"
            ]
          },
          "metadata": {},
          "execution_count": 9
        }
      ],
      "source": [
        "# TODO: Replace me!\n",
        "# torch_path = os.path.join(TORCH_DIR, \"tinyconv_float32_init_seed0_90.28%_0.pt\")\n",
        "torch_path = os.path.join(TORCH_DIR, \"tinyconv_float32_init_seed0_90.35%_0.pt\")\n",
        "\n",
        "# Load model\n",
        "model_fp32.load_state_dict(torch.load(torch_path))\n",
        "model_fp32_orig = copy.deepcopy(model_fp32)\n",
        "model_fp32, model_fp32_orig"
      ]
    },
    {
      "cell_type": "markdown",
      "metadata": {
        "id": "ybjOCEoRpJT5"
      },
      "source": [
        "## 6.2 Structured Pruning\n",
        "\n",
        "In this section, you will try to conduct structured pruning on the TinyConv model and explore its effect on performance.\n",
        "In this notebook, you will be only given minimum scarfolding code. Please take advantages of the code in previous section to faciliate.\n",
        "\n",
        "Following link will be helpful:\n",
        "[torch.nn.utils.prune.LnStructured](https://pytorch.org/docs/stable/generated/torch.nn.utils.prune.LnStructured.html?highlight=prune#torch.nn.utils.prune.LnStructured.prune)\n",
        "[Torch pruning tutorial](https://pytorch.org/tutorials/intermediate/pruning_tutorial.html?highlight=prune)"
      ]
    },
    {
      "cell_type": "code",
      "execution_count": 69,
      "metadata": {
        "id": "EAbsnQD6LSYR"
      },
      "outputs": [],
      "source": [
        "import torch\n",
        "from torch import nn\n",
        "import torch.nn.utils.prune as prune\n",
        "import torch.nn.functional as F\n",
        "\n",
        "from src.size_estimate import count_trainable_parameters\n",
        "from src.size_estimate import flop\n",
        "from src.train_val_test_utils import test\n",
        "\n",
        "def structured_pruning(model, threshold, n=1):\n",
        "  m = copy.deepcopy(model)\n",
        "  m.to(device)\n",
        "  for name, module in m.named_modules():\n",
        "    if isinstance(module, nn.Conv2d) or isinstance(module, nn.Linear):\n",
        "      prune.ln_structured(module, name='weight', n=n, amount=threshold, dim=0)\n",
        "      # prune.remove(module, 'weight')\n",
        "  return m"
      ]
    },
    {
      "cell_type": "code",
      "execution_count": 70,
      "metadata": {
        "id": "Z_BIgqR7cX3F"
      },
      "outputs": [],
      "source": [
        "thresholds = [0.1, 0.25, 0.5, 0.75, 0.9]"
      ]
    },
    {
      "cell_type": "code",
      "execution_count": 71,
      "metadata": {
        "id": "JOHmZ3_lu0hQ"
      },
      "outputs": [],
      "source": [
        "pruned_models = {}\n",
        "\n",
        "for t in thresholds:\n",
        "  m = structured_pruning(model_fp32,t,n=1) #L1 structured pruning\n",
        "  m.to(device)\n",
        "  pruned_models[t]= m"
      ]
    },
    {
      "cell_type": "code",
      "execution_count": 72,
      "metadata": {
        "colab": {
          "base_uri": "https://localhost:8080/"
        },
        "id": "EJlYxScxja_U",
        "outputId": "ef80de34-8753-467f-ca3c-d0634d5c7adf"
      },
      "outputs": [
        {
          "output_type": "stream",
          "name": "stdout",
          "text": [
            "param counts {0.1: tensor(16572, device='cuda:0'), 0.25: tensor(12492, device='cuda:0'), 0.5: tensor(8332, device='cuda:0'), 0.75: tensor(4172, device='cuda:0'), 0.9: tensor(92, device='cuda:0')}\n"
          ]
        }
      ],
      "source": [
        "num_params_pruned_models = {}\n",
        "\n",
        "for t in thresholds:\n",
        "  m = pruned_models[t]\n",
        "\n",
        "  num_conv_params = m.conv.weight.numel() + m.conv.bias.numel()\n",
        "  num_lin_params = m.fc.weight.numel() + m.fc.bias.numel()\n",
        "  num_params_pruned_estimated = torch.sum(m.conv.weight == 0) + torch.sum(m.fc.weight == 0)\n",
        "  num_params_after_pruning = num_conv_params + num_lin_params - num_params_pruned_estimated\n",
        "\n",
        "  num_params_pruned_models[t] = num_params_after_pruning\n",
        "\n",
        "print('param counts {}'.format(num_params_pruned_models))"
      ]
    },
    {
      "cell_type": "code",
      "execution_count": 73,
      "metadata": {
        "id": "L-DNH6P0ayGX",
        "colab": {
          "base_uri": "https://localhost:8080/"
        },
        "outputId": "eb678e1c-75fd-4ac2-9c76-e5ef1ba9bbc2"
      },
      "outputs": [
        {
          "output_type": "stream",
          "name": "stdout",
          "text": [
            "test accuracies {0.1: 81.72514619883042, 0.25: 81.14035087719299, 0.5: 49.3421052631579, 0.75: 41.666666666666664, 0.9: 19.883040935672515}\n"
          ]
        }
      ],
      "source": [
        "test_acc_pruned_models = {}\n",
        "for t in thresholds:\n",
        "  m = pruned_models[t]\n",
        "  acc = test(test_loader, m, device, epoch=None, loader_type='Test')\n",
        "  test_acc_pruned_models[t] = acc\n",
        "\n",
        "print('test accuracies {}'.format(test_acc_pruned_models))"
      ]
    },
    {
      "cell_type": "code",
      "source": [
        "import matplotlib.pyplot as plt\n",
        "\n",
        "# Example data\n",
        "param_counts_values = [tensor.cpu() for tensor in num_params_pruned_models.values()]\n",
        "test_accuracies_values = test_acc_pruned_models.values()\n",
        "# thresholds = [0.1, 0.25, 0.5, 0.75, 0.9]\n",
        "\n",
        "# Plot accuracy versus parameter counts\n",
        "plt.figure(figsize=(10, 6))\n",
        "for i, (x, y) in enumerate(zip(param_counts_values, test_accuracies_values)):\n",
        "    plt.scatter(x, y, label=f'Threshold: {thresholds[i]}')\n",
        "    plt.annotate(f'({x}, {y:.2f})', (x, y), textcoords=\"offset points\", xytext=(5,5), ha='center')\n",
        "\n",
        "plt.xlabel('Parameter Counts')\n",
        "plt.ylabel('Test Accuracies')\n",
        "plt.title('Structured Pruning without Finetuning: Accuracy vs Parameter Counts')\n",
        "plt.grid(True)\n",
        "plt.legend()\n",
        "plt.show()\n"
      ],
      "metadata": {
        "colab": {
          "base_uri": "https://localhost:8080/",
          "height": 564
        },
        "id": "-jb_TPWn33Yb",
        "outputId": "80d9c11b-5ad6-4e50-931b-970289f06145"
      },
      "execution_count": 187,
      "outputs": [
        {
          "output_type": "display_data",
          "data": {
            "text/plain": [
              "<Figure size 1000x600 with 1 Axes>"
            ],
            "image/png": "[encoded data removed]"
          },
          "metadata": {}
        }
      ]
    },
    {
      "cell_type": "code",
      "execution_count": 84,
      "metadata": {
        "id": "Y7dqr4-voRNt",
        "colab": {
          "base_uri": "https://localhost:8080/"
        },
        "outputId": "243712cb-aec6-4749-99a5-7e1e861540c1"
      },
      "outputs": [
        {
          "output_type": "stream",
          "name": "stdout",
          "text": [
            "#batches: 106 \n",
            "#epochs: 5 \n",
            "#total training steps: 530\n"
          ]
        }
      ],
      "source": [
        "import time\n",
        "from src.train_val_test_utils import train, test\n",
        "from src.train_val_test_utils import create_optimizer\n",
        "\n",
        "\n",
        "def run_training(model, data_loaders, n_epoch, log_interval, optimizer, scheduler=None,\n",
        "                 save_interval=1, resume=True, checkpoint_path=None, verbose=False):\n",
        "    test_loader = data_loaders['testing']\n",
        "    with tqdm(total=n_epoch) as pbar:\n",
        "        completed_epoch = 1\n",
        "        if resume:\n",
        "            try:\n",
        "                #continue training with previous model if one exists\n",
        "                if checkpoint_path is None:\n",
        "                    raise ValueError\n",
        "                checkpoint = torch.load(checkpoint_path)\n",
        "                model.load_state_dict(checkpoint['model_state_dict'])\n",
        "                optimizer.load_state_dict(checkpoint['optimizer_state_dict'])\n",
        "                if scheduler is not None:\n",
        "                    scheduler.load_state_dict(checkpoint['scheduler_state_dict'])\n",
        "                completed_epoch = checkpoint[\"epoch\"] + 1\n",
        "                model.eval()\n",
        "                pbar.update(completed_epoch)\n",
        "            except:\n",
        "                pass\n",
        "\n",
        "        for epoch in range(completed_epoch, n_epoch + 1):\n",
        "            train_iters = len(data_loaders['training'])\n",
        "            train(model, data_loaders, optimizer, epoch, device, verbose)\n",
        "\n",
        "            # Apply pruning masks\n",
        "            for name, module in model.named_modules():\n",
        "                if isinstance(module, nn.Conv2d) or isinstance(module, nn.Linear):\n",
        "                    module.weight.data *= module.weight_mask\n",
        "\n",
        "            test(test_loader, model, device,\n",
        "                 epoch=None, loader_type='Test')\n",
        "\n",
        "            if scheduler is not None:\n",
        "                scheduler.step()\n",
        "            #checkpoint the model every run\n",
        "            if epoch % save_interval == 0 and checkpoint_path is not None:\n",
        "                torch.save({\n",
        "                    'epoch': epoch,\n",
        "                    'model_state_dict': model.state_dict(),\n",
        "                    'optimizer_state_dict': optimizer.state_dict(),\n",
        "                    'scheduler_state_dict': scheduler.state_dict() if scheduler is not None else None\n",
        "                }, checkpoint_path)\n",
        "\n",
        "            # Update epoch pbar\n",
        "            pbar.update(1)\n",
        "\n",
        "\n",
        "verbose = False\n",
        "log_interval = 100\n",
        "num_batches = len(train_loader)\n",
        "n_epoch = 5\n",
        "print(f'#batches: {num_batches} \\n#epochs: {n_epoch} \\n#total training steps: {num_batches * n_epoch}')"
      ]
    },
    {
      "cell_type": "code",
      "source": [
        "structured_pruned_models_finetuned = {}\n",
        "\n",
        "for t in thresholds:\n",
        "  # Create optimizer\n",
        "  print('finetuning threshold {}'.format(t))\n",
        "  m = structured_pruning(model_fp32,t)\n",
        "\n",
        "  print('m is {}'.format(m))\n",
        "  optimizer_prune_structured = create_optimizer(model=m, learning_rate=0.0001)\n",
        "  print(optimizer_prune_structured.state_dict())\n",
        "\n",
        "  checkpoint_path = os.path.join(TORCH_DIR, \"pruned_unstructured_checkpoint_{t}.pt\")\n",
        "  m.to(device)\n",
        "  run_training(\n",
        "      model=m, data_loaders=data_loaders,\n",
        "      n_epoch=5, log_interval=log_interval,\n",
        "      optimizer=optimizer_prune_structured, scheduler=None,\n",
        "      resume=False,\n",
        "      checkpoint_path=checkpoint_path,\n",
        "      verbose=verbose\n",
        "  )\n",
        "\n",
        "  structured_pruned_models_finetuned[t] = m"
      ],
      "metadata": {
        "colab": {
          "base_uri": "https://localhost:8080/",
          "height": 1000,
          "referenced_widgets": [
            "b281f3b390044810a3df1b585716efbd",
            "c2ff013195f849fd8b8d86382f9ced4f",
            "5d27c9437dc34815ad4a508308fb72b3",
            "29fae23e47344ec28fe87376ba6bf3bb",
            "ededb8d87e6647769ee56a6dc6ff813c",
            "43a6a22b48034cc788c4068307f43213",
            "cf138e1508284a35ad670743409bb4a7",
            "12fd36e7734b4ac88185b17e5c6ad6f2",
            "7a517d091e93415faa9115db940684a5",
            "1cb6beefd77147bb9471341a03359ed1",
            "92ff20d5af66459aae7d23a8e20f153e",
            "159b1e05d83c4952bfce2397fe78274e",
            "95288a7b6ad140eda8029940137ecbec",
            "fa36c548b796499ab2ee04685a4d01b7",
            "2105563b99e444549494d4bf6c9514aa",
            "341898eb64a44da1a1a33b101df89f73",
            "623508ae6163441f8f6d7e32e28d915c",
            "e1619f811a7a462fbebf0194a8dd9e9c",
            "a7fcf17250a04e37b91f6d933abecffb",
            "346d5d7781f149b0b0905e0948a9999d",
            "dbd63b05abe54d5383e6dd5704186b02",
            "f741ada7ac324c158fd4ee2ef884f812",
            "f3036466d37d428d9a0650d73b32aca2",
            "73d5083e383d4fd08b29edde8d153f85",
            "31167cd1a25a42a3b9cd48913353e63b",
            "e5f9d039494541df9b440397969aeeb3",
            "6e031e9261584ca0999676fb89c475b3",
            "c94ffd0676c547c2b80c0bd63b9e2f04",
            "1aa094c1b4534654aa34d2aca8b0fbe6",
            "845e45a37ecf420e924d5a059eb2f951",
            "3f223c3d3fc241f883d0ad3a9d32eb25",
            "01e517ccdb0f4e4da44728f3d826902f",
            "fc8a688bc7004f8bab73eaaeb4bfb864",
            "e034a64de0634711b3177fcae7b9774e",
            "c225783097d24b63bac1d4d91167dbf5",
            "025ab05c322f4328bbc8f0e2acebb223",
            "6932088f87a94a46ae5207a3ed2c451f",
            "e4b1387ae83f48a284639cb01a6fd5c5",
            "b6f6f9ba6f6a44c48ff1b409b500a852",
            "b960eabb64bd4436ad91736e82e6c9b6",
            "c07de9dc494d4fe69d6a898ad346e5ec",
            "c0e67bbc28a64d498856e9685119652d",
            "f27941fb1d444178bcbe631c6beb65ce",
            "561fae9571324617914a30cc16567c60",
            "89e2501a6f0d421c9b3e85045f03657d"
          ]
        },
        "id": "qh9HwlKzCi95",
        "outputId": "2490f5a1-e8c1-486e-d878-4e54932bc595"
      },
      "execution_count": 85,
      "outputs": [
        {
          "metadata": {
            "tags": null
          },
          "name": "stdout",
          "output_type": "stream",
          "text": [
            "finetuning threshold 0.1\n",
            "m is TinyConv(\n",
            "  (conv_reshape): Reshape(output_shape=(-1, 1, 49, 40))\n",
            "  (conv): Conv2d(1, 8, kernel_size=(10, 8), stride=(2, 2), padding=(5, 3))\n",
            "  (relu): ReLU()\n",
            "  (dropout): Dropout(p=0.5, inplace=False)\n",
            "  (fc_reshape): Reshape(output_shape=(-1, 4000))\n",
            "  (fc): Linear(in_features=4000, out_features=4, bias=True)\n",
            "  (softmax): Softmax(dim=1)\n",
            ")\n",
            "{'state': {}, 'param_groups': [{'lr': 0.0001, 'betas': (0.9, 0.999), 'eps': 1e-08, 'weight_decay': 0.0001, 'amsgrad': False, 'maximize': False, 'foreach': None, 'capturable': False, 'differentiable': False, 'fused': None, 'params': [0, 1, 2, 3]}]}\n"
          ]
        },
        {
          "data": {
            "application/vnd.jupyter.widget-view+json": {
              "model_id": "b281f3b390044810a3df1b585716efbd",
              "version_major": 2,
              "version_minor": 0
            },
            "text/plain": [
              "  0%|          | 0/5 [00:00<?, ?it/s]"
            ]
          },
          "metadata": {},
          "output_type": "display_data"
        },
        {
          "metadata": {
            "tags": null
          },
          "name": "stdout",
          "output_type": "stream",
          "text": [
            "Val Acc Epoch 1 = 89.2%, Train loss = 0.415\n",
            "Val Acc Epoch 2 = 88.0%, Train loss = 0.397\n",
            "Val Acc Epoch 3 = 88.22%, Train loss = 0.387\n",
            "Val Acc Epoch 4 = 89.2%, Train loss = 0.372\n",
            "Val Acc Epoch 5 = 89.8%, Train loss = 0.369\n",
            "finetuning threshold 0.25\n",
            "m is TinyConv(\n",
            "  (conv_reshape): Reshape(output_shape=(-1, 1, 49, 40))\n",
            "  (conv): Conv2d(1, 8, kernel_size=(10, 8), stride=(2, 2), padding=(5, 3))\n",
            "  (relu): ReLU()\n",
            "  (dropout): Dropout(p=0.5, inplace=False)\n",
            "  (fc_reshape): Reshape(output_shape=(-1, 4000))\n",
            "  (fc): Linear(in_features=4000, out_features=4, bias=True)\n",
            "  (softmax): Softmax(dim=1)\n",
            ")\n",
            "{'state': {}, 'param_groups': [{'lr': 0.0001, 'betas': (0.9, 0.999), 'eps': 1e-08, 'weight_decay': 0.0001, 'amsgrad': False, 'maximize': False, 'foreach': None, 'capturable': False, 'differentiable': False, 'fused': None, 'params': [0, 1, 2, 3]}]}\n"
          ]
        },
        {
          "data": {
            "application/vnd.jupyter.widget-view+json": {
              "model_id": "159b1e05d83c4952bfce2397fe78274e",
              "version_major": 2,
              "version_minor": 0
            },
            "text/plain": [
              "  0%|          | 0/5 [00:00<?, ?it/s]"
            ]
          },
          "metadata": {},
          "output_type": "display_data"
        },
        {
          "metadata": {
            "tags": null
          },
          "name": "stdout",
          "output_type": "stream",
          "text": [
            "Val Acc Epoch 1 = 86.12%, Train loss = 0.53\n",
            "Val Acc Epoch 2 = 87.02%, Train loss = 0.466\n",
            "Val Acc Epoch 3 = 86.87%, Train loss = 0.445\n",
            "Val Acc Epoch 4 = 88.22%, Train loss = 0.426\n",
            "Val Acc Epoch 5 = 88.6%, Train loss = 0.42\n",
            "finetuning threshold 0.5\n",
            "m is TinyConv(\n",
            "  (conv_reshape): Reshape(output_shape=(-1, 1, 49, 40))\n",
            "  (conv): Conv2d(1, 8, kernel_size=(10, 8), stride=(2, 2), padding=(5, 3))\n",
            "  (relu): ReLU()\n",
            "  (dropout): Dropout(p=0.5, inplace=False)\n",
            "  (fc_reshape): Reshape(output_shape=(-1, 4000))\n",
            "  (fc): Linear(in_features=4000, out_features=4, bias=True)\n",
            "  (softmax): Softmax(dim=1)\n",
            ")\n",
            "{'state': {}, 'param_groups': [{'lr': 0.0001, 'betas': (0.9, 0.999), 'eps': 1e-08, 'weight_decay': 0.0001, 'amsgrad': False, 'maximize': False, 'foreach': None, 'capturable': False, 'differentiable': False, 'fused': None, 'params': [0, 1, 2, 3]}]}\n"
          ]
        },
        {
          "data": {
            "application/vnd.jupyter.widget-view+json": {
              "model_id": "f3036466d37d428d9a0650d73b32aca2",
              "version_major": 2,
              "version_minor": 0
            },
            "text/plain": [
              "  0%|          | 0/5 [00:00<?, ?it/s]"
            ]
          },
          "metadata": {},
          "output_type": "display_data"
        },
        {
          "metadata": {
            "tags": null
          },
          "name": "stdout",
          "output_type": "stream",
          "text": [
            "Val Acc Epoch 1 = 60.84%, Train loss = 0.984\n",
            "Val Acc Epoch 2 = 66.02%, Train loss = 0.797\n",
            "Val Acc Epoch 3 = 68.34%, Train loss = 0.746\n",
            "Val Acc Epoch 4 = 70.29%, Train loss = 0.721\n",
            "Val Acc Epoch 5 = 70.59%, Train loss = 0.705\n",
            "finetuning threshold 0.75\n",
            "m is TinyConv(\n",
            "  (conv_reshape): Reshape(output_shape=(-1, 1, 49, 40))\n",
            "  (conv): Conv2d(1, 8, kernel_size=(10, 8), stride=(2, 2), padding=(5, 3))\n",
            "  (relu): ReLU()\n",
            "  (dropout): Dropout(p=0.5, inplace=False)\n",
            "  (fc_reshape): Reshape(output_shape=(-1, 4000))\n",
            "  (fc): Linear(in_features=4000, out_features=4, bias=True)\n",
            "  (softmax): Softmax(dim=1)\n",
            ")\n",
            "{'state': {}, 'param_groups': [{'lr': 0.0001, 'betas': (0.9, 0.999), 'eps': 1e-08, 'weight_decay': 0.0001, 'amsgrad': False, 'maximize': False, 'foreach': None, 'capturable': False, 'differentiable': False, 'fused': None, 'params': [0, 1, 2, 3]}]}\n"
          ]
        },
        {
          "data": {
            "application/vnd.jupyter.widget-view+json": {
              "model_id": "e034a64de0634711b3177fcae7b9774e",
              "version_major": 2,
              "version_minor": 0
            },
            "text/plain": [
              "  0%|          | 0/5 [00:00<?, ?it/s]"
            ]
          },
          "metadata": {},
          "output_type": "display_data"
        },
        {
          "metadata": {
            "tags": null
          },
          "name": "stdout",
          "output_type": "stream",
          "text": [
            "Val Acc Epoch 1 = 48.09%, Train loss = 1.191\n",
            "Val Acc Epoch 2 = 47.94%, Train loss = 1.1\n",
            "Val Acc Epoch 3 = 48.61%, Train loss = 1.05\n",
            "Val Acc Epoch 4 = 48.24%, Train loss = 1.022\n",
            "Val Acc Epoch 5 = 48.24%, Train loss = 1.008\n",
            "finetuning threshold 0.9\n",
            "m is TinyConv(\n",
            "  (conv_reshape): Reshape(output_shape=(-1, 1, 49, 40))\n",
            "  (conv): Conv2d(1, 8, kernel_size=(10, 8), stride=(2, 2), padding=(5, 3))\n",
            "  (relu): ReLU()\n",
            "  (dropout): Dropout(p=0.5, inplace=False)\n",
            "  (fc_reshape): Reshape(output_shape=(-1, 4000))\n",
            "  (fc): Linear(in_features=4000, out_features=4, bias=True)\n",
            "  (softmax): Softmax(dim=1)\n",
            ")\n",
            "{'state': {}, 'param_groups': [{'lr': 0.0001, 'betas': (0.9, 0.999), 'eps': 1e-08, 'weight_decay': 0.0001, 'amsgrad': False, 'maximize': False, 'foreach': None, 'capturable': False, 'differentiable': False, 'fused': None, 'params': [0, 1, 2, 3]}]}\n"
          ]
        },
        {
          "data": {
            "application/vnd.jupyter.widget-view+json": {
              "model_id": "89e2501a6f0d421c9b3e85045f03657d",
              "version_major": 2,
              "version_minor": 0
            },
            "text/plain": [
              "  0%|          | 0/5 [00:00<?, ?it/s]"
            ]
          },
          "metadata": {},
          "output_type": "display_data"
        },
        {
          "output_type": "stream",
          "name": "stdout",
          "text": [
            "Val Acc Epoch 1 = 19.88%, Train loss = 1.421\n",
            "Val Acc Epoch 2 = 19.88%, Train loss = 1.418\n",
            "Val Acc Epoch 3 = 19.88%, Train loss = 1.416\n",
            "Val Acc Epoch 4 = 19.88%, Train loss = 1.413\n",
            "Val Acc Epoch 5 = 19.88%, Train loss = 1.411\n"
          ]
        }
      ]
    },
    {
      "cell_type": "code",
      "source": [
        "test_acc_structured_pruned_models_finetuned = {}\n",
        "for t in thresholds:\n",
        "  print('threshold {}'.format(t))\n",
        "  m = structured_pruned_models_finetuned[t]\n",
        "  acc = test(test_loader, m, device, epoch=None, loader_type='Test')\n",
        "  test_acc_structured_pruned_models_finetuned[t] = acc\n",
        "\n",
        "print('test accuracies structured finetuned \\n {}'.format(test_acc_structured_pruned_models_finetuned))"
      ],
      "metadata": {
        "colab": {
          "base_uri": "https://localhost:8080/"
        },
        "id": "0xWFt8XvC2Fk",
        "outputId": "44f7a22b-15b1-418d-8665-e3a4c0262688"
      },
      "execution_count": 86,
      "outputs": [
        {
          "output_type": "stream",
          "name": "stdout",
          "text": [
            "threshold 0.1\n",
            "threshold 0.25\n",
            "threshold 0.5\n",
            "threshold 0.75\n",
            "threshold 0.9\n",
            "test accuracies structured finetuned \n",
            " {0.1: 88.8157894736842, 0.25: 88.37719298245614, 0.5: 70.39473684210526, 0.75: 49.12280701754386, 0.9: 19.883040935672515}\n"
          ]
        }
      ]
    },
    {
      "cell_type": "code",
      "source": [
        "import matplotlib.pyplot as plt\n",
        "\n",
        "# Example data\n",
        "param_counts_values = [tensor.cpu() for tensor in num_params_pruned_models.values()]\n",
        "test_accuracies_values = test_acc_structured_pruned_models_finetuned.values()\n",
        "# thresholds = [0.1, 0.25, 0.5, 0.75, 0.9]\n",
        "\n",
        "# Plot accuracy versus parameter counts\n",
        "plt.figure(figsize=(10, 6))\n",
        "for i, (x, y) in enumerate(zip(param_counts_values, test_accuracies_values)):\n",
        "    plt.scatter(x, y, label=f'Threshold: {thresholds[i]}')\n",
        "    plt.annotate(f'({x}, {y:.2f})', (x, y), textcoords=\"offset points\", xytext=(5,5), ha='center')\n",
        "\n",
        "plt.xlabel('Parameter Counts')\n",
        "plt.ylabel('Test Accuracies')\n",
        "plt.title('Structured Pruning with Finetuning: Accuracy vs Parameter Counts')\n",
        "plt.grid(True)\n",
        "plt.legend()\n",
        "plt.show()\n"
      ],
      "metadata": {
        "colab": {
          "base_uri": "https://localhost:8080/",
          "height": 564
        },
        "id": "bhrBaeBdPGb1",
        "outputId": "624f47f1-b98e-4585-d7c0-c804e16f4755"
      },
      "execution_count": 94,
      "outputs": [
        {
          "output_type": "display_data",
          "data": {
            "text/plain": [
              "<Figure size 1000x600 with 1 Axes>"
            ],
            "image/png": "[encoded data removed]"
          },
          "metadata": {}
        }
      ]
    },
    {
      "cell_type": "code",
      "source": [
        "def check_zeroed_channels(model):\n",
        "  for name, module in model.named_modules():\n",
        "    if isinstance(module, nn.Conv2d) or isinstance(module, nn.Linear):\n",
        "      # print('module name {}, type {}'.format(name,module))\n",
        "      mask = module.weight_mask\n",
        "      # print('mask shape is {}'.format(mask.shape))\n",
        "      # print(mask)\n",
        "      if isinstance(module, nn.Conv2d):\n",
        "        sum_along_dimensions = torch.sum(mask, dim=(-1,-2))\n",
        "        # print(sum_along_dimensions.shape)\n",
        "        # print(sum_along_dimensions)\n",
        "        num_zero_channels = torch.sum((sum_along_dimensions == 0).int())\n",
        "        num_nz_channels = 8 - num_zero_channels\n",
        "        num_fc_feats = num_nz_channels * 500\n",
        "        # print(f\"Module: {name}, Zeroed out channels: {num_zero_channels}\")\n",
        "      # elif isinstance(module,nn.Linear):\n",
        "        # print('mask is \\n {}'.format(mask))\n",
        "        # num_features_zeroed_out = torch.sum(mask == 0)\n",
        "        # num_fc_feats = mask.numel() - num_features_zeroed_out\n",
        "        # print(f\"Module: {name}, Zeroed out features: {num_features_zeroed_out}, FC Feats: {num_fc_feats}\")\n",
        "  return num_nz_channels,num_fc_feats"
      ],
      "metadata": {
        "id": "SHpB6ooxXBPU"
      },
      "execution_count": 151,
      "outputs": []
    },
    {
      "cell_type": "code",
      "source": [
        "num_nz_ch_per_threshold = {}\n",
        "num_fc_features_in_per_threshold = {}\n",
        "\n",
        "for t in thresholds:\n",
        "  print('threshold {}'.format(t))\n",
        "  m = pruned_models[t]\n",
        "  nzc, fc_feat = check_zeroed_channels(m)\n",
        "  num_nz_ch_per_threshold[t] = nzc.cpu()\n",
        "  num_fc_features_in_per_threshold[t] = fc_feat.cpu()\n",
        "\n",
        "print('num_nz_ch_per_threshold is {}'.format(num_nz_ch_per_threshold))\n",
        "print('num_fc_features_in_per_threshold is {}'.format(num_fc_features_in_per_threshold))"
      ],
      "metadata": {
        "colab": {
          "base_uri": "https://localhost:8080/"
        },
        "id": "wv8Fk8OLXKLq",
        "outputId": "88157b51-2698-44fc-b968-61d65c649652"
      },
      "execution_count": 152,
      "outputs": [
        {
          "output_type": "stream",
          "name": "stdout",
          "text": [
            "threshold 0.1\n",
            "threshold 0.25\n",
            "threshold 0.5\n",
            "threshold 0.75\n",
            "threshold 0.9\n",
            "num_nz_ch_per_threshold is {0.1: tensor(7), 0.25: tensor(6), 0.5: tensor(4), 0.75: tensor(2), 0.9: tensor(1)}\n",
            "num_fc_features_in_per_threshold is {0.1: tensor(3500), 0.25: tensor(3000), 0.5: tensor(2000), 0.75: tensor(1000), 0.9: tensor(500)}\n"
          ]
        }
      ]
    },
    {
      "cell_type": "code",
      "source": [
        "from src.networks import Reshape,TinyConv\n",
        "\n",
        "class PrunedTinyConv(TinyConv):\n",
        "    def __init__(self, model_settings, n_input=1, n_output=4, num_channels=8, fc_feats=16000):\n",
        "        super(PrunedTinyConv, self).__init__(model_settings, n_input, n_output)\n",
        "        first_filter_width = 8\n",
        "        first_filter_height = 10\n",
        "        first_filter_count = num_channels\n",
        "        first_conv_stride_x = 2\n",
        "        first_conv_stride_y = 2\n",
        "        self.model_settings = model_settings\n",
        "\n",
        "        input_frequency_size = self.model_settings['fingerprint_width']\n",
        "        input_time_size = self.model_settings['spectrogram_length']\n",
        "        W = input_frequency_size\n",
        "        H = input_time_size\n",
        "        C = 1\n",
        "\n",
        "        # Reshape layer\n",
        "        self.conv_reshape = Reshape([-1, C, H, W])\n",
        "\n",
        "        # Conv2d layer\n",
        "        self.conv = nn.Conv2d(in_channels=n_input,\n",
        "                              out_channels=first_filter_count,\n",
        "                              kernel_size=\n",
        "                              (first_filter_height, first_filter_width),\n",
        "                              stride=(first_conv_stride_y, first_conv_stride_x),\n",
        "                              padding=(5, 3))\n",
        "\n",
        "        # Relu layer\n",
        "        self.relu = nn.ReLU()\n",
        "\n",
        "        # Dropout layer\n",
        "        self.dropout = nn.Dropout()\n",
        "\n",
        "        # Reshape layer\n",
        "        fc_in_features = fc_feats\n",
        "        self.fc_reshape = Reshape([-1, fc_in_features])\n",
        "\n",
        "        # Fully Connected layer\n",
        "        self.fc = nn.Linear(in_features=fc_in_features, out_features=n_output)\n",
        "\n",
        "        # Softmax\n",
        "        self.softmax = torch.nn.Softmax(dim=1)"
      ],
      "metadata": {
        "id": "f58uIhzNFndm"
      },
      "execution_count": 153,
      "outputs": []
    },
    {
      "cell_type": "code",
      "source": [
        "from src.size_estimate import flop\n",
        "flops_per_threshold_struct_pruned = {}\n",
        "\n",
        "for t in thresholds:\n",
        "  nc = num_nz_ch_per_threshold[t]\n",
        "  num_fc_feats = num_fc_features_in_per_threshold[t]\n",
        "  m_count_flops = PrunedTinyConv(model_settings=audio_processor.model_settings,n_input=1, n_output=audio_processor.num_labels, num_channels=nc, fc_feats=num_fc_feats)\n",
        "  if torch.cuda.is_available():\n",
        "    m_count_flops.cuda()\n",
        "  flop_by_layers = flop(\n",
        "      model=m_count_flops,\n",
        "      input_shape=(\n",
        "          1,\n",
        "          m_count_flops.model_settings['fingerprint_width'],\n",
        "          m_count_flops.model_settings['spectrogram_length']\n",
        "      ),\n",
        "      device=device)\n",
        "  total_param_flops = sum([sum(val.values()) for val in flop_by_layers.values()])\n",
        "  flops_per_threshold_struct_pruned[t] = total_param_flops / 1000\n",
        "\n",
        "print('flops_per_threshold_struct_pruned is {}'.format(flops_per_threshold_struct_pruned))"
      ],
      "metadata": {
        "colab": {
          "base_uri": "https://localhost:8080/"
        },
        "id": "wsY3kYPOIfJk",
        "outputId": "fcaaf145-488c-4e96-a867-5caaae11819d"
      },
      "execution_count": 165,
      "outputs": [
        {
          "output_type": "stream",
          "name": "stdout",
          "text": [
            "flops_per_threshold_struct_pruned is {0.1: 591.504, 0.25: 507.004, 0.5: 338.004, 0.75: 169.004, 0.9: 84.504}\n"
          ]
        }
      ]
    },
    {
      "cell_type": "code",
      "source": [
        "import matplotlib.pyplot as plt\n",
        "\n",
        "accuracies = list(test_acc_pruned_models.values())\n",
        "flops = list(flops_per_threshold_struct_pruned.values())\n",
        "\n",
        "# Plot\n",
        "plt.figure(figsize=(10, 6))\n",
        "\n",
        "# Annotate thresholds with legend\n",
        "for threshold, flops_val, acc_val in zip(thresholds, flops, accuracies):\n",
        "    plt.plot(flops_val, acc_val, marker='o', markersize=10, label=f'Threshold {threshold}', color=f'C{int(threshold*10)}')\n",
        "    plt.annotate(f'{flops_val:.2f}, {acc_val:.2f}', (flops_val, acc_val), textcoords=\"offset points\", xytext=(10,-15), ha='center', color=f'C{int(threshold*10)}')\n",
        "\n",
        "plt.xlabel('FLOPs (in thousands)')\n",
        "plt.ylabel('Test Accuracy (%)')\n",
        "plt.title('Test Accuracies (Structured Pruning without Finetuning) vs FLOPs')\n",
        "plt.legend()\n",
        "plt.grid(True)\n",
        "plt.show()\n"
      ],
      "metadata": {
        "colab": {
          "base_uri": "https://localhost:8080/",
          "height": 564
        },
        "id": "gOZkh3l8sxRL",
        "outputId": "b948a2f1-1558-4d54-96a0-c13f29e528af"
      },
      "execution_count": 186,
      "outputs": [
        {
          "output_type": "display_data",
          "data": {
            "text/plain": [
              "<Figure size 1000x600 with 1 Axes>"
            ],
            "image/png": "[encoded data removed]"
          },
          "metadata": {}
        }
      ]
    },
    {
      "cell_type": "code",
      "source": [
        "import matplotlib.pyplot as plt\n",
        "\n",
        "accuracies = list(test_acc_structured_pruned_models_finetuned.values())\n",
        "flops = list(flops_per_threshold_struct_pruned.values())\n",
        "\n",
        "# Plot\n",
        "plt.figure(figsize=(10, 6))\n",
        "\n",
        "# Annotate thresholds with legend\n",
        "for threshold, flops_val, acc_val in zip(thresholds, flops, accuracies):\n",
        "    plt.plot(flops_val, acc_val, marker='o', markersize=10, label=f'Threshold {threshold}', color=f'C{int(threshold*10)}')\n",
        "    plt.annotate(f'{flops_val:.2f}, {acc_val:.2f}', (flops_val, acc_val), textcoords=\"offset points\", xytext=(10,-15), ha='center', color=f'C{int(threshold*10)}')\n",
        "\n",
        "plt.xlabel('FLOPs (in thousands)')\n",
        "plt.ylabel('Test Accuracy (%)')\n",
        "plt.title('Test Accuracies (Structured Pruning with Finetuning) vs FLOPs')\n",
        "plt.legend()\n",
        "plt.grid(True)\n",
        "plt.show()"
      ],
      "metadata": {
        "colab": {
          "base_uri": "https://localhost:8080/",
          "height": 564
        },
        "id": "7MdRC0U3xeVm",
        "outputId": "c36127c9-7a8c-46a3-a9ac-bb5c9b21db1d"
      },
      "execution_count": 185,
      "outputs": [
        {
          "output_type": "display_data",
          "data": {
            "text/plain": [
              "<Figure size 1000x600 with 1 Axes>"
            ],
            "image/png": "[encoded data removed]"
          },
          "metadata": {}
        }
      ]
    },
    {
      "cell_type": "code",
      "source": [
        "from torch.profiler import profile, record_function, ProfilerActivity\n",
        "inputs = torch.rand([1,1960]).cpu()\n",
        "\n",
        "for t in thresholds:\n",
        "  print('threshold is {}'.format(t))\n",
        "  nc = num_nz_ch_per_threshold[t]\n",
        "  num_fc_feats = num_fc_features_in_per_threshold[t]\n",
        "  m_count_flops = PrunedTinyConv(model_settings=audio_processor.model_settings,n_input=1, n_output=audio_processor.num_labels, num_channels=nc, fc_feats=num_fc_feats)\n",
        "  m.to('cpu')\n",
        "  # if torch.cuda.is_available():\n",
        "  #   m_count_flops.cuda()\n",
        "  #   inputs = inputs.cuda()\n",
        "\n",
        "  with profile(activities=[ProfilerActivity.CPU], record_shapes=True, with_flops=True, with_stack=True) as prof:\n",
        "      with record_function(\"model_inference\"):\n",
        "          m_count_flops(inputs)\n",
        "  print(prof.key_averages().table(sort_by=\"cpu_time_total\", row_limit=20))"
      ],
      "metadata": {
        "colab": {
          "base_uri": "https://localhost:8080/"
        },
        "id": "rLwmjr4nqwUJ",
        "outputId": "6b273eec-573c-4474-f554-444bb12efcb3"
      },
      "execution_count": 176,
      "outputs": [
        {
          "output_type": "stream",
          "name": "stdout",
          "text": [
            "threshold is 0.1\n",
            "-----------------------------  ------------  ------------  ------------  ------------  ------------  ------------  ------------  \n",
            "                         Name    Self CPU %      Self CPU   CPU total %     CPU total  CPU time avg    # of Calls  Total KFLOPs  \n",
            "-----------------------------  ------------  ------------  ------------  ------------  ------------  ------------  ------------  \n",
            "              model_inference         0.46%     730.000us       100.00%     159.192ms     159.192ms             1            --  \n",
            "                 aten::conv2d         0.01%      15.000us        90.78%     144.511ms     144.511ms             1       560.000  \n",
            "            aten::convolution         0.03%      52.000us        90.77%     144.496ms     144.496ms             1            --  \n",
            "           aten::_convolution         0.02%      33.000us        90.74%     144.444ms     144.444ms             1            --  \n",
            "     aten::mkldnn_convolution        90.69%     144.370ms        90.71%     144.411ms     144.411ms             1            --  \n",
            "                aten::dropout         0.05%      82.000us         4.28%       6.807ms       6.807ms             1            --  \n",
            "             aten::bernoulli_         4.13%       6.574ms         4.13%       6.581ms       6.581ms             1            --  \n",
            "                 aten::linear         0.01%      19.000us         4.12%       6.564ms       6.564ms             1            --  \n",
            "                  aten::addmm         4.09%       6.505ms         4.10%       6.524ms       6.524ms             1        28.000  \n",
            "            aten::log_softmax         0.01%      10.000us         0.31%     492.000us     492.000us             1            --  \n",
            "           aten::_log_softmax         0.30%     482.000us         0.30%     482.000us     482.000us             1            --  \n",
            "                   aten::div_         0.04%      57.000us         0.06%      96.000us      96.000us             1            --  \n",
            "                   aten::relu         0.01%      21.000us         0.03%      43.000us      43.000us             1            --  \n",
            "                     aten::to         0.01%       9.000us         0.02%      39.000us      39.000us             1            --  \n",
            "                aten::reshape         0.01%      15.000us         0.02%      38.000us      19.000us             2            --  \n",
            "                    aten::mul         0.02%      32.000us         0.02%      32.000us      32.000us             1         3.500  \n",
            "               aten::_to_copy         0.01%      17.000us         0.02%      30.000us      30.000us             1            --  \n",
            "                  aten::empty         0.02%      24.000us         0.02%      24.000us       6.000us             4            --  \n",
            "            aten::as_strided_         0.02%      24.000us         0.02%      24.000us      24.000us             1            --  \n",
            "                   aten::view         0.01%      23.000us         0.01%      23.000us      11.500us             2            --  \n",
            "-----------------------------  ------------  ------------  ------------  ------------  ------------  ------------  ------------  \n",
            "Self CPU time total: 159.192ms\n",
            "\n",
            "threshold is 0.25\n",
            "-----------------------------  ------------  ------------  ------------  ------------  ------------  ------------  ------------  \n",
            "                         Name    Self CPU %      Self CPU   CPU total %     CPU total  CPU time avg    # of Calls  Total KFLOPs  \n",
            "-----------------------------  ------------  ------------  ------------  ------------  ------------  ------------  ------------  \n",
            "              model_inference        38.13%     408.000us       100.00%       1.070ms       1.070ms             1            --  \n",
            "                 aten::conv2d         2.52%      27.000us        40.93%     438.000us     438.000us             1       480.000  \n",
            "            aten::convolution         2.52%      27.000us        38.41%     411.000us     411.000us             1            --  \n",
            "           aten::_convolution         1.50%      16.000us        35.89%     384.000us     384.000us             1            --  \n",
            "     aten::mkldnn_convolution        32.99%     353.000us        34.39%     368.000us     368.000us             1            --  \n",
            "                aten::dropout         1.87%      20.000us         8.69%      93.000us      93.000us             1            --  \n",
            "                 aten::linear         0.93%      10.000us         6.26%      67.000us      67.000us             1            --  \n",
            "                  aten::addmm         3.36%      36.000us         4.11%      44.000us      44.000us             1        24.000  \n",
            "                   aten::div_         1.68%      18.000us         3.36%      36.000us      36.000us             1            --  \n",
            "                   aten::relu         1.31%      14.000us         2.34%      25.000us      25.000us             1            --  \n",
            "                aten::reshape         0.84%       9.000us         2.06%      22.000us      11.000us             2            --  \n",
            "             aten::bernoulli_         1.68%      18.000us         1.78%      19.000us      19.000us             1            --  \n",
            "                     aten::to         0.28%       3.000us         1.68%      18.000us      18.000us             1            --  \n",
            "               aten::_to_copy         0.75%       8.000us         1.40%      15.000us      15.000us             1            --  \n",
            "            aten::log_softmax         0.37%       4.000us         1.31%      14.000us      14.000us             1            --  \n",
            "                   aten::view         1.21%      13.000us         1.21%      13.000us       6.500us             2            --  \n",
            "                      aten::t         0.47%       5.000us         1.21%      13.000us      13.000us             1            --  \n",
            "                  aten::empty         1.12%      12.000us         1.12%      12.000us       3.000us             4            --  \n",
            "              aten::clamp_min         1.03%      11.000us         1.03%      11.000us      11.000us             1            --  \n",
            "                    aten::mul         0.93%      10.000us         0.93%      10.000us      10.000us             1         3.000  \n",
            "-----------------------------  ------------  ------------  ------------  ------------  ------------  ------------  ------------  \n",
            "Self CPU time total: 1.070ms\n",
            "\n",
            "threshold is 0.5\n",
            "-----------------------------  ------------  ------------  ------------  ------------  ------------  ------------  ------------  \n",
            "                         Name    Self CPU %      Self CPU   CPU total %     CPU total  CPU time avg    # of Calls  Total KFLOPs  \n",
            "-----------------------------  ------------  ------------  ------------  ------------  ------------  ------------  ------------  \n",
            "              model_inference        40.18%     407.000us       100.00%       1.013ms       1.013ms             1            --  \n",
            "                 aten::conv2d         0.79%       8.000us        40.67%     412.000us     412.000us             1       320.000  \n",
            "            aten::convolution         2.17%      22.000us        39.88%     404.000us     404.000us             1            --  \n",
            "           aten::_convolution         1.28%      13.000us        37.71%     382.000us     382.000us             1            --  \n",
            "     aten::mkldnn_convolution        35.14%     356.000us        36.43%     369.000us     369.000us             1            --  \n",
            "                aten::dropout         1.58%      16.000us         7.21%      73.000us      73.000us             1            --  \n",
            "                 aten::linear         0.79%       8.000us         4.54%      46.000us      46.000us             1            --  \n",
            "            aten::log_softmax         0.39%       4.000us         3.26%      33.000us      33.000us             1            --  \n",
            "                   aten::div_         1.48%      15.000us         2.86%      29.000us      29.000us             1            --  \n",
            "           aten::_log_softmax         2.86%      29.000us         2.86%      29.000us      29.000us             1            --  \n",
            "                  aten::addmm         2.07%      21.000us         2.67%      27.000us      27.000us             1        16.000  \n",
            "                aten::reshape         0.79%       8.000us         2.07%      21.000us      10.500us             2            --  \n",
            "                   aten::relu         0.99%      10.000us         1.78%      18.000us      18.000us             1            --  \n",
            "             aten::bernoulli_         1.28%      13.000us         1.38%      14.000us      14.000us             1            --  \n",
            "                     aten::to         0.30%       3.000us         1.38%      14.000us      14.000us             1            --  \n",
            "                   aten::view         1.28%      13.000us         1.28%      13.000us       6.500us             2            --  \n",
            "                  aten::empty         1.18%      12.000us         1.18%      12.000us       3.000us             4            --  \n",
            "               aten::_to_copy         0.59%       6.000us         1.09%      11.000us      11.000us             1            --  \n",
            "                      aten::t         0.59%       6.000us         1.09%      11.000us      11.000us             1            --  \n",
            "              aten::clamp_min         0.79%       8.000us         0.79%       8.000us       8.000us             1            --  \n",
            "-----------------------------  ------------  ------------  ------------  ------------  ------------  ------------  ------------  \n",
            "Self CPU time total: 1.013ms\n",
            "\n",
            "threshold is 0.75\n",
            "-----------------------------  ------------  ------------  ------------  ------------  ------------  ------------  ------------  \n",
            "                         Name    Self CPU %      Self CPU   CPU total %     CPU total  CPU time avg    # of Calls  Total KFLOPs  \n",
            "-----------------------------  ------------  ------------  ------------  ------------  ------------  ------------  ------------  \n",
            "              model_inference        38.49%     371.000us       100.00%     964.000us     964.000us             1            --  \n",
            "                 aten::conv2d         0.62%       6.000us        42.74%     412.000us     412.000us             1       160.000  \n",
            "            aten::convolution         2.28%      22.000us        42.12%     406.000us     406.000us             1            --  \n",
            "           aten::_convolution         1.14%      11.000us        39.83%     384.000us     384.000us             1            --  \n",
            "     aten::mkldnn_convolution        37.24%     359.000us        38.69%     373.000us     373.000us             1            --  \n",
            "                aten::dropout         1.56%      15.000us         7.37%      71.000us      71.000us             1            --  \n",
            "                 aten::linear         0.73%       7.000us         4.88%      47.000us      47.000us             1            --  \n",
            "                   aten::div_         1.56%      15.000us         2.90%      28.000us      28.000us             1            --  \n",
            "                  aten::addmm         2.28%      22.000us         2.90%      28.000us      28.000us             1         8.000  \n",
            "                aten::reshape         0.83%       8.000us         2.18%      21.000us      10.500us             2            --  \n",
            "                   aten::relu         1.14%      11.000us         1.97%      19.000us      19.000us             1            --  \n",
            "                   aten::view         1.35%      13.000us         1.35%      13.000us       6.500us             2            --  \n",
            "                  aten::empty         1.35%      13.000us         1.35%      13.000us       3.250us             4            --  \n",
            "             aten::bernoulli_         1.24%      12.000us         1.35%      13.000us      13.000us             1            --  \n",
            "                     aten::to         0.21%       2.000us         1.35%      13.000us      13.000us             1            --  \n",
            "                      aten::t         0.62%       6.000us         1.24%      12.000us      12.000us             1            --  \n",
            "               aten::_to_copy         0.62%       6.000us         1.14%      11.000us      11.000us             1            --  \n",
            "            aten::log_softmax         1.14%      11.000us         1.14%      11.000us      11.000us             1            --  \n",
            "           aten::_log_softmax         0.93%       9.000us         0.93%       9.000us       9.000us             1            --  \n",
            "              aten::clamp_min         0.83%       8.000us         0.83%       8.000us       8.000us             1            --  \n",
            "-----------------------------  ------------  ------------  ------------  ------------  ------------  ------------  ------------  \n",
            "Self CPU time total: 964.000us\n",
            "\n",
            "threshold is 0.9\n",
            "-----------------------------  ------------  ------------  ------------  ------------  ------------  ------------  ------------  \n",
            "                         Name    Self CPU %      Self CPU   CPU total %     CPU total  CPU time avg    # of Calls   Total FLOPs  \n",
            "-----------------------------  ------------  ------------  ------------  ------------  ------------  ------------  ------------  \n",
            "              model_inference         5.20%     441.000us       100.00%       8.478ms       8.478ms             1            --  \n",
            "                 aten::conv2d         0.08%       7.000us        92.40%       7.834ms       7.834ms             1     80000.000  \n",
            "            aten::convolution         0.24%      20.000us        92.32%       7.827ms       7.827ms             1            --  \n",
            "           aten::_convolution         0.13%      11.000us        92.09%       7.807ms       7.807ms             1            --  \n",
            "     aten::mkldnn_convolution        91.79%       7.782ms        91.96%       7.796ms       7.796ms             1            --  \n",
            "                aten::dropout         0.21%      18.000us         0.94%      80.000us      80.000us             1            --  \n",
            "                 aten::linear         0.11%       9.000us         0.60%      51.000us      51.000us             1            --  \n",
            "                   aten::div_         0.19%      16.000us         0.37%      31.000us      31.000us             1            --  \n",
            "                  aten::addmm         0.27%      23.000us         0.35%      30.000us      30.000us             1      4000.000  \n",
            "                aten::reshape         0.09%       8.000us         0.31%      26.000us      13.000us             2            --  \n",
            "            aten::log_softmax         0.04%       3.000us         0.25%      21.000us      21.000us             1            --  \n",
            "                   aten::relu         0.13%      11.000us         0.24%      20.000us      20.000us             1            --  \n",
            "                   aten::view         0.21%      18.000us         0.21%      18.000us       9.000us             2            --  \n",
            "           aten::_log_softmax         0.21%      18.000us         0.21%      18.000us      18.000us             1            --  \n",
            "                     aten::to         0.04%       3.000us         0.18%      15.000us      15.000us             1            --  \n",
            "                  aten::empty         0.15%      13.000us         0.15%      13.000us       3.250us             4            --  \n",
            "             aten::bernoulli_         0.14%      12.000us         0.15%      13.000us      13.000us             1            --  \n",
            "               aten::_to_copy         0.08%       7.000us         0.14%      12.000us      12.000us             1            --  \n",
            "                      aten::t         0.07%       6.000us         0.14%      12.000us      12.000us             1            --  \n",
            "                    aten::mul         0.12%      10.000us         0.12%      10.000us      10.000us             1       500.000  \n",
            "-----------------------------  ------------  ------------  ------------  ------------  ------------  ------------  ------------  \n",
            "Self CPU time total: 8.478ms\n",
            "\n"
          ]
        }
      ]
    },
    {
      "cell_type": "code",
      "source": [
        "cpu_time_per_threshold_struct_pruned = {}\n",
        "cpu_time_per_threshold_struct_pruned[0.1] = 159.192\n",
        "cpu_time_per_threshold_struct_pruned[0.25] = 1.070\n",
        "cpu_time_per_threshold_struct_pruned[0.5] = 1.013\n",
        "cpu_time_per_threshold_struct_pruned[0.75] = 0.964\n",
        "cpu_time_per_threshold_struct_pruned[0.9] = 8.478\n",
        "\n",
        "print('cpu_time_per_threshold_struct_pruned is {}'.format(cpu_time_per_threshold_struct_pruned))"
      ],
      "metadata": {
        "colab": {
          "base_uri": "https://localhost:8080/"
        },
        "id": "PqYF7Mwhrv8r",
        "outputId": "9616aa0a-38c2-4337-8ecd-4721213d1dcc"
      },
      "execution_count": 177,
      "outputs": [
        {
          "output_type": "stream",
          "name": "stdout",
          "text": [
            "cpu_time_per_threshold_struct_pruned is {0.1: 159.192, 0.25: 1.07, 0.5: 1.013, 0.75: 0.964, 0.9: 8.478}\n"
          ]
        }
      ]
    },
    {
      "cell_type": "code",
      "source": [
        "import matplotlib.pyplot as plt\n",
        "\n",
        "accuracies = list(test_acc_pruned_models.values())\n",
        "flops = list(cpu_time_per_threshold_struct_pruned.values())\n",
        "\n",
        "# Plot\n",
        "plt.figure(figsize=(10, 6))\n",
        "\n",
        "# Annotate thresholds with legend\n",
        "for threshold, flops_val, acc_val in zip(thresholds, flops, accuracies):\n",
        "    plt.plot(flops_val, acc_val, marker='o', markersize=10, label=f'Threshold {threshold}', color=f'C{int(threshold*10)}')\n",
        "    plt.annotate(f'{flops_val:.2f}, {acc_val:.2f}', (flops_val, acc_val), textcoords=\"offset points\", xytext=(10,-15), ha='center', color=f'C{int(threshold*10)}')\n",
        "\n",
        "plt.xlabel('CPU runtime in milliseconds')\n",
        "plt.ylabel('Test Accuracy (%)')\n",
        "plt.title('Test Accuracies (Structured Pruning without Finetuning) vs CPU Runtime')\n",
        "plt.legend()\n",
        "plt.grid(True)\n",
        "plt.show()"
      ],
      "metadata": {
        "colab": {
          "base_uri": "https://localhost:8080/",
          "height": 564
        },
        "id": "yzlbZrRkxpa-",
        "outputId": "7fb24b5f-58ad-48ac-e04c-993b2b3ba06d"
      },
      "execution_count": 184,
      "outputs": [
        {
          "output_type": "display_data",
          "data": {
            "text/plain": [
              "<Figure size 1000x600 with 1 Axes>"
            ],
            "image/png": "[encoded data removed]"
          },
          "metadata": {}
        }
      ]
    },
    {
      "cell_type": "code",
      "source": [
        "import matplotlib.pyplot as plt\n",
        "\n",
        "accuracies = list(test_acc_structured_pruned_models_finetuned.values())\n",
        "flops = list(cpu_time_per_threshold_struct_pruned.values())\n",
        "\n",
        "# Plot\n",
        "plt.figure(figsize=(10, 6))\n",
        "\n",
        "# Annotate thresholds with legend\n",
        "for threshold, flops_val, acc_val in zip(thresholds, flops, accuracies):\n",
        "    plt.plot(flops_val, acc_val, marker='o', markersize=10, label=f'Threshold {threshold}', color=f'C{int(threshold*10)}')\n",
        "    plt.annotate(f'{flops_val:.2f}, {acc_val:.2f}', (flops_val, acc_val), textcoords=\"offset points\", xytext=(10,-15), ha='center', color=f'C{int(threshold*10)}')\n",
        "\n",
        "plt.xlabel('CPU runtime in milliseconds')\n",
        "plt.ylabel('Test Accuracy (%)')\n",
        "plt.title('Test Accuracies (Structured Pruning with Finetuning) vs CPU Runtime')\n",
        "plt.legend()\n",
        "plt.grid(True)\n",
        "plt.show()"
      ],
      "metadata": {
        "colab": {
          "base_uri": "https://localhost:8080/",
          "height": 564
        },
        "id": "exhMYud6xqDt",
        "outputId": "91aa0369-676e-42cc-f00e-eba854fbc506"
      },
      "execution_count": 183,
      "outputs": [
        {
          "output_type": "display_data",
          "data": {
            "text/plain": [
              "<Figure size 1000x600 with 1 Axes>"
            ],
            "image/png": "[encoded data removed]"
          },
          "metadata": {}
        }
      ]
    },
    {
      "cell_type": "code",
      "source": [
        "# convvert models to TFLite"
      ],
      "metadata": {
        "id": "G6ekMJ_RzM5o"
      },
      "execution_count": null,
      "outputs": []
    },
    {
      "cell_type": "code",
      "source": [],
      "metadata": {
        "id": "-DvZX-zOzPnW"
      },
      "execution_count": null,
      "outputs": []
    },
    {
      "cell_type": "code",
      "source": [],
      "metadata": {
        "id": "KSNQbSO6zQCX"
      },
      "execution_count": null,
      "outputs": []
    },
    {
      "cell_type": "code",
      "source": [],
      "metadata": {
        "id": "W-OKDMJqzQaU"
      },
      "execution_count": null,
      "outputs": []
    },
    {
      "cell_type": "code",
      "source": [],
      "metadata": {
        "id": "5sxEsZKbzQ6U"
      },
      "execution_count": null,
      "outputs": []
    },
    {
      "cell_type": "code",
      "source": [],
      "metadata": {
        "id": "BvoaRec5zRRt"
      },
      "execution_count": null,
      "outputs": []
    },
    {
      "cell_type": "markdown",
      "metadata": {
        "id": "Tv18oNx5BE56"
      },
      "source": [
        "## 6.3 Unstructured Pruning\n",
        "\n",
        "In this section, you will perform unstructured pruning on the TinyConv model and explore its effect on performance.\n",
        "\n",
        "Following link will be helpful:\n",
        "1. [torch.nn.utils.prune.l1_unstructured](https://pytorch.org/docs/stable/generated/torch.nn.utils.prune.l1_unstructured.html?highlight=unstructured#torch.nn.utils.prune.l1_unstructured)\n",
        "\n",
        "2. [torch.nn.utils.prune.random_unstructured](https://pytorch.org/docs/stable/generated/torch.nn.utils.prune.random_unstructured.html?highlight=unstructured#torch.nn.utils.prune.random_unstructured)\n",
        "\n",
        "2. [Torch pruning tutorial](https://pytorch.org/tutorials/intermediate/pruning_tutorial.html?highlight=prune)"
      ]
    },
    {
      "cell_type": "code",
      "source": [
        "import copy\n",
        "import torch.nn as nn\n",
        "import torch.nn.utils.prune as prune"
      ],
      "metadata": {
        "id": "RnJLANmi0iN2"
      },
      "execution_count": 24,
      "outputs": []
    },
    {
      "cell_type": "code",
      "execution_count": 60,
      "metadata": {
        "colab": {
          "base_uri": "https://localhost:8080/"
        },
        "outputId": "6413adb0-4eb8-4727-c749-d1cc1a62a3e2",
        "id": "PjzbjUvR4COy"
      },
      "outputs": [
        {
          "output_type": "stream",
          "name": "stdout",
          "text": [
            "#batches: 106 \n",
            "#epochs: 5 \n",
            "#total training steps: 530\n"
          ]
        }
      ],
      "source": [
        "import time\n",
        "from src.train_val_test_utils import train, test\n",
        "from src.train_val_test_utils import create_optimizer\n",
        "\n",
        "\n",
        "def run_training(model, data_loaders, n_epoch, log_interval, optimizer, scheduler=None,\n",
        "                 save_interval=1, resume=True, checkpoint_path=None, verbose=False):\n",
        "    test_loader = data_loaders['testing']\n",
        "    with tqdm(total=n_epoch) as pbar:\n",
        "        completed_epoch = 1\n",
        "        if resume:\n",
        "            try:\n",
        "                #continue training with previous model if one exists\n",
        "                if checkpoint_path is None:\n",
        "                    raise ValueError\n",
        "                checkpoint = torch.load(checkpoint_path)\n",
        "                model.load_state_dict(checkpoint['model_state_dict'])\n",
        "                optimizer.load_state_dict(checkpoint['optimizer_state_dict'])\n",
        "                if scheduler is not None:\n",
        "                    scheduler.load_state_dict(checkpoint['scheduler_state_dict'])\n",
        "                completed_epoch = checkpoint[\"epoch\"] + 1\n",
        "                model.eval()\n",
        "                pbar.update(completed_epoch)\n",
        "            except:\n",
        "                pass\n",
        "\n",
        "        for epoch in range(completed_epoch, n_epoch + 1):\n",
        "            print('epoch {}'.format(epoch))\n",
        "            train_iters = len(data_loaders['training'])\n",
        "            train(model, data_loaders, optimizer, epoch, device, verbose)\n",
        "\n",
        "            # Apply pruning masks\n",
        "            for name, module in model.named_modules():\n",
        "                if isinstance(module, nn.Conv2d) or isinstance(module, nn.Linear):\n",
        "                    module.weight.data *= module.weight_mask\n",
        "\n",
        "            test(test_loader, model, device,\n",
        "                 epoch=None, loader_type='Test')\n",
        "\n",
        "            if scheduler is not None:\n",
        "                scheduler.step()\n",
        "            #checkpoint the model every run\n",
        "            if epoch % save_interval == 0 and checkpoint_path is not None:\n",
        "                torch.save({\n",
        "                    'epoch': epoch,\n",
        "                    'model_state_dict': model.state_dict(),\n",
        "                    'optimizer_state_dict': optimizer.state_dict(),\n",
        "                    'scheduler_state_dict': scheduler.state_dict() if scheduler is not None else None\n",
        "                }, checkpoint_path)\n",
        "\n",
        "            # Update epoch pbar\n",
        "            pbar.update(1)\n",
        "\n",
        "\n",
        "verbose = False\n",
        "log_interval = 100\n",
        "num_batches = len(train_loader)\n",
        "n_epoch = 5\n",
        "print(f'#batches: {num_batches} \\n#epochs: {n_epoch} \\n#total training steps: {num_batches * n_epoch}')"
      ]
    },
    {
      "cell_type": "code",
      "execution_count": 49,
      "metadata": {
        "id": "mCMbMep0qli-"
      },
      "outputs": [],
      "source": [
        "def unstructured_pruning(model, threshold):\n",
        "    model_copy = copy.deepcopy(model)\n",
        "    for modname, module in model_copy.named_modules():\n",
        "        if isinstance(module, nn.Conv2d) or isinstance(module, nn.Linear):\n",
        "            prune.l1_unstructured(module, 'weight', threshold)\n",
        "\n",
        "    # Freeze pruned weights\n",
        "    for name, param in model_copy.named_parameters():\n",
        "        if 'weight' in name and hasattr(param, 'orig'):\n",
        "            param.requires_grad = False\n",
        "\n",
        "    # optimizer_prune_unstructured = create_optimizer(model=model_copy, learning_rate=0.0001)\n",
        "    # print(optimizer_prune_unstructured.state_dict())\n",
        "\n",
        "    # print('fine tuning now \\n')\n",
        "\n",
        "    # non_finetuned_model = copy.deepcopy(model_copy)\n",
        "\n",
        "    # checkpoint_path = os.path.join(TORCH_DIR, \"pruned_unstructured_checkpoint_{t}.pt\")\n",
        "    # model_copy.to(device)\n",
        "\n",
        "    # run_training(\n",
        "    #     model=model_copy, data_loaders=data_loaders,\n",
        "    #     n_epoch=5, log_interval=log_interval,\n",
        "    #     optimizer=optimizer_prune_unstructured, scheduler=None,\n",
        "    #     resume=False,\n",
        "    #     checkpoint_path=checkpoint_path,\n",
        "    #     verbose=verbose\n",
        "    # )\n",
        "\n",
        "    # return non_finetuned_model, model_copy\n",
        "\n",
        "    return model_copy"
      ]
    },
    {
      "cell_type": "code",
      "execution_count": 50,
      "metadata": {
        "id": "oO107CtIrrxX"
      },
      "outputs": [],
      "source": [
        "unstructured_pruned_models = {}\n",
        "\n",
        "for t in thresholds:\n",
        "  m = unstructured_pruning(model_fp32,t)\n",
        "  m.to(device)\n",
        "  unstructured_pruned_models[t] = m\n",
        "  # m_pruned_unstr, m_pruned_unstr_finetuned = unstructured_pruning(model_fp32,t) #L1 structured pruning\n",
        "  # m_pruned_unstr.to(device)\n",
        "  # m_pruned_unstr_finetuned.to(device)\n",
        "  # unstructured_pruned_models[t]= m_pruned_unstr\n",
        "  # unstructured_pruned_models_finetuned[t] = m_pruned_unstr_finetuned"
      ]
    },
    {
      "cell_type": "code",
      "execution_count": 51,
      "metadata": {
        "id": "Zv9kiCgarrxu",
        "colab": {
          "base_uri": "https://localhost:8080/"
        },
        "outputId": "7aec9469-74db-4e5d-8108-d541c4ce69cf"
      },
      "outputs": [
        {
          "output_type": "stream",
          "name": "stdout",
          "text": [
            "param counts {0.1: tensor(14988), 0.25: tensor(12492), 0.5: tensor(8332), 0.75: tensor(4172), 0.9: tensor(1676)}\n"
          ]
        }
      ],
      "source": [
        "num_params_unstructured_pruned_models = {}\n",
        "\n",
        "for t in thresholds:\n",
        "  m = unstructured_pruned_models[t]\n",
        "\n",
        "  num_conv_params = m.conv.weight.numel() + m.conv.bias.numel()\n",
        "  num_lin_params = m.fc.weight.numel() + m.fc.bias.numel()\n",
        "  num_params_pruned_estimated = torch.sum(m.conv.weight == 0) + torch.sum(m.fc.weight == 0)\n",
        "  num_params_after_pruning = num_conv_params + num_lin_params - num_params_pruned_estimated\n",
        "\n",
        "  num_params_unstructured_pruned_models[t] = num_params_after_pruning\n",
        "\n",
        "print('param counts {}'.format(num_params_unstructured_pruned_models))"
      ]
    },
    {
      "cell_type": "code",
      "execution_count": 52,
      "metadata": {
        "id": "yuHsP4pPrrxv",
        "colab": {
          "base_uri": "https://localhost:8080/"
        },
        "outputId": "e4b56209-09c3-4918-9e8c-4b0ae55c3e53"
      },
      "outputs": [
        {
          "output_type": "stream",
          "name": "stdout",
          "text": [
            "threshold 0.1\n",
            "threshold 0.25\n",
            "threshold 0.5\n",
            "threshold 0.75\n",
            "threshold 0.9\n",
            "test accuracies {0.1: 90.49707602339181, 0.25: 90.42397660818713, 0.5: 73.75730994152046, 0.75: 34.50292397660819, 0.9: 25.219298245614034}\n"
          ]
        }
      ],
      "source": [
        "test_acc_unstructured_pruned_models = {}\n",
        "for t in thresholds:\n",
        "  print('threshold {}'.format(t))\n",
        "  m = unstructured_pruned_models[t]\n",
        "  acc = test(test_loader, m, device, epoch=None, loader_type='Test')\n",
        "  test_acc_unstructured_pruned_models[t] = acc\n",
        "\n",
        "print('test accuracies {}'.format(test_acc_unstructured_pruned_models))"
      ]
    },
    {
      "cell_type": "code",
      "execution_count": 62,
      "metadata": {
        "id": "SwOIvhnKsMFU",
        "colab": {
          "base_uri": "https://localhost:8080/",
          "height": 1000,
          "referenced_widgets": [
            "dd06b0697ae343f4b69930c7f6abe181",
            "31878052be694a8b9238a25b03ffd609",
            "f6394a9fe9c74e0c8e127e6f55dddc8e",
            "b3e50a03618c4f4bbd7b595743e7bcf5",
            "74146430fe8240d4b42ea87a0149537a",
            "bc91396c9d394f208e5e2aa6962af6af",
            "95300019859f48bd9da05cec23ce73ab",
            "85b6d6d76e3649ec8d78785eb1f062b9",
            "574f4ee190fc4ad08dca47cfbfa5bab0",
            "b994250d879741f0832828f231091476",
            "a5632404289d4fec868acdc9de826eb1",
            "8b03c04c7c0042d4a81743a3ac71aa73",
            "1839c704d3474d49bc2f5179616900c1",
            "82c4ee7f780943a88e2fe2750eb7b99c",
            "ed123b5728bc42d88dec5d641b001ee9",
            "9bbf60edfe904453a06d306cef5333e7",
            "6d0e605264624bf9aa0210d209348d59",
            "2fbdf9ad691a4e648599d1b5748ffaf8",
            "5ff158c5964d43b4b724c105a0d11fd9",
            "a98cee03c81b4529ac726bdf414235db",
            "3783a045bc8441b8920171aa47c2809f",
            "a63aed13ec914ad9b8c0ee05ccf3f6da",
            "b836ad8de9424da59702d3b14575c048",
            "bdbc4f6a159146afa02d847f1196fb92",
            "68a3f4288328476384cd056aa724b623",
            "715a76ff9c5845f8ad5b8280f00fa014",
            "38a99b3a3ace41bcabedf09393789c1f",
            "20897e231bb944a6976e41b612c1ef69",
            "5d9cf5eafa98402eae1f096d22877fb1",
            "e2a3ff0f904e40f8bd03d09570c8b299",
            "9126a52b45d24af4a335b28894c41dbf",
            "34bdd60996384c41b36bd2d857615f2e",
            "cc8b1146d137414097650c9ff1412797",
            "2441a8531f744e2e9b9a936fea203a33",
            "a7bcad723fa74e289db66ed3d0f35294",
            "afba8c65820e4a5ea648636b16aa27b4",
            "247a6ab4133646ebb8c3bd4e5285f5f4",
            "d3a18701d5a64311a4faa0673b8e5cee",
            "be6ac6c7739e44d7851828cc9e371ced",
            "ff23fb1af4ca46b1bfb7b58a4172298e",
            "f00e12a8a83347f1b2c82509d1fdac9e",
            "8d5b039cebde44f5bc0e22e0e0ffb360",
            "c4046817f12c4eb084c1a2f399bb9967",
            "a3e154523c4245db8b32e65f1a87e421",
            "2140aeabe50f4eb69b5420eaa6cf62f7",
            "0877fcf84a614d8dab01de1322f83b00",
            "24e8f0c30da5486184f2cb80abb7e664",
            "7e2198f9cd954614acd0373d055ba413",
            "44adeef49a4c4c63b5f1f9d5f52eadcc",
            "35ed4709409e4573ad582a047f7a8640",
            "68a9166b92864681bfe81b25c0c9669a",
            "0470d3498e564bd880ad3361cc7ca85d",
            "1fddafef94774ce796069eed77247910",
            "26114ed20d284bb99cbc1c6b120fd5f5",
            "b7312017f35048ef98497d4bbda60b14"
          ]
        },
        "outputId": "e33a7fbe-0301-4c1d-e19f-a51565a7f0db"
      },
      "outputs": [
        {
          "output_type": "stream",
          "name": "stdout",
          "text": [
            "finetuning threshold 0.1\n",
            "m is TinyConv(\n",
            "  (conv_reshape): Reshape(output_shape=(-1, 1, 49, 40))\n",
            "  (conv): Conv2d(1, 8, kernel_size=(10, 8), stride=(2, 2), padding=(5, 3))\n",
            "  (relu): ReLU()\n",
            "  (dropout): Dropout(p=0.5, inplace=False)\n",
            "  (fc_reshape): Reshape(output_shape=(-1, 4000))\n",
            "  (fc): Linear(in_features=4000, out_features=4, bias=True)\n",
            "  (softmax): Softmax(dim=1)\n",
            ")\n",
            "{'state': {}, 'param_groups': [{'lr': 0.0001, 'betas': (0.9, 0.999), 'eps': 1e-08, 'weight_decay': 0.0001, 'amsgrad': False, 'maximize': False, 'foreach': None, 'capturable': False, 'differentiable': False, 'fused': None, 'params': [0, 1, 2, 3]}]}\n"
          ]
        },
        {
          "output_type": "display_data",
          "data": {
            "text/plain": [
              "  0%|          | 0/5 [00:00<?, ?it/s]"
            ],
            "application/vnd.jupyter.widget-view+json": {
              "version_major": 2,
              "version_minor": 0,
              "model_id": "dd06b0697ae343f4b69930c7f6abe181"
            }
          },
          "metadata": {}
        },
        {
          "output_type": "stream",
          "name": "stdout",
          "text": [
            "epoch 1\n",
            "Val Acc Epoch 1 = 91.37%, Train loss = 0.322\n",
            "epoch 2\n",
            "Val Acc Epoch 2 = 91.07%, Train loss = 0.299\n",
            "epoch 3\n",
            "Val Acc Epoch 3 = 91.45%, Train loss = 0.31\n",
            "epoch 4\n",
            "Val Acc Epoch 4 = 90.62%, Train loss = 0.31\n",
            "epoch 5\n",
            "Val Acc Epoch 5 = 91.97%, Train loss = 0.312\n",
            "finetuning threshold 0.25\n",
            "m is TinyConv(\n",
            "  (conv_reshape): Reshape(output_shape=(-1, 1, 49, 40))\n",
            "  (conv): Conv2d(1, 8, kernel_size=(10, 8), stride=(2, 2), padding=(5, 3))\n",
            "  (relu): ReLU()\n",
            "  (dropout): Dropout(p=0.5, inplace=False)\n",
            "  (fc_reshape): Reshape(output_shape=(-1, 4000))\n",
            "  (fc): Linear(in_features=4000, out_features=4, bias=True)\n",
            "  (softmax): Softmax(dim=1)\n",
            ")\n",
            "{'state': {}, 'param_groups': [{'lr': 0.0001, 'betas': (0.9, 0.999), 'eps': 1e-08, 'weight_decay': 0.0001, 'amsgrad': False, 'maximize': False, 'foreach': None, 'capturable': False, 'differentiable': False, 'fused': None, 'params': [0, 1, 2, 3]}]}\n"
          ]
        },
        {
          "output_type": "display_data",
          "data": {
            "text/plain": [
              "  0%|          | 0/5 [00:00<?, ?it/s]"
            ],
            "application/vnd.jupyter.widget-view+json": {
              "version_major": 2,
              "version_minor": 0,
              "model_id": "8b03c04c7c0042d4a81743a3ac71aa73"
            }
          },
          "metadata": {}
        },
        {
          "output_type": "stream",
          "name": "stdout",
          "text": [
            "epoch 1\n",
            "Val Acc Epoch 1 = 91.07%, Train loss = 0.318\n",
            "epoch 2\n",
            "Val Acc Epoch 2 = 91.07%, Train loss = 0.302\n",
            "epoch 3\n",
            "Val Acc Epoch 3 = 91.45%, Train loss = 0.307\n",
            "epoch 4\n",
            "Val Acc Epoch 4 = 91.15%, Train loss = 0.309\n",
            "epoch 5\n",
            "Val Acc Epoch 5 = 91.37%, Train loss = 0.305\n",
            "finetuning threshold 0.5\n",
            "m is TinyConv(\n",
            "  (conv_reshape): Reshape(output_shape=(-1, 1, 49, 40))\n",
            "  (conv): Conv2d(1, 8, kernel_size=(10, 8), stride=(2, 2), padding=(5, 3))\n",
            "  (relu): ReLU()\n",
            "  (dropout): Dropout(p=0.5, inplace=False)\n",
            "  (fc_reshape): Reshape(output_shape=(-1, 4000))\n",
            "  (fc): Linear(in_features=4000, out_features=4, bias=True)\n",
            "  (softmax): Softmax(dim=1)\n",
            ")\n",
            "{'state': {}, 'param_groups': [{'lr': 0.0001, 'betas': (0.9, 0.999), 'eps': 1e-08, 'weight_decay': 0.0001, 'amsgrad': False, 'maximize': False, 'foreach': None, 'capturable': False, 'differentiable': False, 'fused': None, 'params': [0, 1, 2, 3]}]}\n"
          ]
        },
        {
          "output_type": "display_data",
          "data": {
            "text/plain": [
              "  0%|          | 0/5 [00:00<?, ?it/s]"
            ],
            "application/vnd.jupyter.widget-view+json": {
              "version_major": 2,
              "version_minor": 0,
              "model_id": "b836ad8de9424da59702d3b14575c048"
            }
          },
          "metadata": {}
        },
        {
          "output_type": "stream",
          "name": "stdout",
          "text": [
            "epoch 1\n",
            "Val Acc Epoch 1 = 89.65%, Train loss = 0.591\n",
            "epoch 2\n",
            "Val Acc Epoch 2 = 90.17%, Train loss = 0.348\n",
            "epoch 3\n",
            "Val Acc Epoch 3 = 89.8%, Train loss = 0.331\n",
            "epoch 4\n",
            "Val Acc Epoch 4 = 90.4%, Train loss = 0.334\n",
            "epoch 5\n",
            "Val Acc Epoch 5 = 90.4%, Train loss = 0.33\n",
            "finetuning threshold 0.75\n",
            "m is TinyConv(\n",
            "  (conv_reshape): Reshape(output_shape=(-1, 1, 49, 40))\n",
            "  (conv): Conv2d(1, 8, kernel_size=(10, 8), stride=(2, 2), padding=(5, 3))\n",
            "  (relu): ReLU()\n",
            "  (dropout): Dropout(p=0.5, inplace=False)\n",
            "  (fc_reshape): Reshape(output_shape=(-1, 4000))\n",
            "  (fc): Linear(in_features=4000, out_features=4, bias=True)\n",
            "  (softmax): Softmax(dim=1)\n",
            ")\n",
            "{'state': {}, 'param_groups': [{'lr': 0.0001, 'betas': (0.9, 0.999), 'eps': 1e-08, 'weight_decay': 0.0001, 'amsgrad': False, 'maximize': False, 'foreach': None, 'capturable': False, 'differentiable': False, 'fused': None, 'params': [0, 1, 2, 3]}]}\n"
          ]
        },
        {
          "output_type": "display_data",
          "data": {
            "text/plain": [
              "  0%|          | 0/5 [00:00<?, ?it/s]"
            ],
            "application/vnd.jupyter.widget-view+json": {
              "version_major": 2,
              "version_minor": 0,
              "model_id": "2441a8531f744e2e9b9a936fea203a33"
            }
          },
          "metadata": {}
        },
        {
          "output_type": "stream",
          "name": "stdout",
          "text": [
            "epoch 1\n",
            "Val Acc Epoch 1 = 60.99%, Train loss = 3.051\n",
            "epoch 2\n",
            "Val Acc Epoch 2 = 67.74%, Train loss = 1.575\n",
            "epoch 3\n",
            "Val Acc Epoch 3 = 70.37%, Train loss = 1.181\n",
            "epoch 4\n",
            "Val Acc Epoch 4 = 75.17%, Train loss = 0.997\n",
            "epoch 5\n",
            "Val Acc Epoch 5 = 77.27%, Train loss = 0.853\n",
            "finetuning threshold 0.9\n",
            "m is TinyConv(\n",
            "  (conv_reshape): Reshape(output_shape=(-1, 1, 49, 40))\n",
            "  (conv): Conv2d(1, 8, kernel_size=(10, 8), stride=(2, 2), padding=(5, 3))\n",
            "  (relu): ReLU()\n",
            "  (dropout): Dropout(p=0.5, inplace=False)\n",
            "  (fc_reshape): Reshape(output_shape=(-1, 4000))\n",
            "  (fc): Linear(in_features=4000, out_features=4, bias=True)\n",
            "  (softmax): Softmax(dim=1)\n",
            ")\n",
            "{'state': {}, 'param_groups': [{'lr': 0.0001, 'betas': (0.9, 0.999), 'eps': 1e-08, 'weight_decay': 0.0001, 'amsgrad': False, 'maximize': False, 'foreach': None, 'capturable': False, 'differentiable': False, 'fused': None, 'params': [0, 1, 2, 3]}]}\n"
          ]
        },
        {
          "output_type": "display_data",
          "data": {
            "text/plain": [
              "  0%|          | 0/5 [00:00<?, ?it/s]"
            ],
            "application/vnd.jupyter.widget-view+json": {
              "version_major": 2,
              "version_minor": 0,
              "model_id": "2140aeabe50f4eb69b5420eaa6cf62f7"
            }
          },
          "metadata": {}
        },
        {
          "output_type": "stream",
          "name": "stdout",
          "text": [
            "epoch 1\n",
            "Val Acc Epoch 1 = 25.96%, Train loss = 4.073\n",
            "epoch 2\n",
            "Val Acc Epoch 2 = 31.28%, Train loss = 2.745\n",
            "epoch 3\n",
            "Val Acc Epoch 3 = 39.91%, Train loss = 2.022\n",
            "epoch 4\n",
            "Val Acc Epoch 4 = 48.61%, Train loss = 1.604\n",
            "epoch 5\n",
            "Val Acc Epoch 5 = 51.24%, Train loss = 1.403\n"
          ]
        }
      ],
      "source": [
        "unstructured_pruned_models_finetuned = {}\n",
        "\n",
        "for t in thresholds:\n",
        "  # Create optimizer\n",
        "  print('finetuning threshold {}'.format(t))\n",
        "  m = unstructured_pruning(model_fp32,t)\n",
        "\n",
        "  print('m is {}'.format(m))\n",
        "  optimizer_prune_unstructured = create_optimizer(model=m, learning_rate=0.0001)\n",
        "  print(optimizer_prune_unstructured.state_dict())\n",
        "\n",
        "  checkpoint_path = os.path.join(TORCH_DIR, \"pruned_unstructured_checkpoint_{t}.pt\")\n",
        "  m.to(device)\n",
        "  run_training(\n",
        "      model=m, data_loaders=data_loaders,\n",
        "      n_epoch=5, log_interval=log_interval,\n",
        "      optimizer=optimizer_prune_unstructured, scheduler=None,\n",
        "      resume=False,\n",
        "      checkpoint_path=checkpoint_path,\n",
        "      verbose=verbose\n",
        "  )\n",
        "\n",
        "  unstructured_pruned_models_finetuned[t] = m"
      ]
    },
    {
      "cell_type": "code",
      "source": [
        "test_acc_unstructured_pruned_models_finetuned = {}\n",
        "for t in thresholds:\n",
        "  print('threshold {}'.format(t))\n",
        "  m = unstructured_pruned_models_finetuned[t]\n",
        "  acc = test(test_loader, m, device, epoch=None, loader_type='Test')\n",
        "  test_acc_unstructured_pruned_models_finetuned[t] = acc\n",
        "\n",
        "print('test accuracies unstructured finetuned \\n {}'.format(test_acc_unstructured_pruned_models_finetuned))"
      ],
      "metadata": {
        "colab": {
          "base_uri": "https://localhost:8080/"
        },
        "id": "6Tsc5JwIYYyK",
        "outputId": "71274215-40d8-4b62-d4d2-e65251b18afd"
      },
      "execution_count": 63,
      "outputs": [
        {
          "output_type": "stream",
          "name": "stdout",
          "text": [
            "threshold 0.1\n",
            "threshold 0.25\n",
            "threshold 0.5\n",
            "threshold 0.75\n",
            "threshold 0.9\n",
            "test accuracies unstructured finetuned \n",
            " {0.1: 90.27777777777777, 0.25: 91.81286549707602, 0.5: 90.27777777777777, 0.75: 78.58187134502924, 0.9: 52.77777777777778}\n"
          ]
        }
      ]
    },
    {
      "cell_type": "code",
      "source": [
        "import matplotlib.pyplot as plt\n",
        "\n",
        "# Example data\n",
        "param_counts_values = num_params_unstructured_pruned_models.values()\n",
        "test_accuracies_values = test_acc_unstructured_pruned_models.values()\n",
        "# test_accuracies_values_fine = test_acc_unstructured_pruned_models_finetuned\n",
        "\n",
        "# Plot accuracy versus parameter counts\n",
        "plt.figure(figsize=(10, 6))\n",
        "for i, (x, y) in enumerate(zip(param_counts_values, test_accuracies_values)):\n",
        "    plt.scatter(x, y, label=f'Threshold: {thresholds[i]}')\n",
        "    plt.annotate(f'({x}, {y:.2f})', (x, y), textcoords=\"offset points\", xytext=(5,5), ha='center')\n",
        "plt.xlabel('Parameter Counts')\n",
        "plt.ylabel('Test Accuracies')\n",
        "plt.title('Unstructured Pruning: Accuracy vs Parameter Counts')\n",
        "plt.grid(True)\n",
        "plt.legend()\n",
        "plt.show()\n"
      ],
      "metadata": {
        "colab": {
          "base_uri": "https://localhost:8080/",
          "height": 564
        },
        "id": "g_GuqKxf680e",
        "outputId": "cc1ea894-bd83-4f8e-f8ee-e7c9aabe281a"
      },
      "execution_count": 82,
      "outputs": [
        {
          "output_type": "display_data",
          "data": {
            "text/plain": [
              "<Figure size 1000x600 with 1 Axes>"
            ],
            "image/png": "[encoded data removed]"
          },
          "metadata": {}
        }
      ]
    },
    {
      "cell_type": "code",
      "source": [
        "import matplotlib.pyplot as plt\n",
        "\n",
        "# Example data\n",
        "param_counts_values = num_params_unstructured_pruned_models.values()\n",
        "test_accuracies_values_fine = test_acc_unstructured_pruned_models_finetuned.values()\n",
        "\n",
        "# Plot accuracy versus parameter counts\n",
        "plt.figure(figsize=(10, 6))\n",
        "for i, (x, y) in enumerate(zip(param_counts_values, test_accuracies_values_fine)):\n",
        "    plt.scatter(x, y, label=f'Threshold: {thresholds[i]}')\n",
        "    plt.annotate(f'({x}, {y:.2f})', (x, y), textcoords=\"offset points\", xytext=(5,5), ha='center')\n",
        "plt.xlabel('Parameter Counts')\n",
        "plt.ylabel('Test Accuracies')\n",
        "plt.title('Unstructured Pruning with Fintetuning: Accuracy vs Parameter Counts')\n",
        "plt.grid(True)\n",
        "plt.legend()\n",
        "plt.show()\n"
      ],
      "metadata": {
        "colab": {
          "base_uri": "https://localhost:8080/",
          "height": 564
        },
        "id": "5jbjNCkt8Bu9",
        "outputId": "e9b01406-c3e2-418e-e9fa-1766a8bafe0c"
      },
      "execution_count": 83,
      "outputs": [
        {
          "output_type": "display_data",
          "data": {
            "text/plain": [
              "<Figure size 1000x600 with 1 Axes>"
            ],
            "image/png": "[encoded data removed]"
          },
          "metadata": {}
        }
      ]
    }
  ],
  "metadata": {
    "accelerator": "GPU",
    "colab": {
      "gpuType": "T4",
      "provenance": [],
      "include_colab_link": true
    },
    "interpreter": {
      "hash": "eed6bdaff5cc743acd241b8f3fe4c5dc3266475018a66ac615ca19ad2f28387d"
    },
    "kernelspec": {
      "display_name": "Python 3",
      "name": "python3"
    },
    "language_info": {
      "name": "python"
    },
    "widgets": {
      "application/vnd.jupyter.widget-state+json": {
        "b281f3b390044810a3df1b585716efbd": {
          "model_module": "@jupyter-widgets/controls",
          "model_name": "HBoxModel",
          "model_module_version": "1.5.0",
          "state": {
            "_dom_classes": [],
            "_model_module": "@jupyter-widgets/controls",
            "_model_module_version": "1.5.0",
            "_model_name": "HBoxModel",
            "_view_count": null,
            "_view_module": "@jupyter-widgets/controls",
            "_view_module_version": "1.5.0",
            "_view_name": "HBoxView",
            "box_style": "",
            "children": [
              "IPY_MODEL_c2ff013195f849fd8b8d86382f9ced4f",
              "IPY_MODEL_5d27c9437dc34815ad4a508308fb72b3",
              "IPY_MODEL_29fae23e47344ec28fe87376ba6bf3bb"
            ],
            "layout": "IPY_MODEL_ededb8d87e6647769ee56a6dc6ff813c"
          }
        },
        "c2ff013195f849fd8b8d86382f9ced4f": {
          "model_module": "@jupyter-widgets/controls",
          "model_name": "HTMLModel",
          "model_module_version": "1.5.0",
          "state": {
            "_dom_classes": [],
            "_model_module": "@jupyter-widgets/controls",
            "_model_module_version": "1.5.0",
            "_model_name": "HTMLModel",
            "_view_count": null,
            "_view_module": "@jupyter-widgets/controls",
            "_view_module_version": "1.5.0",
            "_view_name": "HTMLView",
            "description": "",
            "description_tooltip": null,
            "layout": "IPY_MODEL_43a6a22b48034cc788c4068307f43213",
            "placeholder": "​",
            "style": "IPY_MODEL_cf138e1508284a35ad670743409bb4a7",
            "value": "100%"
          }
        },
        "5d27c9437dc34815ad4a508308fb72b3": {
          "model_module": "@jupyter-widgets/controls",
          "model_name": "FloatProgressModel",
          "model_module_version": "1.5.0",
          "state": {
            "_dom_classes": [],
            "_model_module": "@jupyter-widgets/controls",
            "_model_module_version": "1.5.0",
            "_model_name": "FloatProgressModel",
            "_view_count": null,
            "_view_module": "@jupyter-widgets/controls",
            "_view_module_version": "1.5.0",
            "_view_name": "ProgressView",
            "bar_style": "success",
            "description": "",
            "description_tooltip": null,
            "layout": "IPY_MODEL_12fd36e7734b4ac88185b17e5c6ad6f2",
            "max": 5,
            "min": 0,
            "orientation": "horizontal",
            "style": "IPY_MODEL_7a517d091e93415faa9115db940684a5",
            "value": 5
          }
        },
        "29fae23e47344ec28fe87376ba6bf3bb": {
          "model_module": "@jupyter-widgets/controls",
          "model_name": "HTMLModel",
          "model_module_version": "1.5.0",
          "state": {
            "_dom_classes": [],
            "_model_module": "@jupyter-widgets/controls",
            "_model_module_version": "1.5.0",
            "_model_name": "HTMLModel",
            "_view_count": null,
            "_view_module": "@jupyter-widgets/controls",
            "_view_module_version": "1.5.0",
            "_view_name": "HTMLView",
            "description": "",
            "description_tooltip": null,
            "layout": "IPY_MODEL_1cb6beefd77147bb9471341a03359ed1",
            "placeholder": "​",
            "style": "IPY_MODEL_92ff20d5af66459aae7d23a8e20f153e",
            "value": " 5/5 [10:39&lt;00:00, 126.27s/it]"
          }
        },
        "ededb8d87e6647769ee56a6dc6ff813c": {
          "model_module": "@jupyter-widgets/base",
          "model_name": "LayoutModel",
          "model_module_version": "1.2.0",
          "state": {
            "_model_module": "@jupyter-widgets/base",
            "_model_module_version": "1.2.0",
            "_model_name": "LayoutModel",
            "_view_count": null,
            "_view_module": "@jupyter-widgets/base",
            "_view_module_version": "1.2.0",
            "_view_name": "LayoutView",
            "align_content": null,
            "align_items": null,
            "align_self": null,
            "border": null,
            "bottom": null,
            "display": null,
            "flex": null,
            "flex_flow": null,
            "grid_area": null,
            "grid_auto_columns": null,
            "grid_auto_flow": null,
            "grid_auto_rows": null,
            "grid_column": null,
            "grid_gap": null,
            "grid_row": null,
            "grid_template_areas": null,
            "grid_template_columns": null,
            "grid_template_rows": null,
            "height": null,
            "justify_content": null,
            "justify_items": null,
            "left": null,
            "margin": null,
            "max_height": null,
            "max_width": null,
            "min_height": null,
            "min_width": null,
            "object_fit": null,
            "object_position": null,
            "order": null,
            "overflow": null,
            "overflow_x": null,
            "overflow_y": null,
            "padding": null,
            "right": null,
            "top": null,
            "visibility": null,
            "width": null
          }
        },
        "43a6a22b48034cc788c4068307f43213": {
          "model_module": "@jupyter-widgets/base",
          "model_name": "LayoutModel",
          "model_module_version": "1.2.0",
          "state": {
            "_model_module": "@jupyter-widgets/base",
            "_model_module_version": "1.2.0",
            "_model_name": "LayoutModel",
            "_view_count": null,
            "_view_module": "@jupyter-widgets/base",
            "_view_module_version": "1.2.0",
            "_view_name": "LayoutView",
            "align_content": null,
            "align_items": null,
            "align_self": null,
            "border": null,
            "bottom": null,
            "display": null,
            "flex": null,
            "flex_flow": null,
            "grid_area": null,
            "grid_auto_columns": null,
            "grid_auto_flow": null,
            "grid_auto_rows": null,
            "grid_column": null,
            "grid_gap": null,
            "grid_row": null,
            "grid_template_areas": null,
            "grid_template_columns": null,
            "grid_template_rows": null,
            "height": null,
            "justify_content": null,
            "justify_items": null,
            "left": null,
            "margin": null,
            "max_height": null,
            "max_width": null,
            "min_height": null,
            "min_width": null,
            "object_fit": null,
            "object_position": null,
            "order": null,
            "overflow": null,
            "overflow_x": null,
            "overflow_y": null,
            "padding": null,
            "right": null,
            "top": null,
            "visibility": null,
            "width": null
          }
        },
        "cf138e1508284a35ad670743409bb4a7": {
          "model_module": "@jupyter-widgets/controls",
          "model_name": "DescriptionStyleModel",
          "model_module_version": "1.5.0",
          "state": {
            "_model_module": "@jupyter-widgets/controls",
            "_model_module_version": "1.5.0",
            "_model_name": "DescriptionStyleModel",
            "_view_count": null,
            "_view_module": "@jupyter-widgets/base",
            "_view_module_version": "1.2.0",
            "_view_name": "StyleView",
            "description_width": ""
          }
        },
        "12fd36e7734b4ac88185b17e5c6ad6f2": {
          "model_module": "@jupyter-widgets/base",
          "model_name": "LayoutModel",
          "model_module_version": "1.2.0",
          "state": {
            "_model_module": "@jupyter-widgets/base",
            "_model_module_version": "1.2.0",
            "_model_name": "LayoutModel",
            "_view_count": null,
            "_view_module": "@jupyter-widgets/base",
            "_view_module_version": "1.2.0",
            "_view_name": "LayoutView",
            "align_content": null,
            "align_items": null,
            "align_self": null,
            "border": null,
            "bottom": null,
            "display": null,
            "flex": null,
            "flex_flow": null,
            "grid_area": null,
            "grid_auto_columns": null,
            "grid_auto_flow": null,
            "grid_auto_rows": null,
            "grid_column": null,
            "grid_gap": null,
            "grid_row": null,
            "grid_template_areas": null,
            "grid_template_columns": null,
            "grid_template_rows": null,
            "height": null,
            "justify_content": null,
            "justify_items": null,
            "left": null,
            "margin": null,
            "max_height": null,
            "max_width": null,
            "min_height": null,
            "min_width": null,
            "object_fit": null,
            "object_position": null,
            "order": null,
            "overflow": null,
            "overflow_x": null,
            "overflow_y": null,
            "padding": null,
            "right": null,
            "top": null,
            "visibility": null,
            "width": null
          }
        },
        "7a517d091e93415faa9115db940684a5": {
          "model_module": "@jupyter-widgets/controls",
          "model_name": "ProgressStyleModel",
          "model_module_version": "1.5.0",
          "state": {
            "_model_module": "@jupyter-widgets/controls",
            "_model_module_version": "1.5.0",
            "_model_name": "ProgressStyleModel",
            "_view_count": null,
            "_view_module": "@jupyter-widgets/base",
            "_view_module_version": "1.2.0",
            "_view_name": "StyleView",
            "bar_color": null,
            "description_width": ""
          }
        },
        "1cb6beefd77147bb9471341a03359ed1": {
          "model_module": "@jupyter-widgets/base",
          "model_name": "LayoutModel",
          "model_module_version": "1.2.0",
          "state": {
            "_model_module": "@jupyter-widgets/base",
            "_model_module_version": "1.2.0",
            "_model_name": "LayoutModel",
            "_view_count": null,
            "_view_module": "@jupyter-widgets/base",
            "_view_module_version": "1.2.0",
            "_view_name": "LayoutView",
            "align_content": null,
            "align_items": null,
            "align_self": null,
            "border": null,
            "bottom": null,
            "display": null,
            "flex": null,
            "flex_flow": null,
            "grid_area": null,
            "grid_auto_columns": null,
            "grid_auto_flow": null,
            "grid_auto_rows": null,
            "grid_column": null,
            "grid_gap": null,
            "grid_row": null,
            "grid_template_areas": null,
            "grid_template_columns": null,
            "grid_template_rows": null,
            "height": null,
            "justify_content": null,
            "justify_items": null,
            "left": null,
            "margin": null,
            "max_height": null,
            "max_width": null,
            "min_height": null,
            "min_width": null,
            "object_fit": null,
            "object_position": null,
            "order": null,
            "overflow": null,
            "overflow_x": null,
            "overflow_y": null,
            "padding": null,
            "right": null,
            "top": null,
            "visibility": null,
            "width": null
          }
        },
        "92ff20d5af66459aae7d23a8e20f153e": {
          "model_module": "@jupyter-widgets/controls",
          "model_name": "DescriptionStyleModel",
          "model_module_version": "1.5.0",
          "state": {
            "_model_module": "@jupyter-widgets/controls",
            "_model_module_version": "1.5.0",
            "_model_name": "DescriptionStyleModel",
            "_view_count": null,
            "_view_module": "@jupyter-widgets/base",
            "_view_module_version": "1.2.0",
            "_view_name": "StyleView",
            "description_width": ""
          }
        },
        "159b1e05d83c4952bfce2397fe78274e": {
          "model_module": "@jupyter-widgets/controls",
          "model_name": "HBoxModel",
          "model_module_version": "1.5.0",
          "state": {
            "_dom_classes": [],
            "_model_module": "@jupyter-widgets/controls",
            "_model_module_version": "1.5.0",
            "_model_name": "HBoxModel",
            "_view_count": null,
            "_view_module": "@jupyter-widgets/controls",
            "_view_module_version": "1.5.0",
            "_view_name": "HBoxView",
            "box_style": "",
            "children": [
              "IPY_MODEL_95288a7b6ad140eda8029940137ecbec",
              "IPY_MODEL_fa36c548b796499ab2ee04685a4d01b7",
              "IPY_MODEL_2105563b99e444549494d4bf6c9514aa"
            ],
            "layout": "IPY_MODEL_341898eb64a44da1a1a33b101df89f73"
          }
        },
        "95288a7b6ad140eda8029940137ecbec": {
          "model_module": "@jupyter-widgets/controls",
          "model_name": "HTMLModel",
          "model_module_version": "1.5.0",
          "state": {
            "_dom_classes": [],
            "_model_module": "@jupyter-widgets/controls",
            "_model_module_version": "1.5.0",
            "_model_name": "HTMLModel",
            "_view_count": null,
            "_view_module": "@jupyter-widgets/controls",
            "_view_module_version": "1.5.0",
            "_view_name": "HTMLView",
            "description": "",
            "description_tooltip": null,
            "layout": "IPY_MODEL_623508ae6163441f8f6d7e32e28d915c",
            "placeholder": "​",
            "style": "IPY_MODEL_e1619f811a7a462fbebf0194a8dd9e9c",
            "value": "100%"
          }
        },
        "fa36c548b796499ab2ee04685a4d01b7": {
          "model_module": "@jupyter-widgets/controls",
          "model_name": "FloatProgressModel",
          "model_module_version": "1.5.0",
          "state": {
            "_dom_classes": [],
            "_model_module": "@jupyter-widgets/controls",
            "_model_module_version": "1.5.0",
            "_model_name": "FloatProgressModel",
            "_view_count": null,
            "_view_module": "@jupyter-widgets/controls",
            "_view_module_version": "1.5.0",
            "_view_name": "ProgressView",
            "bar_style": "success",
            "description": "",
            "description_tooltip": null,
            "layout": "IPY_MODEL_a7fcf17250a04e37b91f6d933abecffb",
            "max": 5,
            "min": 0,
            "orientation": "horizontal",
            "style": "IPY_MODEL_346d5d7781f149b0b0905e0948a9999d",
            "value": 5
          }
        },
        "2105563b99e444549494d4bf6c9514aa": {
          "model_module": "@jupyter-widgets/controls",
          "model_name": "HTMLModel",
          "model_module_version": "1.5.0",
          "state": {
            "_dom_classes": [],
            "_model_module": "@jupyter-widgets/controls",
            "_model_module_version": "1.5.0",
            "_model_name": "HTMLModel",
            "_view_count": null,
            "_view_module": "@jupyter-widgets/controls",
            "_view_module_version": "1.5.0",
            "_view_name": "HTMLView",
            "description": "",
            "description_tooltip": null,
            "layout": "IPY_MODEL_dbd63b05abe54d5383e6dd5704186b02",
            "placeholder": "​",
            "style": "IPY_MODEL_f741ada7ac324c158fd4ee2ef884f812",
            "value": " 5/5 [10:54&lt;00:00, 128.61s/it]"
          }
        },
        "341898eb64a44da1a1a33b101df89f73": {
          "model_module": "@jupyter-widgets/base",
          "model_name": "LayoutModel",
          "model_module_version": "1.2.0",
          "state": {
            "_model_module": "@jupyter-widgets/base",
            "_model_module_version": "1.2.0",
            "_model_name": "LayoutModel",
            "_view_count": null,
            "_view_module": "@jupyter-widgets/base",
            "_view_module_version": "1.2.0",
            "_view_name": "LayoutView",
            "align_content": null,
            "align_items": null,
            "align_self": null,
            "border": null,
            "bottom": null,
            "display": null,
            "flex": null,
            "flex_flow": null,
            "grid_area": null,
            "grid_auto_columns": null,
            "grid_auto_flow": null,
            "grid_auto_rows": null,
            "grid_column": null,
            "grid_gap": null,
            "grid_row": null,
            "grid_template_areas": null,
            "grid_template_columns": null,
            "grid_template_rows": null,
            "height": null,
            "justify_content": null,
            "justify_items": null,
            "left": null,
            "margin": null,
            "max_height": null,
            "max_width": null,
            "min_height": null,
            "min_width": null,
            "object_fit": null,
            "object_position": null,
            "order": null,
            "overflow": null,
            "overflow_x": null,
            "overflow_y": null,
            "padding": null,
            "right": null,
            "top": null,
            "visibility": null,
            "width": null
          }
        },
        "623508ae6163441f8f6d7e32e28d915c": {
          "model_module": "@jupyter-widgets/base",
          "model_name": "LayoutModel",
          "model_module_version": "1.2.0",
          "state": {
            "_model_module": "@jupyter-widgets/base",
            "_model_module_version": "1.2.0",
            "_model_name": "LayoutModel",
            "_view_count": null,
            "_view_module": "@jupyter-widgets/base",
            "_view_module_version": "1.2.0",
            "_view_name": "LayoutView",
            "align_content": null,
            "align_items": null,
            "align_self": null,
            "border": null,
            "bottom": null,
            "display": null,
            "flex": null,
            "flex_flow": null,
            "grid_area": null,
            "grid_auto_columns": null,
            "grid_auto_flow": null,
            "grid_auto_rows": null,
            "grid_column": null,
            "grid_gap": null,
            "grid_row": null,
            "grid_template_areas": null,
            "grid_template_columns": null,
            "grid_template_rows": null,
            "height": null,
            "justify_content": null,
            "justify_items": null,
            "left": null,
            "margin": null,
            "max_height": null,
            "max_width": null,
            "min_height": null,
            "min_width": null,
            "object_fit": null,
            "object_position": null,
            "order": null,
            "overflow": null,
            "overflow_x": null,
            "overflow_y": null,
            "padding": null,
            "right": null,
            "top": null,
            "visibility": null,
            "width": null
          }
        },
        "e1619f811a7a462fbebf0194a8dd9e9c": {
          "model_module": "@jupyter-widgets/controls",
          "model_name": "DescriptionStyleModel",
          "model_module_version": "1.5.0",
          "state": {
            "_model_module": "@jupyter-widgets/controls",
            "_model_module_version": "1.5.0",
            "_model_name": "DescriptionStyleModel",
            "_view_count": null,
            "_view_module": "@jupyter-widgets/base",
            "_view_module_version": "1.2.0",
            "_view_name": "StyleView",
            "description_width": ""
          }
        },
        "a7fcf17250a04e37b91f6d933abecffb": {
          "model_module": "@jupyter-widgets/base",
          "model_name": "LayoutModel",
          "model_module_version": "1.2.0",
          "state": {
            "_model_module": "@jupyter-widgets/base",
            "_model_module_version": "1.2.0",
            "_model_name": "LayoutModel",
            "_view_count": null,
            "_view_module": "@jupyter-widgets/base",
            "_view_module_version": "1.2.0",
            "_view_name": "LayoutView",
            "align_content": null,
            "align_items": null,
            "align_self": null,
            "border": null,
            "bottom": null,
            "display": null,
            "flex": null,
            "flex_flow": null,
            "grid_area": null,
            "grid_auto_columns": null,
            "grid_auto_flow": null,
            "grid_auto_rows": null,
            "grid_column": null,
            "grid_gap": null,
            "grid_row": null,
            "grid_template_areas": null,
            "grid_template_columns": null,
            "grid_template_rows": null,
            "height": null,
            "justify_content": null,
            "justify_items": null,
            "left": null,
            "margin": null,
            "max_height": null,
            "max_width": null,
            "min_height": null,
            "min_width": null,
            "object_fit": null,
            "object_position": null,
            "order": null,
            "overflow": null,
            "overflow_x": null,
            "overflow_y": null,
            "padding": null,
            "right": null,
            "top": null,
            "visibility": null,
            "width": null
          }
        },
        "346d5d7781f149b0b0905e0948a9999d": {
          "model_module": "@jupyter-widgets/controls",
          "model_name": "ProgressStyleModel",
          "model_module_version": "1.5.0",
          "state": {
            "_model_module": "@jupyter-widgets/controls",
            "_model_module_version": "1.5.0",
            "_model_name": "ProgressStyleModel",
            "_view_count": null,
            "_view_module": "@jupyter-widgets/base",
            "_view_module_version": "1.2.0",
            "_view_name": "StyleView",
            "bar_color": null,
            "description_width": ""
          }
        },
        "dbd63b05abe54d5383e6dd5704186b02": {
          "model_module": "@jupyter-widgets/base",
          "model_name": "LayoutModel",
          "model_module_version": "1.2.0",
          "state": {
            "_model_module": "@jupyter-widgets/base",
            "_model_module_version": "1.2.0",
            "_model_name": "LayoutModel",
            "_view_count": null,
            "_view_module": "@jupyter-widgets/base",
            "_view_module_version": "1.2.0",
            "_view_name": "LayoutView",
            "align_content": null,
            "align_items": null,
            "align_self": null,
            "border": null,
            "bottom": null,
            "display": null,
            "flex": null,
            "flex_flow": null,
            "grid_area": null,
            "grid_auto_columns": null,
            "grid_auto_flow": null,
            "grid_auto_rows": null,
            "grid_column": null,
            "grid_gap": null,
            "grid_row": null,
            "grid_template_areas": null,
            "grid_template_columns": null,
            "grid_template_rows": null,
            "height": null,
            "justify_content": null,
            "justify_items": null,
            "left": null,
            "margin": null,
            "max_height": null,
            "max_width": null,
            "min_height": null,
            "min_width": null,
            "object_fit": null,
            "object_position": null,
            "order": null,
            "overflow": null,
            "overflow_x": null,
            "overflow_y": null,
            "padding": null,
            "right": null,
            "top": null,
            "visibility": null,
            "width": null
          }
        },
        "f741ada7ac324c158fd4ee2ef884f812": {
          "model_module": "@jupyter-widgets/controls",
          "model_name": "DescriptionStyleModel",
          "model_module_version": "1.5.0",
          "state": {
            "_model_module": "@jupyter-widgets/controls",
            "_model_module_version": "1.5.0",
            "_model_name": "DescriptionStyleModel",
            "_view_count": null,
            "_view_module": "@jupyter-widgets/base",
            "_view_module_version": "1.2.0",
            "_view_name": "StyleView",
            "description_width": ""
          }
        },
        "f3036466d37d428d9a0650d73b32aca2": {
          "model_module": "@jupyter-widgets/controls",
          "model_name": "HBoxModel",
          "model_module_version": "1.5.0",
          "state": {
            "_dom_classes": [],
            "_model_module": "@jupyter-widgets/controls",
            "_model_module_version": "1.5.0",
            "_model_name": "HBoxModel",
            "_view_count": null,
            "_view_module": "@jupyter-widgets/controls",
            "_view_module_version": "1.5.0",
            "_view_name": "HBoxView",
            "box_style": "",
            "children": [
              "IPY_MODEL_73d5083e383d4fd08b29edde8d153f85",
              "IPY_MODEL_31167cd1a25a42a3b9cd48913353e63b",
              "IPY_MODEL_e5f9d039494541df9b440397969aeeb3"
            ],
            "layout": "IPY_MODEL_6e031e9261584ca0999676fb89c475b3"
          }
        },
        "73d5083e383d4fd08b29edde8d153f85": {
          "model_module": "@jupyter-widgets/controls",
          "model_name": "HTMLModel",
          "model_module_version": "1.5.0",
          "state": {
            "_dom_classes": [],
            "_model_module": "@jupyter-widgets/controls",
            "_model_module_version": "1.5.0",
            "_model_name": "HTMLModel",
            "_view_count": null,
            "_view_module": "@jupyter-widgets/controls",
            "_view_module_version": "1.5.0",
            "_view_name": "HTMLView",
            "description": "",
            "description_tooltip": null,
            "layout": "IPY_MODEL_c94ffd0676c547c2b80c0bd63b9e2f04",
            "placeholder": "​",
            "style": "IPY_MODEL_1aa094c1b4534654aa34d2aca8b0fbe6",
            "value": "100%"
          }
        },
        "31167cd1a25a42a3b9cd48913353e63b": {
          "model_module": "@jupyter-widgets/controls",
          "model_name": "FloatProgressModel",
          "model_module_version": "1.5.0",
          "state": {
            "_dom_classes": [],
            "_model_module": "@jupyter-widgets/controls",
            "_model_module_version": "1.5.0",
            "_model_name": "FloatProgressModel",
            "_view_count": null,
            "_view_module": "@jupyter-widgets/controls",
            "_view_module_version": "1.5.0",
            "_view_name": "ProgressView",
            "bar_style": "success",
            "description": "",
            "description_tooltip": null,
            "layout": "IPY_MODEL_845e45a37ecf420e924d5a059eb2f951",
            "max": 5,
            "min": 0,
            "orientation": "horizontal",
            "style": "IPY_MODEL_3f223c3d3fc241f883d0ad3a9d32eb25",
            "value": 5
          }
        },
        "e5f9d039494541df9b440397969aeeb3": {
          "model_module": "@jupyter-widgets/controls",
          "model_name": "HTMLModel",
          "model_module_version": "1.5.0",
          "state": {
            "_dom_classes": [],
            "_model_module": "@jupyter-widgets/controls",
            "_model_module_version": "1.5.0",
            "_model_name": "HTMLModel",
            "_view_count": null,
            "_view_module": "@jupyter-widgets/controls",
            "_view_module_version": "1.5.0",
            "_view_name": "HTMLView",
            "description": "",
            "description_tooltip": null,
            "layout": "IPY_MODEL_01e517ccdb0f4e4da44728f3d826902f",
            "placeholder": "​",
            "style": "IPY_MODEL_fc8a688bc7004f8bab73eaaeb4bfb864",
            "value": " 5/5 [10:47&lt;00:00, 131.79s/it]"
          }
        },
        "6e031e9261584ca0999676fb89c475b3": {
          "model_module": "@jupyter-widgets/base",
          "model_name": "LayoutModel",
          "model_module_version": "1.2.0",
          "state": {
            "_model_module": "@jupyter-widgets/base",
            "_model_module_version": "1.2.0",
            "_model_name": "LayoutModel",
            "_view_count": null,
            "_view_module": "@jupyter-widgets/base",
            "_view_module_version": "1.2.0",
            "_view_name": "LayoutView",
            "align_content": null,
            "align_items": null,
            "align_self": null,
            "border": null,
            "bottom": null,
            "display": null,
            "flex": null,
            "flex_flow": null,
            "grid_area": null,
            "grid_auto_columns": null,
            "grid_auto_flow": null,
            "grid_auto_rows": null,
            "grid_column": null,
            "grid_gap": null,
            "grid_row": null,
            "grid_template_areas": null,
            "grid_template_columns": null,
            "grid_template_rows": null,
            "height": null,
            "justify_content": null,
            "justify_items": null,
            "left": null,
            "margin": null,
            "max_height": null,
            "max_width": null,
            "min_height": null,
            "min_width": null,
            "object_fit": null,
            "object_position": null,
            "order": null,
            "overflow": null,
            "overflow_x": null,
            "overflow_y": null,
            "padding": null,
            "right": null,
            "top": null,
            "visibility": null,
            "width": null
          }
        },
        "c94ffd0676c547c2b80c0bd63b9e2f04": {
          "model_module": "@jupyter-widgets/base",
          "model_name": "LayoutModel",
          "model_module_version": "1.2.0",
          "state": {
            "_model_module": "@jupyter-widgets/base",
            "_model_module_version": "1.2.0",
            "_model_name": "LayoutModel",
            "_view_count": null,
            "_view_module": "@jupyter-widgets/base",
            "_view_module_version": "1.2.0",
            "_view_name": "LayoutView",
            "align_content": null,
            "align_items": null,
            "align_self": null,
            "border": null,
            "bottom": null,
            "display": null,
            "flex": null,
            "flex_flow": null,
            "grid_area": null,
            "grid_auto_columns": null,
            "grid_auto_flow": null,
            "grid_auto_rows": null,
            "grid_column": null,
            "grid_gap": null,
            "grid_row": null,
            "grid_template_areas": null,
            "grid_template_columns": null,
            "grid_template_rows": null,
            "height": null,
            "justify_content": null,
            "justify_items": null,
            "left": null,
            "margin": null,
            "max_height": null,
            "max_width": null,
            "min_height": null,
            "min_width": null,
            "object_fit": null,
            "object_position": null,
            "order": null,
            "overflow": null,
            "overflow_x": null,
            "overflow_y": null,
            "padding": null,
            "right": null,
            "top": null,
            "visibility": null,
            "width": null
          }
        },
        "1aa094c1b4534654aa34d2aca8b0fbe6": {
          "model_module": "@jupyter-widgets/controls",
          "model_name": "DescriptionStyleModel",
          "model_module_version": "1.5.0",
          "state": {
            "_model_module": "@jupyter-widgets/controls",
            "_model_module_version": "1.5.0",
            "_model_name": "DescriptionStyleModel",
            "_view_count": null,
            "_view_module": "@jupyter-widgets/base",
            "_view_module_version": "1.2.0",
            "_view_name": "StyleView",
            "description_width": ""
          }
        },
        "845e45a37ecf420e924d5a059eb2f951": {
          "model_module": "@jupyter-widgets/base",
          "model_name": "LayoutModel",
          "model_module_version": "1.2.0",
          "state": {
            "_model_module": "@jupyter-widgets/base",
            "_model_module_version": "1.2.0",
            "_model_name": "LayoutModel",
            "_view_count": null,
            "_view_module": "@jupyter-widgets/base",
            "_view_module_version": "1.2.0",
            "_view_name": "LayoutView",
            "align_content": null,
            "align_items": null,
            "align_self": null,
            "border": null,
            "bottom": null,
            "display": null,
            "flex": null,
            "flex_flow": null,
            "grid_area": null,
            "grid_auto_columns": null,
            "grid_auto_flow": null,
            "grid_auto_rows": null,
            "grid_column": null,
            "grid_gap": null,
            "grid_row": null,
            "grid_template_areas": null,
            "grid_template_columns": null,
            "grid_template_rows": null,
            "height": null,
            "justify_content": null,
            "justify_items": null,
            "left": null,
            "margin": null,
            "max_height": null,
            "max_width": null,
            "min_height": null,
            "min_width": null,
            "object_fit": null,
            "object_position": null,
            "order": null,
            "overflow": null,
            "overflow_x": null,
            "overflow_y": null,
            "padding": null,
            "right": null,
            "top": null,
            "visibility": null,
            "width": null
          }
        },
        "3f223c3d3fc241f883d0ad3a9d32eb25": {
          "model_module": "@jupyter-widgets/controls",
          "model_name": "ProgressStyleModel",
          "model_module_version": "1.5.0",
          "state": {
            "_model_module": "@jupyter-widgets/controls",
            "_model_module_version": "1.5.0",
            "_model_name": "ProgressStyleModel",
            "_view_count": null,
            "_view_module": "@jupyter-widgets/base",
            "_view_module_version": "1.2.0",
            "_view_name": "StyleView",
            "bar_color": null,
            "description_width": ""
          }
        },
        "01e517ccdb0f4e4da44728f3d826902f": {
          "model_module": "@jupyter-widgets/base",
          "model_name": "LayoutModel",
          "model_module_version": "1.2.0",
          "state": {
            "_model_module": "@jupyter-widgets/base",
            "_model_module_version": "1.2.0",
            "_model_name": "LayoutModel",
            "_view_count": null,
            "_view_module": "@jupyter-widgets/base",
            "_view_module_version": "1.2.0",
            "_view_name": "LayoutView",
            "align_content": null,
            "align_items": null,
            "align_self": null,
            "border": null,
            "bottom": null,
            "display": null,
            "flex": null,
            "flex_flow": null,
            "grid_area": null,
            "grid_auto_columns": null,
            "grid_auto_flow": null,
            "grid_auto_rows": null,
            "grid_column": null,
            "grid_gap": null,
            "grid_row": null,
            "grid_template_areas": null,
            "grid_template_columns": null,
            "grid_template_rows": null,
            "height": null,
            "justify_content": null,
            "justify_items": null,
            "left": null,
            "margin": null,
            "max_height": null,
            "max_width": null,
            "min_height": null,
            "min_width": null,
            "object_fit": null,
            "object_position": null,
            "order": null,
            "overflow": null,
            "overflow_x": null,
            "overflow_y": null,
            "padding": null,
            "right": null,
            "top": null,
            "visibility": null,
            "width": null
          }
        },
        "fc8a688bc7004f8bab73eaaeb4bfb864": {
          "model_module": "@jupyter-widgets/controls",
          "model_name": "DescriptionStyleModel",
          "model_module_version": "1.5.0",
          "state": {
            "_model_module": "@jupyter-widgets/controls",
            "_model_module_version": "1.5.0",
            "_model_name": "DescriptionStyleModel",
            "_view_count": null,
            "_view_module": "@jupyter-widgets/base",
            "_view_module_version": "1.2.0",
            "_view_name": "StyleView",
            "description_width": ""
          }
        },
        "e034a64de0634711b3177fcae7b9774e": {
          "model_module": "@jupyter-widgets/controls",
          "model_name": "HBoxModel",
          "model_module_version": "1.5.0",
          "state": {
            "_dom_classes": [],
            "_model_module": "@jupyter-widgets/controls",
            "_model_module_version": "1.5.0",
            "_model_name": "HBoxModel",
            "_view_count": null,
            "_view_module": "@jupyter-widgets/controls",
            "_view_module_version": "1.5.0",
            "_view_name": "HBoxView",
            "box_style": "",
            "children": [
              "IPY_MODEL_c225783097d24b63bac1d4d91167dbf5",
              "IPY_MODEL_025ab05c322f4328bbc8f0e2acebb223",
              "IPY_MODEL_6932088f87a94a46ae5207a3ed2c451f"
            ],
            "layout": "IPY_MODEL_e4b1387ae83f48a284639cb01a6fd5c5"
          }
        },
        "c225783097d24b63bac1d4d91167dbf5": {
          "model_module": "@jupyter-widgets/controls",
          "model_name": "HTMLModel",
          "model_module_version": "1.5.0",
          "state": {
            "_dom_classes": [],
            "_model_module": "@jupyter-widgets/controls",
            "_model_module_version": "1.5.0",
            "_model_name": "HTMLModel",
            "_view_count": null,
            "_view_module": "@jupyter-widgets/controls",
            "_view_module_version": "1.5.0",
            "_view_name": "HTMLView",
            "description": "",
            "description_tooltip": null,
            "layout": "IPY_MODEL_b6f6f9ba6f6a44c48ff1b409b500a852",
            "placeholder": "​",
            "style": "IPY_MODEL_b960eabb64bd4436ad91736e82e6c9b6",
            "value": " 80%"
          }
        },
        "025ab05c322f4328bbc8f0e2acebb223": {
          "model_module": "@jupyter-widgets/controls",
          "model_name": "FloatProgressModel",
          "model_module_version": "1.5.0",
          "state": {
            "_dom_classes": [],
            "_model_module": "@jupyter-widgets/controls",
            "_model_module_version": "1.5.0",
            "_model_name": "FloatProgressModel",
            "_view_count": null,
            "_view_module": "@jupyter-widgets/controls",
            "_view_module_version": "1.5.0",
            "_view_name": "ProgressView",
            "bar_style": "",
            "description": "",
            "description_tooltip": null,
            "layout": "IPY_MODEL_c07de9dc494d4fe69d6a898ad346e5ec",
            "max": 5,
            "min": 0,
            "orientation": "horizontal",
            "style": "IPY_MODEL_c0e67bbc28a64d498856e9685119652d",
            "value": 4
          }
        },
        "6932088f87a94a46ae5207a3ed2c451f": {
          "model_module": "@jupyter-widgets/controls",
          "model_name": "HTMLModel",
          "model_module_version": "1.5.0",
          "state": {
            "_dom_classes": [],
            "_model_module": "@jupyter-widgets/controls",
            "_model_module_version": "1.5.0",
            "_model_name": "HTMLModel",
            "_view_count": null,
            "_view_module": "@jupyter-widgets/controls",
            "_view_module_version": "1.5.0",
            "_view_name": "HTMLView",
            "description": "",
            "description_tooltip": null,
            "layout": "IPY_MODEL_f27941fb1d444178bcbe631c6beb65ce",
            "placeholder": "​",
            "style": "IPY_MODEL_561fae9571324617914a30cc16567c60",
            "value": " 4/5 [08:20&lt;02:04, 124.10s/it]"
          }
        },
        "e4b1387ae83f48a284639cb01a6fd5c5": {
          "model_module": "@jupyter-widgets/base",
          "model_name": "LayoutModel",
          "model_module_version": "1.2.0",
          "state": {
            "_model_module": "@jupyter-widgets/base",
            "_model_module_version": "1.2.0",
            "_model_name": "LayoutModel",
            "_view_count": null,
            "_view_module": "@jupyter-widgets/base",
            "_view_module_version": "1.2.0",
            "_view_name": "LayoutView",
            "align_content": null,
            "align_items": null,
            "align_self": null,
            "border": null,
            "bottom": null,
            "display": null,
            "flex": null,
            "flex_flow": null,
            "grid_area": null,
            "grid_auto_columns": null,
            "grid_auto_flow": null,
            "grid_auto_rows": null,
            "grid_column": null,
            "grid_gap": null,
            "grid_row": null,
            "grid_template_areas": null,
            "grid_template_columns": null,
            "grid_template_rows": null,
            "height": null,
            "justify_content": null,
            "justify_items": null,
            "left": null,
            "margin": null,
            "max_height": null,
            "max_width": null,
            "min_height": null,
            "min_width": null,
            "object_fit": null,
            "object_position": null,
            "order": null,
            "overflow": null,
            "overflow_x": null,
            "overflow_y": null,
            "padding": null,
            "right": null,
            "top": null,
            "visibility": null,
            "width": null
          }
        },
        "b6f6f9ba6f6a44c48ff1b409b500a852": {
          "model_module": "@jupyter-widgets/base",
          "model_name": "LayoutModel",
          "model_module_version": "1.2.0",
          "state": {
            "_model_module": "@jupyter-widgets/base",
            "_model_module_version": "1.2.0",
            "_model_name": "LayoutModel",
            "_view_count": null,
            "_view_module": "@jupyter-widgets/base",
            "_view_module_version": "1.2.0",
            "_view_name": "LayoutView",
            "align_content": null,
            "align_items": null,
            "align_self": null,
            "border": null,
            "bottom": null,
            "display": null,
            "flex": null,
            "flex_flow": null,
            "grid_area": null,
            "grid_auto_columns": null,
            "grid_auto_flow": null,
            "grid_auto_rows": null,
            "grid_column": null,
            "grid_gap": null,
            "grid_row": null,
            "grid_template_areas": null,
            "grid_template_columns": null,
            "grid_template_rows": null,
            "height": null,
            "justify_content": null,
            "justify_items": null,
            "left": null,
            "margin": null,
            "max_height": null,
            "max_width": null,
            "min_height": null,
            "min_width": null,
            "object_fit": null,
            "object_position": null,
            "order": null,
            "overflow": null,
            "overflow_x": null,
            "overflow_y": null,
            "padding": null,
            "right": null,
            "top": null,
            "visibility": null,
            "width": null
          }
        },
        "b960eabb64bd4436ad91736e82e6c9b6": {
          "model_module": "@jupyter-widgets/controls",
          "model_name": "DescriptionStyleModel",
          "model_module_version": "1.5.0",
          "state": {
            "_model_module": "@jupyter-widgets/controls",
            "_model_module_version": "1.5.0",
            "_model_name": "DescriptionStyleModel",
            "_view_count": null,
            "_view_module": "@jupyter-widgets/base",
            "_view_module_version": "1.2.0",
            "_view_name": "StyleView",
            "description_width": ""
          }
        },
        "c07de9dc494d4fe69d6a898ad346e5ec": {
          "model_module": "@jupyter-widgets/base",
          "model_name": "LayoutModel",
          "model_module_version": "1.2.0",
          "state": {
            "_model_module": "@jupyter-widgets/base",
            "_model_module_version": "1.2.0",
            "_model_name": "LayoutModel",
            "_view_count": null,
            "_view_module": "@jupyter-widgets/base",
            "_view_module_version": "1.2.0",
            "_view_name": "LayoutView",
            "align_content": null,
            "align_items": null,
            "align_self": null,
            "border": null,
            "bottom": null,
            "display": null,
            "flex": null,
            "flex_flow": null,
            "grid_area": null,
            "grid_auto_columns": null,
            "grid_auto_flow": null,
            "grid_auto_rows": null,
            "grid_column": null,
            "grid_gap": null,
            "grid_row": null,
            "grid_template_areas": null,
            "grid_template_columns": null,
            "grid_template_rows": null,
            "height": null,
            "justify_content": null,
            "justify_items": null,
            "left": null,
            "margin": null,
            "max_height": null,
            "max_width": null,
            "min_height": null,
            "min_width": null,
            "object_fit": null,
            "object_position": null,
            "order": null,
            "overflow": null,
            "overflow_x": null,
            "overflow_y": null,
            "padding": null,
            "right": null,
            "top": null,
            "visibility": null,
            "width": null
          }
        },
        "c0e67bbc28a64d498856e9685119652d": {
          "model_module": "@jupyter-widgets/controls",
          "model_name": "ProgressStyleModel",
          "model_module_version": "1.5.0",
          "state": {
            "_model_module": "@jupyter-widgets/controls",
            "_model_module_version": "1.5.0",
            "_model_name": "ProgressStyleModel",
            "_view_count": null,
            "_view_module": "@jupyter-widgets/base",
            "_view_module_version": "1.2.0",
            "_view_name": "StyleView",
            "bar_color": null,
            "description_width": ""
          }
        },
        "f27941fb1d444178bcbe631c6beb65ce": {
          "model_module": "@jupyter-widgets/base",
          "model_name": "LayoutModel",
          "model_module_version": "1.2.0",
          "state": {
            "_model_module": "@jupyter-widgets/base",
            "_model_module_version": "1.2.0",
            "_model_name": "LayoutModel",
            "_view_count": null,
            "_view_module": "@jupyter-widgets/base",
            "_view_module_version": "1.2.0",
            "_view_name": "LayoutView",
            "align_content": null,
            "align_items": null,
            "align_self": null,
            "border": null,
            "bottom": null,
            "display": null,
            "flex": null,
            "flex_flow": null,
            "grid_area": null,
            "grid_auto_columns": null,
            "grid_auto_flow": null,
            "grid_auto_rows": null,
            "grid_column": null,
            "grid_gap": null,
            "grid_row": null,
            "grid_template_areas": null,
            "grid_template_columns": null,
            "grid_template_rows": null,
            "height": null,
            "justify_content": null,
            "justify_items": null,
            "left": null,
            "margin": null,
            "max_height": null,
            "max_width": null,
            "min_height": null,
            "min_width": null,
            "object_fit": null,
            "object_position": null,
            "order": null,
            "overflow": null,
            "overflow_x": null,
            "overflow_y": null,
            "padding": null,
            "right": null,
            "top": null,
            "visibility": null,
            "width": null
          }
        },
        "561fae9571324617914a30cc16567c60": {
          "model_module": "@jupyter-widgets/controls",
          "model_name": "DescriptionStyleModel",
          "model_module_version": "1.5.0",
          "state": {
            "_model_module": "@jupyter-widgets/controls",
            "_model_module_version": "1.5.0",
            "_model_name": "DescriptionStyleModel",
            "_view_count": null,
            "_view_module": "@jupyter-widgets/base",
            "_view_module_version": "1.2.0",
            "_view_name": "StyleView",
            "description_width": ""
          }
        },
        "dd06b0697ae343f4b69930c7f6abe181": {
          "model_module": "@jupyter-widgets/controls",
          "model_name": "HBoxModel",
          "model_module_version": "1.5.0",
          "state": {
            "_dom_classes": [],
            "_model_module": "@jupyter-widgets/controls",
            "_model_module_version": "1.5.0",
            "_model_name": "HBoxModel",
            "_view_count": null,
            "_view_module": "@jupyter-widgets/controls",
            "_view_module_version": "1.5.0",
            "_view_name": "HBoxView",
            "box_style": "",
            "children": [
              "IPY_MODEL_31878052be694a8b9238a25b03ffd609",
              "IPY_MODEL_f6394a9fe9c74e0c8e127e6f55dddc8e",
              "IPY_MODEL_b3e50a03618c4f4bbd7b595743e7bcf5"
            ],
            "layout": "IPY_MODEL_74146430fe8240d4b42ea87a0149537a"
          }
        },
        "31878052be694a8b9238a25b03ffd609": {
          "model_module": "@jupyter-widgets/controls",
          "model_name": "HTMLModel",
          "model_module_version": "1.5.0",
          "state": {
            "_dom_classes": [],
            "_model_module": "@jupyter-widgets/controls",
            "_model_module_version": "1.5.0",
            "_model_name": "HTMLModel",
            "_view_count": null,
            "_view_module": "@jupyter-widgets/controls",
            "_view_module_version": "1.5.0",
            "_view_name": "HTMLView",
            "description": "",
            "description_tooltip": null,
            "layout": "IPY_MODEL_bc91396c9d394f208e5e2aa6962af6af",
            "placeholder": "​",
            "style": "IPY_MODEL_95300019859f48bd9da05cec23ce73ab",
            "value": "100%"
          }
        },
        "f6394a9fe9c74e0c8e127e6f55dddc8e": {
          "model_module": "@jupyter-widgets/controls",
          "model_name": "FloatProgressModel",
          "model_module_version": "1.5.0",
          "state": {
            "_dom_classes": [],
            "_model_module": "@jupyter-widgets/controls",
            "_model_module_version": "1.5.0",
            "_model_name": "FloatProgressModel",
            "_view_count": null,
            "_view_module": "@jupyter-widgets/controls",
            "_view_module_version": "1.5.0",
            "_view_name": "ProgressView",
            "bar_style": "success",
            "description": "",
            "description_tooltip": null,
            "layout": "IPY_MODEL_85b6d6d76e3649ec8d78785eb1f062b9",
            "max": 5,
            "min": 0,
            "orientation": "horizontal",
            "style": "IPY_MODEL_574f4ee190fc4ad08dca47cfbfa5bab0",
            "value": 5
          }
        },
        "b3e50a03618c4f4bbd7b595743e7bcf5": {
          "model_module": "@jupyter-widgets/controls",
          "model_name": "HTMLModel",
          "model_module_version": "1.5.0",
          "state": {
            "_dom_classes": [],
            "_model_module": "@jupyter-widgets/controls",
            "_model_module_version": "1.5.0",
            "_model_name": "HTMLModel",
            "_view_count": null,
            "_view_module": "@jupyter-widgets/controls",
            "_view_module_version": "1.5.0",
            "_view_name": "HTMLView",
            "description": "",
            "description_tooltip": null,
            "layout": "IPY_MODEL_b994250d879741f0832828f231091476",
            "placeholder": "​",
            "style": "IPY_MODEL_a5632404289d4fec868acdc9de826eb1",
            "value": " 5/5 [10:08&lt;00:00, 121.31s/it]"
          }
        },
        "74146430fe8240d4b42ea87a0149537a": {
          "model_module": "@jupyter-widgets/base",
          "model_name": "LayoutModel",
          "model_module_version": "1.2.0",
          "state": {
            "_model_module": "@jupyter-widgets/base",
            "_model_module_version": "1.2.0",
            "_model_name": "LayoutModel",
            "_view_count": null,
            "_view_module": "@jupyter-widgets/base",
            "_view_module_version": "1.2.0",
            "_view_name": "LayoutView",
            "align_content": null,
            "align_items": null,
            "align_self": null,
            "border": null,
            "bottom": null,
            "display": null,
            "flex": null,
            "flex_flow": null,
            "grid_area": null,
            "grid_auto_columns": null,
            "grid_auto_flow": null,
            "grid_auto_rows": null,
            "grid_column": null,
            "grid_gap": null,
            "grid_row": null,
            "grid_template_areas": null,
            "grid_template_columns": null,
            "grid_template_rows": null,
            "height": null,
            "justify_content": null,
            "justify_items": null,
            "left": null,
            "margin": null,
            "max_height": null,
            "max_width": null,
            "min_height": null,
            "min_width": null,
            "object_fit": null,
            "object_position": null,
            "order": null,
            "overflow": null,
            "overflow_x": null,
            "overflow_y": null,
            "padding": null,
            "right": null,
            "top": null,
            "visibility": null,
            "width": null
          }
        },
        "bc91396c9d394f208e5e2aa6962af6af": {
          "model_module": "@jupyter-widgets/base",
          "model_name": "LayoutModel",
          "model_module_version": "1.2.0",
          "state": {
            "_model_module": "@jupyter-widgets/base",
            "_model_module_version": "1.2.0",
            "_model_name": "LayoutModel",
            "_view_count": null,
            "_view_module": "@jupyter-widgets/base",
            "_view_module_version": "1.2.0",
            "_view_name": "LayoutView",
            "align_content": null,
            "align_items": null,
            "align_self": null,
            "border": null,
            "bottom": null,
            "display": null,
            "flex": null,
            "flex_flow": null,
            "grid_area": null,
            "grid_auto_columns": null,
            "grid_auto_flow": null,
            "grid_auto_rows": null,
            "grid_column": null,
            "grid_gap": null,
            "grid_row": null,
            "grid_template_areas": null,
            "grid_template_columns": null,
            "grid_template_rows": null,
            "height": null,
            "justify_content": null,
            "justify_items": null,
            "left": null,
            "margin": null,
            "max_height": null,
            "max_width": null,
            "min_height": null,
            "min_width": null,
            "object_fit": null,
            "object_position": null,
            "order": null,
            "overflow": null,
            "overflow_x": null,
            "overflow_y": null,
            "padding": null,
            "right": null,
            "top": null,
            "visibility": null,
            "width": null
          }
        },
        "95300019859f48bd9da05cec23ce73ab": {
          "model_module": "@jupyter-widgets/controls",
          "model_name": "DescriptionStyleModel",
          "model_module_version": "1.5.0",
          "state": {
            "_model_module": "@jupyter-widgets/controls",
            "_model_module_version": "1.5.0",
            "_model_name": "DescriptionStyleModel",
            "_view_count": null,
            "_view_module": "@jupyter-widgets/base",
            "_view_module_version": "1.2.0",
            "_view_name": "StyleView",
            "description_width": ""
          }
        },
        "85b6d6d76e3649ec8d78785eb1f062b9": {
          "model_module": "@jupyter-widgets/base",
          "model_name": "LayoutModel",
          "model_module_version": "1.2.0",
          "state": {
            "_model_module": "@jupyter-widgets/base",
            "_model_module_version": "1.2.0",
            "_model_name": "LayoutModel",
            "_view_count": null,
            "_view_module": "@jupyter-widgets/base",
            "_view_module_version": "1.2.0",
            "_view_name": "LayoutView",
            "align_content": null,
            "align_items": null,
            "align_self": null,
            "border": null,
            "bottom": null,
            "display": null,
            "flex": null,
            "flex_flow": null,
            "grid_area": null,
            "grid_auto_columns": null,
            "grid_auto_flow": null,
            "grid_auto_rows": null,
            "grid_column": null,
            "grid_gap": null,
            "grid_row": null,
            "grid_template_areas": null,
            "grid_template_columns": null,
            "grid_template_rows": null,
            "height": null,
            "justify_content": null,
            "justify_items": null,
            "left": null,
            "margin": null,
            "max_height": null,
            "max_width": null,
            "min_height": null,
            "min_width": null,
            "object_fit": null,
            "object_position": null,
            "order": null,
            "overflow": null,
            "overflow_x": null,
            "overflow_y": null,
            "padding": null,
            "right": null,
            "top": null,
            "visibility": null,
            "width": null
          }
        },
        "574f4ee190fc4ad08dca47cfbfa5bab0": {
          "model_module": "@jupyter-widgets/controls",
          "model_name": "ProgressStyleModel",
          "model_module_version": "1.5.0",
          "state": {
            "_model_module": "@jupyter-widgets/controls",
            "_model_module_version": "1.5.0",
            "_model_name": "ProgressStyleModel",
            "_view_count": null,
            "_view_module": "@jupyter-widgets/base",
            "_view_module_version": "1.2.0",
            "_view_name": "StyleView",
            "bar_color": null,
            "description_width": ""
          }
        },
        "b994250d879741f0832828f231091476": {
          "model_module": "@jupyter-widgets/base",
          "model_name": "LayoutModel",
          "model_module_version": "1.2.0",
          "state": {
            "_model_module": "@jupyter-widgets/base",
            "_model_module_version": "1.2.0",
            "_model_name": "LayoutModel",
            "_view_count": null,
            "_view_module": "@jupyter-widgets/base",
            "_view_module_version": "1.2.0",
            "_view_name": "LayoutView",
            "align_content": null,
            "align_items": null,
            "align_self": null,
            "border": null,
            "bottom": null,
            "display": null,
            "flex": null,
            "flex_flow": null,
            "grid_area": null,
            "grid_auto_columns": null,
            "grid_auto_flow": null,
            "grid_auto_rows": null,
            "grid_column": null,
            "grid_gap": null,
            "grid_row": null,
            "grid_template_areas": null,
            "grid_template_columns": null,
            "grid_template_rows": null,
            "height": null,
            "justify_content": null,
            "justify_items": null,
            "left": null,
            "margin": null,
            "max_height": null,
            "max_width": null,
            "min_height": null,
            "min_width": null,
            "object_fit": null,
            "object_position": null,
            "order": null,
            "overflow": null,
            "overflow_x": null,
            "overflow_y": null,
            "padding": null,
            "right": null,
            "top": null,
            "visibility": null,
            "width": null
          }
        },
        "a5632404289d4fec868acdc9de826eb1": {
          "model_module": "@jupyter-widgets/controls",
          "model_name": "DescriptionStyleModel",
          "model_module_version": "1.5.0",
          "state": {
            "_model_module": "@jupyter-widgets/controls",
            "_model_module_version": "1.5.0",
            "_model_name": "DescriptionStyleModel",
            "_view_count": null,
            "_view_module": "@jupyter-widgets/base",
            "_view_module_version": "1.2.0",
            "_view_name": "StyleView",
            "description_width": ""
          }
        },
        "8b03c04c7c0042d4a81743a3ac71aa73": {
          "model_module": "@jupyter-widgets/controls",
          "model_name": "HBoxModel",
          "model_module_version": "1.5.0",
          "state": {
            "_dom_classes": [],
            "_model_module": "@jupyter-widgets/controls",
            "_model_module_version": "1.5.0",
            "_model_name": "HBoxModel",
            "_view_count": null,
            "_view_module": "@jupyter-widgets/controls",
            "_view_module_version": "1.5.0",
            "_view_name": "HBoxView",
            "box_style": "",
            "children": [
              "IPY_MODEL_1839c704d3474d49bc2f5179616900c1",
              "IPY_MODEL_82c4ee7f780943a88e2fe2750eb7b99c",
              "IPY_MODEL_ed123b5728bc42d88dec5d641b001ee9"
            ],
            "layout": "IPY_MODEL_9bbf60edfe904453a06d306cef5333e7"
          }
        },
        "1839c704d3474d49bc2f5179616900c1": {
          "model_module": "@jupyter-widgets/controls",
          "model_name": "HTMLModel",
          "model_module_version": "1.5.0",
          "state": {
            "_dom_classes": [],
            "_model_module": "@jupyter-widgets/controls",
            "_model_module_version": "1.5.0",
            "_model_name": "HTMLModel",
            "_view_count": null,
            "_view_module": "@jupyter-widgets/controls",
            "_view_module_version": "1.5.0",
            "_view_name": "HTMLView",
            "description": "",
            "description_tooltip": null,
            "layout": "IPY_MODEL_6d0e605264624bf9aa0210d209348d59",
            "placeholder": "​",
            "style": "IPY_MODEL_2fbdf9ad691a4e648599d1b5748ffaf8",
            "value": "100%"
          }
        },
        "82c4ee7f780943a88e2fe2750eb7b99c": {
          "model_module": "@jupyter-widgets/controls",
          "model_name": "FloatProgressModel",
          "model_module_version": "1.5.0",
          "state": {
            "_dom_classes": [],
            "_model_module": "@jupyter-widgets/controls",
            "_model_module_version": "1.5.0",
            "_model_name": "FloatProgressModel",
            "_view_count": null,
            "_view_module": "@jupyter-widgets/controls",
            "_view_module_version": "1.5.0",
            "_view_name": "ProgressView",
            "bar_style": "success",
            "description": "",
            "description_tooltip": null,
            "layout": "IPY_MODEL_5ff158c5964d43b4b724c105a0d11fd9",
            "max": 5,
            "min": 0,
            "orientation": "horizontal",
            "style": "IPY_MODEL_a98cee03c81b4529ac726bdf414235db",
            "value": 5
          }
        },
        "ed123b5728bc42d88dec5d641b001ee9": {
          "model_module": "@jupyter-widgets/controls",
          "model_name": "HTMLModel",
          "model_module_version": "1.5.0",
          "state": {
            "_dom_classes": [],
            "_model_module": "@jupyter-widgets/controls",
            "_model_module_version": "1.5.0",
            "_model_name": "HTMLModel",
            "_view_count": null,
            "_view_module": "@jupyter-widgets/controls",
            "_view_module_version": "1.5.0",
            "_view_name": "HTMLView",
            "description": "",
            "description_tooltip": null,
            "layout": "IPY_MODEL_3783a045bc8441b8920171aa47c2809f",
            "placeholder": "​",
            "style": "IPY_MODEL_a63aed13ec914ad9b8c0ee05ccf3f6da",
            "value": " 5/5 [10:02&lt;00:00, 120.57s/it]"
          }
        },
        "9bbf60edfe904453a06d306cef5333e7": {
          "model_module": "@jupyter-widgets/base",
          "model_name": "LayoutModel",
          "model_module_version": "1.2.0",
          "state": {
            "_model_module": "@jupyter-widgets/base",
            "_model_module_version": "1.2.0",
            "_model_name": "LayoutModel",
            "_view_count": null,
            "_view_module": "@jupyter-widgets/base",
            "_view_module_version": "1.2.0",
            "_view_name": "LayoutView",
            "align_content": null,
            "align_items": null,
            "align_self": null,
            "border": null,
            "bottom": null,
            "display": null,
            "flex": null,
            "flex_flow": null,
            "grid_area": null,
            "grid_auto_columns": null,
            "grid_auto_flow": null,
            "grid_auto_rows": null,
            "grid_column": null,
            "grid_gap": null,
            "grid_row": null,
            "grid_template_areas": null,
            "grid_template_columns": null,
            "grid_template_rows": null,
            "height": null,
            "justify_content": null,
            "justify_items": null,
            "left": null,
            "margin": null,
            "max_height": null,
            "max_width": null,
            "min_height": null,
            "min_width": null,
            "object_fit": null,
            "object_position": null,
            "order": null,
            "overflow": null,
            "overflow_x": null,
            "overflow_y": null,
            "padding": null,
            "right": null,
            "top": null,
            "visibility": null,
            "width": null
          }
        },
        "6d0e605264624bf9aa0210d209348d59": {
          "model_module": "@jupyter-widgets/base",
          "model_name": "LayoutModel",
          "model_module_version": "1.2.0",
          "state": {
            "_model_module": "@jupyter-widgets/base",
            "_model_module_version": "1.2.0",
            "_model_name": "LayoutModel",
            "_view_count": null,
            "_view_module": "@jupyter-widgets/base",
            "_view_module_version": "1.2.0",
            "_view_name": "LayoutView",
            "align_content": null,
            "align_items": null,
            "align_self": null,
            "border": null,
            "bottom": null,
            "display": null,
            "flex": null,
            "flex_flow": null,
            "grid_area": null,
            "grid_auto_columns": null,
            "grid_auto_flow": null,
            "grid_auto_rows": null,
            "grid_column": null,
            "grid_gap": null,
            "grid_row": null,
            "grid_template_areas": null,
            "grid_template_columns": null,
            "grid_template_rows": null,
            "height": null,
            "justify_content": null,
            "justify_items": null,
            "left": null,
            "margin": null,
            "max_height": null,
            "max_width": null,
            "min_height": null,
            "min_width": null,
            "object_fit": null,
            "object_position": null,
            "order": null,
            "overflow": null,
            "overflow_x": null,
            "overflow_y": null,
            "padding": null,
            "right": null,
            "top": null,
            "visibility": null,
            "width": null
          }
        },
        "2fbdf9ad691a4e648599d1b5748ffaf8": {
          "model_module": "@jupyter-widgets/controls",
          "model_name": "DescriptionStyleModel",
          "model_module_version": "1.5.0",
          "state": {
            "_model_module": "@jupyter-widgets/controls",
            "_model_module_version": "1.5.0",
            "_model_name": "DescriptionStyleModel",
            "_view_count": null,
            "_view_module": "@jupyter-widgets/base",
            "_view_module_version": "1.2.0",
            "_view_name": "StyleView",
            "description_width": ""
          }
        },
        "5ff158c5964d43b4b724c105a0d11fd9": {
          "model_module": "@jupyter-widgets/base",
          "model_name": "LayoutModel",
          "model_module_version": "1.2.0",
          "state": {
            "_model_module": "@jupyter-widgets/base",
            "_model_module_version": "1.2.0",
            "_model_name": "LayoutModel",
            "_view_count": null,
            "_view_module": "@jupyter-widgets/base",
            "_view_module_version": "1.2.0",
            "_view_name": "LayoutView",
            "align_content": null,
            "align_items": null,
            "align_self": null,
            "border": null,
            "bottom": null,
            "display": null,
            "flex": null,
            "flex_flow": null,
            "grid_area": null,
            "grid_auto_columns": null,
            "grid_auto_flow": null,
            "grid_auto_rows": null,
            "grid_column": null,
            "grid_gap": null,
            "grid_row": null,
            "grid_template_areas": null,
            "grid_template_columns": null,
            "grid_template_rows": null,
            "height": null,
            "justify_content": null,
            "justify_items": null,
            "left": null,
            "margin": null,
            "max_height": null,
            "max_width": null,
            "min_height": null,
            "min_width": null,
            "object_fit": null,
            "object_position": null,
            "order": null,
            "overflow": null,
            "overflow_x": null,
            "overflow_y": null,
            "padding": null,
            "right": null,
            "top": null,
            "visibility": null,
            "width": null
          }
        },
        "a98cee03c81b4529ac726bdf414235db": {
          "model_module": "@jupyter-widgets/controls",
          "model_name": "ProgressStyleModel",
          "model_module_version": "1.5.0",
          "state": {
            "_model_module": "@jupyter-widgets/controls",
            "_model_module_version": "1.5.0",
            "_model_name": "ProgressStyleModel",
            "_view_count": null,
            "_view_module": "@jupyter-widgets/base",
            "_view_module_version": "1.2.0",
            "_view_name": "StyleView",
            "bar_color": null,
            "description_width": ""
          }
        },
        "3783a045bc8441b8920171aa47c2809f": {
          "model_module": "@jupyter-widgets/base",
          "model_name": "LayoutModel",
          "model_module_version": "1.2.0",
          "state": {
            "_model_module": "@jupyter-widgets/base",
            "_model_module_version": "1.2.0",
            "_model_name": "LayoutModel",
            "_view_count": null,
            "_view_module": "@jupyter-widgets/base",
            "_view_module_version": "1.2.0",
            "_view_name": "LayoutView",
            "align_content": null,
            "align_items": null,
            "align_self": null,
            "border": null,
            "bottom": null,
            "display": null,
            "flex": null,
            "flex_flow": null,
            "grid_area": null,
            "grid_auto_columns": null,
            "grid_auto_flow": null,
            "grid_auto_rows": null,
            "grid_column": null,
            "grid_gap": null,
            "grid_row": null,
            "grid_template_areas": null,
            "grid_template_columns": null,
            "grid_template_rows": null,
            "height": null,
            "justify_content": null,
            "justify_items": null,
            "left": null,
            "margin": null,
            "max_height": null,
            "max_width": null,
            "min_height": null,
            "min_width": null,
            "object_fit": null,
            "object_position": null,
            "order": null,
            "overflow": null,
            "overflow_x": null,
            "overflow_y": null,
            "padding": null,
            "right": null,
            "top": null,
            "visibility": null,
            "width": null
          }
        },
        "a63aed13ec914ad9b8c0ee05ccf3f6da": {
          "model_module": "@jupyter-widgets/controls",
          "model_name": "DescriptionStyleModel",
          "model_module_version": "1.5.0",
          "state": {
            "_model_module": "@jupyter-widgets/controls",
            "_model_module_version": "1.5.0",
            "_model_name": "DescriptionStyleModel",
            "_view_count": null,
            "_view_module": "@jupyter-widgets/base",
            "_view_module_version": "1.2.0",
            "_view_name": "StyleView",
            "description_width": ""
          }
        },
        "b836ad8de9424da59702d3b14575c048": {
          "model_module": "@jupyter-widgets/controls",
          "model_name": "HBoxModel",
          "model_module_version": "1.5.0",
          "state": {
            "_dom_classes": [],
            "_model_module": "@jupyter-widgets/controls",
            "_model_module_version": "1.5.0",
            "_model_name": "HBoxModel",
            "_view_count": null,
            "_view_module": "@jupyter-widgets/controls",
            "_view_module_version": "1.5.0",
            "_view_name": "HBoxView",
            "box_style": "",
            "children": [
              "IPY_MODEL_bdbc4f6a159146afa02d847f1196fb92",
              "IPY_MODEL_68a3f4288328476384cd056aa724b623",
              "IPY_MODEL_715a76ff9c5845f8ad5b8280f00fa014"
            ],
            "layout": "IPY_MODEL_38a99b3a3ace41bcabedf09393789c1f"
          }
        },
        "bdbc4f6a159146afa02d847f1196fb92": {
          "model_module": "@jupyter-widgets/controls",
          "model_name": "HTMLModel",
          "model_module_version": "1.5.0",
          "state": {
            "_dom_classes": [],
            "_model_module": "@jupyter-widgets/controls",
            "_model_module_version": "1.5.0",
            "_model_name": "HTMLModel",
            "_view_count": null,
            "_view_module": "@jupyter-widgets/controls",
            "_view_module_version": "1.5.0",
            "_view_name": "HTMLView",
            "description": "",
            "description_tooltip": null,
            "layout": "IPY_MODEL_20897e231bb944a6976e41b612c1ef69",
            "placeholder": "​",
            "style": "IPY_MODEL_5d9cf5eafa98402eae1f096d22877fb1",
            "value": "100%"
          }
        },
        "68a3f4288328476384cd056aa724b623": {
          "model_module": "@jupyter-widgets/controls",
          "model_name": "FloatProgressModel",
          "model_module_version": "1.5.0",
          "state": {
            "_dom_classes": [],
            "_model_module": "@jupyter-widgets/controls",
            "_model_module_version": "1.5.0",
            "_model_name": "FloatProgressModel",
            "_view_count": null,
            "_view_module": "@jupyter-widgets/controls",
            "_view_module_version": "1.5.0",
            "_view_name": "ProgressView",
            "bar_style": "success",
            "description": "",
            "description_tooltip": null,
            "layout": "IPY_MODEL_e2a3ff0f904e40f8bd03d09570c8b299",
            "max": 5,
            "min": 0,
            "orientation": "horizontal",
            "style": "IPY_MODEL_9126a52b45d24af4a335b28894c41dbf",
            "value": 5
          }
        },
        "715a76ff9c5845f8ad5b8280f00fa014": {
          "model_module": "@jupyter-widgets/controls",
          "model_name": "HTMLModel",
          "model_module_version": "1.5.0",
          "state": {
            "_dom_classes": [],
            "_model_module": "@jupyter-widgets/controls",
            "_model_module_version": "1.5.0",
            "_model_name": "HTMLModel",
            "_view_count": null,
            "_view_module": "@jupyter-widgets/controls",
            "_view_module_version": "1.5.0",
            "_view_name": "HTMLView",
            "description": "",
            "description_tooltip": null,
            "layout": "IPY_MODEL_34bdd60996384c41b36bd2d857615f2e",
            "placeholder": "​",
            "style": "IPY_MODEL_cc8b1146d137414097650c9ff1412797",
            "value": " 5/5 [10:16&lt;00:00, 123.66s/it]"
          }
        },
        "38a99b3a3ace41bcabedf09393789c1f": {
          "model_module": "@jupyter-widgets/base",
          "model_name": "LayoutModel",
          "model_module_version": "1.2.0",
          "state": {
            "_model_module": "@jupyter-widgets/base",
            "_model_module_version": "1.2.0",
            "_model_name": "LayoutModel",
            "_view_count": null,
            "_view_module": "@jupyter-widgets/base",
            "_view_module_version": "1.2.0",
            "_view_name": "LayoutView",
            "align_content": null,
            "align_items": null,
            "align_self": null,
            "border": null,
            "bottom": null,
            "display": null,
            "flex": null,
            "flex_flow": null,
            "grid_area": null,
            "grid_auto_columns": null,
            "grid_auto_flow": null,
            "grid_auto_rows": null,
            "grid_column": null,
            "grid_gap": null,
            "grid_row": null,
            "grid_template_areas": null,
            "grid_template_columns": null,
            "grid_template_rows": null,
            "height": null,
            "justify_content": null,
            "justify_items": null,
            "left": null,
            "margin": null,
            "max_height": null,
            "max_width": null,
            "min_height": null,
            "min_width": null,
            "object_fit": null,
            "object_position": null,
            "order": null,
            "overflow": null,
            "overflow_x": null,
            "overflow_y": null,
            "padding": null,
            "right": null,
            "top": null,
            "visibility": null,
            "width": null
          }
        },
        "20897e231bb944a6976e41b612c1ef69": {
          "model_module": "@jupyter-widgets/base",
          "model_name": "LayoutModel",
          "model_module_version": "1.2.0",
          "state": {
            "_model_module": "@jupyter-widgets/base",
            "_model_module_version": "1.2.0",
            "_model_name": "LayoutModel",
            "_view_count": null,
            "_view_module": "@jupyter-widgets/base",
            "_view_module_version": "1.2.0",
            "_view_name": "LayoutView",
            "align_content": null,
            "align_items": null,
            "align_self": null,
            "border": null,
            "bottom": null,
            "display": null,
            "flex": null,
            "flex_flow": null,
            "grid_area": null,
            "grid_auto_columns": null,
            "grid_auto_flow": null,
            "grid_auto_rows": null,
            "grid_column": null,
            "grid_gap": null,
            "grid_row": null,
            "grid_template_areas": null,
            "grid_template_columns": null,
            "grid_template_rows": null,
            "height": null,
            "justify_content": null,
            "justify_items": null,
            "left": null,
            "margin": null,
            "max_height": null,
            "max_width": null,
            "min_height": null,
            "min_width": null,
            "object_fit": null,
            "object_position": null,
            "order": null,
            "overflow": null,
            "overflow_x": null,
            "overflow_y": null,
            "padding": null,
            "right": null,
            "top": null,
            "visibility": null,
            "width": null
          }
        },
        "5d9cf5eafa98402eae1f096d22877fb1": {
          "model_module": "@jupyter-widgets/controls",
          "model_name": "DescriptionStyleModel",
          "model_module_version": "1.5.0",
          "state": {
            "_model_module": "@jupyter-widgets/controls",
            "_model_module_version": "1.5.0",
            "_model_name": "DescriptionStyleModel",
            "_view_count": null,
            "_view_module": "@jupyter-widgets/base",
            "_view_module_version": "1.2.0",
            "_view_name": "StyleView",
            "description_width": ""
          }
        },
        "e2a3ff0f904e40f8bd03d09570c8b299": {
          "model_module": "@jupyter-widgets/base",
          "model_name": "LayoutModel",
          "model_module_version": "1.2.0",
          "state": {
            "_model_module": "@jupyter-widgets/base",
            "_model_module_version": "1.2.0",
            "_model_name": "LayoutModel",
            "_view_count": null,
            "_view_module": "@jupyter-widgets/base",
            "_view_module_version": "1.2.0",
            "_view_name": "LayoutView",
            "align_content": null,
            "align_items": null,
            "align_self": null,
            "border": null,
            "bottom": null,
            "display": null,
            "flex": null,
            "flex_flow": null,
            "grid_area": null,
            "grid_auto_columns": null,
            "grid_auto_flow": null,
            "grid_auto_rows": null,
            "grid_column": null,
            "grid_gap": null,
            "grid_row": null,
            "grid_template_areas": null,
            "grid_template_columns": null,
            "grid_template_rows": null,
            "height": null,
            "justify_content": null,
            "justify_items": null,
            "left": null,
            "margin": null,
            "max_height": null,
            "max_width": null,
            "min_height": null,
            "min_width": null,
            "object_fit": null,
            "object_position": null,
            "order": null,
            "overflow": null,
            "overflow_x": null,
            "overflow_y": null,
            "padding": null,
            "right": null,
            "top": null,
            "visibility": null,
            "width": null
          }
        },
        "9126a52b45d24af4a335b28894c41dbf": {
          "model_module": "@jupyter-widgets/controls",
          "model_name": "ProgressStyleModel",
          "model_module_version": "1.5.0",
          "state": {
            "_model_module": "@jupyter-widgets/controls",
            "_model_module_version": "1.5.0",
            "_model_name": "ProgressStyleModel",
            "_view_count": null,
            "_view_module": "@jupyter-widgets/base",
            "_view_module_version": "1.2.0",
            "_view_name": "StyleView",
            "bar_color": null,
            "description_width": ""
          }
        },
        "34bdd60996384c41b36bd2d857615f2e": {
          "model_module": "@jupyter-widgets/base",
          "model_name": "LayoutModel",
          "model_module_version": "1.2.0",
          "state": {
            "_model_module": "@jupyter-widgets/base",
            "_model_module_version": "1.2.0",
            "_model_name": "LayoutModel",
            "_view_count": null,
            "_view_module": "@jupyter-widgets/base",
            "_view_module_version": "1.2.0",
            "_view_name": "LayoutView",
            "align_content": null,
            "align_items": null,
            "align_self": null,
            "border": null,
            "bottom": null,
            "display": null,
            "flex": null,
            "flex_flow": null,
            "grid_area": null,
            "grid_auto_columns": null,
            "grid_auto_flow": null,
            "grid_auto_rows": null,
            "grid_column": null,
            "grid_gap": null,
            "grid_row": null,
            "grid_template_areas": null,
            "grid_template_columns": null,
            "grid_template_rows": null,
            "height": null,
            "justify_content": null,
            "justify_items": null,
            "left": null,
            "margin": null,
            "max_height": null,
            "max_width": null,
            "min_height": null,
            "min_width": null,
            "object_fit": null,
            "object_position": null,
            "order": null,
            "overflow": null,
            "overflow_x": null,
            "overflow_y": null,
            "padding": null,
            "right": null,
            "top": null,
            "visibility": null,
            "width": null
          }
        },
        "cc8b1146d137414097650c9ff1412797": {
          "model_module": "@jupyter-widgets/controls",
          "model_name": "DescriptionStyleModel",
          "model_module_version": "1.5.0",
          "state": {
            "_model_module": "@jupyter-widgets/controls",
            "_model_module_version": "1.5.0",
            "_model_name": "DescriptionStyleModel",
            "_view_count": null,
            "_view_module": "@jupyter-widgets/base",
            "_view_module_version": "1.2.0",
            "_view_name": "StyleView",
            "description_width": ""
          }
        },
        "2441a8531f744e2e9b9a936fea203a33": {
          "model_module": "@jupyter-widgets/controls",
          "model_name": "HBoxModel",
          "model_module_version": "1.5.0",
          "state": {
            "_dom_classes": [],
            "_model_module": "@jupyter-widgets/controls",
            "_model_module_version": "1.5.0",
            "_model_name": "HBoxModel",
            "_view_count": null,
            "_view_module": "@jupyter-widgets/controls",
            "_view_module_version": "1.5.0",
            "_view_name": "HBoxView",
            "box_style": "",
            "children": [
              "IPY_MODEL_a7bcad723fa74e289db66ed3d0f35294",
              "IPY_MODEL_afba8c65820e4a5ea648636b16aa27b4",
              "IPY_MODEL_247a6ab4133646ebb8c3bd4e5285f5f4"
            ],
            "layout": "IPY_MODEL_d3a18701d5a64311a4faa0673b8e5cee"
          }
        },
        "a7bcad723fa74e289db66ed3d0f35294": {
          "model_module": "@jupyter-widgets/controls",
          "model_name": "HTMLModel",
          "model_module_version": "1.5.0",
          "state": {
            "_dom_classes": [],
            "_model_module": "@jupyter-widgets/controls",
            "_model_module_version": "1.5.0",
            "_model_name": "HTMLModel",
            "_view_count": null,
            "_view_module": "@jupyter-widgets/controls",
            "_view_module_version": "1.5.0",
            "_view_name": "HTMLView",
            "description": "",
            "description_tooltip": null,
            "layout": "IPY_MODEL_be6ac6c7739e44d7851828cc9e371ced",
            "placeholder": "​",
            "style": "IPY_MODEL_ff23fb1af4ca46b1bfb7b58a4172298e",
            "value": "100%"
          }
        },
        "afba8c65820e4a5ea648636b16aa27b4": {
          "model_module": "@jupyter-widgets/controls",
          "model_name": "FloatProgressModel",
          "model_module_version": "1.5.0",
          "state": {
            "_dom_classes": [],
            "_model_module": "@jupyter-widgets/controls",
            "_model_module_version": "1.5.0",
            "_model_name": "FloatProgressModel",
            "_view_count": null,
            "_view_module": "@jupyter-widgets/controls",
            "_view_module_version": "1.5.0",
            "_view_name": "ProgressView",
            "bar_style": "success",
            "description": "",
            "description_tooltip": null,
            "layout": "IPY_MODEL_f00e12a8a83347f1b2c82509d1fdac9e",
            "max": 5,
            "min": 0,
            "orientation": "horizontal",
            "style": "IPY_MODEL_8d5b039cebde44f5bc0e22e0e0ffb360",
            "value": 5
          }
        },
        "247a6ab4133646ebb8c3bd4e5285f5f4": {
          "model_module": "@jupyter-widgets/controls",
          "model_name": "HTMLModel",
          "model_module_version": "1.5.0",
          "state": {
            "_dom_classes": [],
            "_model_module": "@jupyter-widgets/controls",
            "_model_module_version": "1.5.0",
            "_model_name": "HTMLModel",
            "_view_count": null,
            "_view_module": "@jupyter-widgets/controls",
            "_view_module_version": "1.5.0",
            "_view_name": "HTMLView",
            "description": "",
            "description_tooltip": null,
            "layout": "IPY_MODEL_c4046817f12c4eb084c1a2f399bb9967",
            "placeholder": "​",
            "style": "IPY_MODEL_a3e154523c4245db8b32e65f1a87e421",
            "value": " 5/5 [10:19&lt;00:00, 123.59s/it]"
          }
        },
        "d3a18701d5a64311a4faa0673b8e5cee": {
          "model_module": "@jupyter-widgets/base",
          "model_name": "LayoutModel",
          "model_module_version": "1.2.0",
          "state": {
            "_model_module": "@jupyter-widgets/base",
            "_model_module_version": "1.2.0",
            "_model_name": "LayoutModel",
            "_view_count": null,
            "_view_module": "@jupyter-widgets/base",
            "_view_module_version": "1.2.0",
            "_view_name": "LayoutView",
            "align_content": null,
            "align_items": null,
            "align_self": null,
            "border": null,
            "bottom": null,
            "display": null,
            "flex": null,
            "flex_flow": null,
            "grid_area": null,
            "grid_auto_columns": null,
            "grid_auto_flow": null,
            "grid_auto_rows": null,
            "grid_column": null,
            "grid_gap": null,
            "grid_row": null,
            "grid_template_areas": null,
            "grid_template_columns": null,
            "grid_template_rows": null,
            "height": null,
            "justify_content": null,
            "justify_items": null,
            "left": null,
            "margin": null,
            "max_height": null,
            "max_width": null,
            "min_height": null,
            "min_width": null,
            "object_fit": null,
            "object_position": null,
            "order": null,
            "overflow": null,
            "overflow_x": null,
            "overflow_y": null,
            "padding": null,
            "right": null,
            "top": null,
            "visibility": null,
            "width": null
          }
        },
        "be6ac6c7739e44d7851828cc9e371ced": {
          "model_module": "@jupyter-widgets/base",
          "model_name": "LayoutModel",
          "model_module_version": "1.2.0",
          "state": {
            "_model_module": "@jupyter-widgets/base",
            "_model_module_version": "1.2.0",
            "_model_name": "LayoutModel",
            "_view_count": null,
            "_view_module": "@jupyter-widgets/base",
            "_view_module_version": "1.2.0",
            "_view_name": "LayoutView",
            "align_content": null,
            "align_items": null,
            "align_self": null,
            "border": null,
            "bottom": null,
            "display": null,
            "flex": null,
            "flex_flow": null,
            "grid_area": null,
            "grid_auto_columns": null,
            "grid_auto_flow": null,
            "grid_auto_rows": null,
            "grid_column": null,
            "grid_gap": null,
            "grid_row": null,
            "grid_template_areas": null,
            "grid_template_columns": null,
            "grid_template_rows": null,
            "height": null,
            "justify_content": null,
            "justify_items": null,
            "left": null,
            "margin": null,
            "max_height": null,
            "max_width": null,
            "min_height": null,
            "min_width": null,
            "object_fit": null,
            "object_position": null,
            "order": null,
            "overflow": null,
            "overflow_x": null,
            "overflow_y": null,
            "padding": null,
            "right": null,
            "top": null,
            "visibility": null,
            "width": null
          }
        },
        "ff23fb1af4ca46b1bfb7b58a4172298e": {
          "model_module": "@jupyter-widgets/controls",
          "model_name": "DescriptionStyleModel",
          "model_module_version": "1.5.0",
          "state": {
            "_model_module": "@jupyter-widgets/controls",
            "_model_module_version": "1.5.0",
            "_model_name": "DescriptionStyleModel",
            "_view_count": null,
            "_view_module": "@jupyter-widgets/base",
            "_view_module_version": "1.2.0",
            "_view_name": "StyleView",
            "description_width": ""
          }
        },
        "f00e12a8a83347f1b2c82509d1fdac9e": {
          "model_module": "@jupyter-widgets/base",
          "model_name": "LayoutModel",
          "model_module_version": "1.2.0",
          "state": {
            "_model_module": "@jupyter-widgets/base",
            "_model_module_version": "1.2.0",
            "_model_name": "LayoutModel",
            "_view_count": null,
            "_view_module": "@jupyter-widgets/base",
            "_view_module_version": "1.2.0",
            "_view_name": "LayoutView",
            "align_content": null,
            "align_items": null,
            "align_self": null,
            "border": null,
            "bottom": null,
            "display": null,
            "flex": null,
            "flex_flow": null,
            "grid_area": null,
            "grid_auto_columns": null,
            "grid_auto_flow": null,
            "grid_auto_rows": null,
            "grid_column": null,
            "grid_gap": null,
            "grid_row": null,
            "grid_template_areas": null,
            "grid_template_columns": null,
            "grid_template_rows": null,
            "height": null,
            "justify_content": null,
            "justify_items": null,
            "left": null,
            "margin": null,
            "max_height": null,
            "max_width": null,
            "min_height": null,
            "min_width": null,
            "object_fit": null,
            "object_position": null,
            "order": null,
            "overflow": null,
            "overflow_x": null,
            "overflow_y": null,
            "padding": null,
            "right": null,
            "top": null,
            "visibility": null,
            "width": null
          }
        },
        "8d5b039cebde44f5bc0e22e0e0ffb360": {
          "model_module": "@jupyter-widgets/controls",
          "model_name": "ProgressStyleModel",
          "model_module_version": "1.5.0",
          "state": {
            "_model_module": "@jupyter-widgets/controls",
            "_model_module_version": "1.5.0",
            "_model_name": "ProgressStyleModel",
            "_view_count": null,
            "_view_module": "@jupyter-widgets/base",
            "_view_module_version": "1.2.0",
            "_view_name": "StyleView",
            "bar_color": null,
            "description_width": ""
          }
        },
        "c4046817f12c4eb084c1a2f399bb9967": {
          "model_module": "@jupyter-widgets/base",
          "model_name": "LayoutModel",
          "model_module_version": "1.2.0",
          "state": {
            "_model_module": "@jupyter-widgets/base",
            "_model_module_version": "1.2.0",
            "_model_name": "LayoutModel",
            "_view_count": null,
            "_view_module": "@jupyter-widgets/base",
            "_view_module_version": "1.2.0",
            "_view_name": "LayoutView",
            "align_content": null,
            "align_items": null,
            "align_self": null,
            "border": null,
            "bottom": null,
            "display": null,
            "flex": null,
            "flex_flow": null,
            "grid_area": null,
            "grid_auto_columns": null,
            "grid_auto_flow": null,
            "grid_auto_rows": null,
            "grid_column": null,
            "grid_gap": null,
            "grid_row": null,
            "grid_template_areas": null,
            "grid_template_columns": null,
            "grid_template_rows": null,
            "height": null,
            "justify_content": null,
            "justify_items": null,
            "left": null,
            "margin": null,
            "max_height": null,
            "max_width": null,
            "min_height": null,
            "min_width": null,
            "object_fit": null,
            "object_position": null,
            "order": null,
            "overflow": null,
            "overflow_x": null,
            "overflow_y": null,
            "padding": null,
            "right": null,
            "top": null,
            "visibility": null,
            "width": null
          }
        },
        "a3e154523c4245db8b32e65f1a87e421": {
          "model_module": "@jupyter-widgets/controls",
          "model_name": "DescriptionStyleModel",
          "model_module_version": "1.5.0",
          "state": {
            "_model_module": "@jupyter-widgets/controls",
            "_model_module_version": "1.5.0",
            "_model_name": "DescriptionStyleModel",
            "_view_count": null,
            "_view_module": "@jupyter-widgets/base",
            "_view_module_version": "1.2.0",
            "_view_name": "StyleView",
            "description_width": ""
          }
        },
        "2140aeabe50f4eb69b5420eaa6cf62f7": {
          "model_module": "@jupyter-widgets/controls",
          "model_name": "HBoxModel",
          "model_module_version": "1.5.0",
          "state": {
            "_dom_classes": [],
            "_model_module": "@jupyter-widgets/controls",
            "_model_module_version": "1.5.0",
            "_model_name": "HBoxModel",
            "_view_count": null,
            "_view_module": "@jupyter-widgets/controls",
            "_view_module_version": "1.5.0",
            "_view_name": "HBoxView",
            "box_style": "",
            "children": [
              "IPY_MODEL_0877fcf84a614d8dab01de1322f83b00",
              "IPY_MODEL_24e8f0c30da5486184f2cb80abb7e664",
              "IPY_MODEL_7e2198f9cd954614acd0373d055ba413"
            ],
            "layout": "IPY_MODEL_44adeef49a4c4c63b5f1f9d5f52eadcc"
          }
        },
        "0877fcf84a614d8dab01de1322f83b00": {
          "model_module": "@jupyter-widgets/controls",
          "model_name": "HTMLModel",
          "model_module_version": "1.5.0",
          "state": {
            "_dom_classes": [],
            "_model_module": "@jupyter-widgets/controls",
            "_model_module_version": "1.5.0",
            "_model_name": "HTMLModel",
            "_view_count": null,
            "_view_module": "@jupyter-widgets/controls",
            "_view_module_version": "1.5.0",
            "_view_name": "HTMLView",
            "description": "",
            "description_tooltip": null,
            "layout": "IPY_MODEL_35ed4709409e4573ad582a047f7a8640",
            "placeholder": "​",
            "style": "IPY_MODEL_68a9166b92864681bfe81b25c0c9669a",
            "value": "100%"
          }
        },
        "24e8f0c30da5486184f2cb80abb7e664": {
          "model_module": "@jupyter-widgets/controls",
          "model_name": "FloatProgressModel",
          "model_module_version": "1.5.0",
          "state": {
            "_dom_classes": [],
            "_model_module": "@jupyter-widgets/controls",
            "_model_module_version": "1.5.0",
            "_model_name": "FloatProgressModel",
            "_view_count": null,
            "_view_module": "@jupyter-widgets/controls",
            "_view_module_version": "1.5.0",
            "_view_name": "ProgressView",
            "bar_style": "success",
            "description": "",
            "description_tooltip": null,
            "layout": "IPY_MODEL_0470d3498e564bd880ad3361cc7ca85d",
            "max": 5,
            "min": 0,
            "orientation": "horizontal",
            "style": "IPY_MODEL_1fddafef94774ce796069eed77247910",
            "value": 5
          }
        },
        "7e2198f9cd954614acd0373d055ba413": {
          "model_module": "@jupyter-widgets/controls",
          "model_name": "HTMLModel",
          "model_module_version": "1.5.0",
          "state": {
            "_dom_classes": [],
            "_model_module": "@jupyter-widgets/controls",
            "_model_module_version": "1.5.0",
            "_model_name": "HTMLModel",
            "_view_count": null,
            "_view_module": "@jupyter-widgets/controls",
            "_view_module_version": "1.5.0",
            "_view_name": "HTMLView",
            "description": "",
            "description_tooltip": null,
            "layout": "IPY_MODEL_26114ed20d284bb99cbc1c6b120fd5f5",
            "placeholder": "​",
            "style": "IPY_MODEL_b7312017f35048ef98497d4bbda60b14",
            "value": " 5/5 [10:26&lt;00:00, 125.79s/it]"
          }
        },
        "44adeef49a4c4c63b5f1f9d5f52eadcc": {
          "model_module": "@jupyter-widgets/base",
          "model_name": "LayoutModel",
          "model_module_version": "1.2.0",
          "state": {
            "_model_module": "@jupyter-widgets/base",
            "_model_module_version": "1.2.0",
            "_model_name": "LayoutModel",
            "_view_count": null,
            "_view_module": "@jupyter-widgets/base",
            "_view_module_version": "1.2.0",
            "_view_name": "LayoutView",
            "align_content": null,
            "align_items": null,
            "align_self": null,
            "border": null,
            "bottom": null,
            "display": null,
            "flex": null,
            "flex_flow": null,
            "grid_area": null,
            "grid_auto_columns": null,
            "grid_auto_flow": null,
            "grid_auto_rows": null,
            "grid_column": null,
            "grid_gap": null,
            "grid_row": null,
            "grid_template_areas": null,
            "grid_template_columns": null,
            "grid_template_rows": null,
            "height": null,
            "justify_content": null,
            "justify_items": null,
            "left": null,
            "margin": null,
            "max_height": null,
            "max_width": null,
            "min_height": null,
            "min_width": null,
            "object_fit": null,
            "object_position": null,
            "order": null,
            "overflow": null,
            "overflow_x": null,
            "overflow_y": null,
            "padding": null,
            "right": null,
            "top": null,
            "visibility": null,
            "width": null
          }
        },
        "35ed4709409e4573ad582a047f7a8640": {
          "model_module": "@jupyter-widgets/base",
          "model_name": "LayoutModel",
          "model_module_version": "1.2.0",
          "state": {
            "_model_module": "@jupyter-widgets/base",
            "_model_module_version": "1.2.0",
            "_model_name": "LayoutModel",
            "_view_count": null,
            "_view_module": "@jupyter-widgets/base",
            "_view_module_version": "1.2.0",
            "_view_name": "LayoutView",
            "align_content": null,
            "align_items": null,
            "align_self": null,
            "border": null,
            "bottom": null,
            "display": null,
            "flex": null,
            "flex_flow": null,
            "grid_area": null,
            "grid_auto_columns": null,
            "grid_auto_flow": null,
            "grid_auto_rows": null,
            "grid_column": null,
            "grid_gap": null,
            "grid_row": null,
            "grid_template_areas": null,
            "grid_template_columns": null,
            "grid_template_rows": null,
            "height": null,
            "justify_content": null,
            "justify_items": null,
            "left": null,
            "margin": null,
            "max_height": null,
            "max_width": null,
            "min_height": null,
            "min_width": null,
            "object_fit": null,
            "object_position": null,
            "order": null,
            "overflow": null,
            "overflow_x": null,
            "overflow_y": null,
            "padding": null,
            "right": null,
            "top": null,
            "visibility": null,
            "width": null
          }
        },
        "68a9166b92864681bfe81b25c0c9669a": {
          "model_module": "@jupyter-widgets/controls",
          "model_name": "DescriptionStyleModel",
          "model_module_version": "1.5.0",
          "state": {
            "_model_module": "@jupyter-widgets/controls",
            "_model_module_version": "1.5.0",
            "_model_name": "DescriptionStyleModel",
            "_view_count": null,
            "_view_module": "@jupyter-widgets/base",
            "_view_module_version": "1.2.0",
            "_view_name": "StyleView",
            "description_width": ""
          }
        },
        "0470d3498e564bd880ad3361cc7ca85d": {
          "model_module": "@jupyter-widgets/base",
          "model_name": "LayoutModel",
          "model_module_version": "1.2.0",
          "state": {
            "_model_module": "@jupyter-widgets/base",
            "_model_module_version": "1.2.0",
            "_model_name": "LayoutModel",
            "_view_count": null,
            "_view_module": "@jupyter-widgets/base",
            "_view_module_version": "1.2.0",
            "_view_name": "LayoutView",
            "align_content": null,
            "align_items": null,
            "align_self": null,
            "border": null,
            "bottom": null,
            "display": null,
            "flex": null,
            "flex_flow": null,
            "grid_area": null,
            "grid_auto_columns": null,
            "grid_auto_flow": null,
            "grid_auto_rows": null,
            "grid_column": null,
            "grid_gap": null,
            "grid_row": null,
            "grid_template_areas": null,
            "grid_template_columns": null,
            "grid_template_rows": null,
            "height": null,
            "justify_content": null,
            "justify_items": null,
            "left": null,
            "margin": null,
            "max_height": null,
            "max_width": null,
            "min_height": null,
            "min_width": null,
            "object_fit": null,
            "object_position": null,
            "order": null,
            "overflow": null,
            "overflow_x": null,
            "overflow_y": null,
            "padding": null,
            "right": null,
            "top": null,
            "visibility": null,
            "width": null
          }
        },
        "1fddafef94774ce796069eed77247910": {
          "model_module": "@jupyter-widgets/controls",
          "model_name": "ProgressStyleModel",
          "model_module_version": "1.5.0",
          "state": {
            "_model_module": "@jupyter-widgets/controls",
            "_model_module_version": "1.5.0",
            "_model_name": "ProgressStyleModel",
            "_view_count": null,
            "_view_module": "@jupyter-widgets/base",
            "_view_module_version": "1.2.0",
            "_view_name": "StyleView",
            "bar_color": null,
            "description_width": ""
          }
        },
        "26114ed20d284bb99cbc1c6b120fd5f5": {
          "model_module": "@jupyter-widgets/base",
          "model_name": "LayoutModel",
          "model_module_version": "1.2.0",
          "state": {
            "_model_module": "@jupyter-widgets/base",
            "_model_module_version": "1.2.0",
            "_model_name": "LayoutModel",
            "_view_count": null,
            "_view_module": "@jupyter-widgets/base",
            "_view_module_version": "1.2.0",
            "_view_name": "LayoutView",
            "align_content": null,
            "align_items": null,
            "align_self": null,
            "border": null,
            "bottom": null,
            "display": null,
            "flex": null,
            "flex_flow": null,
            "grid_area": null,
            "grid_auto_columns": null,
            "grid_auto_flow": null,
            "grid_auto_rows": null,
            "grid_column": null,
            "grid_gap": null,
            "grid_row": null,
            "grid_template_areas": null,
            "grid_template_columns": null,
            "grid_template_rows": null,
            "height": null,
            "justify_content": null,
            "justify_items": null,
            "left": null,
            "margin": null,
            "max_height": null,
            "max_width": null,
            "min_height": null,
            "min_width": null,
            "object_fit": null,
            "object_position": null,
            "order": null,
            "overflow": null,
            "overflow_x": null,
            "overflow_y": null,
            "padding": null,
            "right": null,
            "top": null,
            "visibility": null,
            "width": null
          }
        },
        "b7312017f35048ef98497d4bbda60b14": {
          "model_module": "@jupyter-widgets/controls",
          "model_name": "DescriptionStyleModel",
          "model_module_version": "1.5.0",
          "state": {
            "_model_module": "@jupyter-widgets/controls",
            "_model_module_version": "1.5.0",
            "_model_name": "DescriptionStyleModel",
            "_view_count": null,
            "_view_module": "@jupyter-widgets/base",
            "_view_module_version": "1.2.0",
            "_view_name": "StyleView",
            "description_width": ""
          }
        }
      }
    }
  },
  "nbformat": 4,
  "nbformat_minor": 0
}